{
  "cells": [
    {
      "attachments": {},
      "cell_type": "markdown",
      "metadata": {
        "id": "-FueR60PPdhB"
      },
      "source": [
        "# Programování pro střední školy"
      ]
    },
    {
      "cell_type": "markdown",
      "metadata": {
        "id": "A06-0F60KBcr"
      },
      "source": [
        "## Lekce 1: Základní operace\n"
      ]
    },
    {
      "attachments": {},
      "cell_type": "markdown",
      "metadata": {
        "id": "Tyn9KoXKPjiV"
      },
      "source": [
        "### Téma 1.1 Python jako kalkulačka\n",
        "\n",
        "Naše seznámení s jazykem Python začneme používáním aritmetických operací. Python umí následující aritmetické operace:\n",
        "* součet: +\n",
        "* rozdíl: -\n",
        "* součin: *\n",
        "* podíl: /\n",
        "* celočíselný podíl: //\n",
        "* zbytek po celočíselném dělení (tzv. modulo): %\n",
        "* mocnina: **"
      ]
    },
    {
      "cell_type": "markdown",
      "metadata": {
        "id": "1gJgd3l9ZHd-"
      },
      "source": [
        "Kód se píše v Editoru Google Colab do kódových buněk do řádků. Obsahu řádku říkáme výraz a poslední výraz v buňce se vypíše na obrazovku. Můžeme si vyzkoušet spustit následující buňku, která vyhodnotí výraz `2 + 3` a výsledek tohoto výrazu vypíše na obrazovku. Spuštění buňky se provádí ikonkou připomínající tlačítko s názvem Play na domácích spotřebičích."
      ]
    },
    {
      "cell_type": "code",
      "execution_count": null,
      "metadata": {
        "colab": {
          "base_uri": "https://localhost:8080/"
        },
        "id": "dph1l3T5deaH",
        "outputId": "2fa284e8-22a0-4cf9-cf03-5beeaebb374f"
      },
      "outputs": [
        {
          "data": {
            "text/plain": [
              "5"
            ]
          },
          "execution_count": 1,
          "metadata": {},
          "output_type": "execute_result"
        }
      ],
      "source": [
        "2 + 3"
      ]
    },
    {
      "cell_type": "markdown",
      "metadata": {
        "id": "1OcHQxX1ZqUS"
      },
      "source": [
        "Pokud obsahuje buňka více výrazů, tak na obrazovce vždy vidíme výsledek jen posledního. V příští lekci se naučíte zobrazit výsledek kteréhokoliv výrazu na obrazovku. Pro dnešní lekci budeme pracovat jen s výsledkem posledního výrazu."
      ]
    },
    {
      "cell_type": "code",
      "execution_count": null,
      "metadata": {
        "colab": {
          "base_uri": "https://localhost:8080/"
        },
        "id": "3muPm2BSZ6Ts",
        "outputId": "22134889-07fd-4021-dadb-13ded077df76"
      },
      "outputs": [
        {
          "data": {
            "text/plain": [
              "12"
            ]
          },
          "execution_count": 42,
          "metadata": {},
          "output_type": "execute_result"
        }
      ],
      "source": [
        "3 + 4\n",
        "2 + 10"
      ]
    },
    {
      "cell_type": "markdown",
      "metadata": {
        "id": "VhviB9XgdtOx"
      },
      "source": [
        "Pokud napíšete nějaký výraz špatně, pak Python vypíše tzv. výjimku (chybu = vyjímečný stav, který by neměl nastat). Nemusíte se ničeho bát i když výpis chyby vypadá strašidelně. V budoucích lekcích se naučíte s vyjímkami pracovat a budou vám sloužit jako pomocník pro nalezení problémů s vaším kódem."
      ]
    },
    {
      "cell_type": "code",
      "execution_count": null,
      "metadata": {
        "colab": {
          "base_uri": "https://localhost:8080/",
          "height": 133
        },
        "id": "-oZVEmXFeDgh",
        "outputId": "996ba98a-4236-4389-8be3-8a57cccc7f11"
      },
      "outputs": [
        {
          "ename": "SyntaxError",
          "evalue": "ignored",
          "output_type": "error",
          "traceback": [
            "\u001b[0;36m  File \u001b[0;32m\"<ipython-input-61-1a637eb9c307>\"\u001b[0;36m, line \u001b[0;32m1\u001b[0m\n\u001b[0;31m    2 +\u001b[0m\n\u001b[0m        ^\u001b[0m\n\u001b[0;31mSyntaxError\u001b[0m\u001b[0;31m:\u001b[0m invalid syntax\n"
          ]
        }
      ],
      "source": [
        "2 + "
      ]
    },
    {
      "attachments": {},
      "cell_type": "markdown",
      "metadata": {
        "id": "ompkHW0Ka0o1"
      },
      "source": [
        "#### Cvičení 1.1.1: Aritmetické operace\n",
        "\n",
        "Mějme čísla 5 a 3. Vytiskněte na obrazovku výsledky:\n",
        "* součet čísel 5 a 3\n",
        "* rozdíl čísel 5 a 3\n",
        "* součin čísel 5 a 3\n",
        "* podíl čísel 5 a 3"
      ]
    },
    {
      "cell_type": "code",
      "execution_count": null,
      "metadata": {
        "id": "cc9TWDQpbH1t"
      },
      "outputs": [],
      "source": []
    },
    {
      "cell_type": "code",
      "execution_count": null,
      "metadata": {
        "id": "qVz1Vcb8bRQO"
      },
      "outputs": [],
      "source": []
    },
    {
      "cell_type": "code",
      "execution_count": null,
      "metadata": {
        "id": "Ink9Ak9pbSPk"
      },
      "outputs": [],
      "source": []
    },
    {
      "cell_type": "code",
      "execution_count": null,
      "metadata": {
        "id": "lFJiYdQ1bT4e"
      },
      "outputs": [],
      "source": []
    },
    {
      "attachments": {},
      "cell_type": "markdown",
      "metadata": {
        "id": "F-I4preIbgJY"
      },
      "source": [
        "#### Cvičení 1.1.2: Celočíselný podíl\n",
        "\n",
        "Mějme následující dvojice čísel:\n",
        "* 5 a 1\n",
        "* 5 a 2\n",
        "* 5 a 3\n",
        "* 5 a 4\n",
        "* 5 a 5\n",
        "* 5 a 6\n",
        "\n",
        "Zkuste odhadnout, jaký bude výsledek celočíselného podílu čísel (první číslo je vždy dělenec a druhé dělitel) ověřte váš odhad zadáním výrazu do kódové buňky. Celočíselný podíl se provádí dvěma dopřednými lomítky //."
      ]
    },
    {
      "cell_type": "code",
      "execution_count": null,
      "metadata": {
        "id": "CftXGPdAbwLU"
      },
      "outputs": [],
      "source": []
    },
    {
      "cell_type": "code",
      "execution_count": null,
      "metadata": {
        "id": "CYa3lW_HcTCs"
      },
      "outputs": [],
      "source": []
    },
    {
      "cell_type": "code",
      "execution_count": null,
      "metadata": {
        "id": "F_kTQ4mRcUXD"
      },
      "outputs": [],
      "source": []
    },
    {
      "cell_type": "code",
      "execution_count": null,
      "metadata": {
        "id": "s8tnANtCcVuj"
      },
      "outputs": [],
      "source": []
    },
    {
      "cell_type": "code",
      "execution_count": null,
      "metadata": {
        "id": "bGafitgNcXYI"
      },
      "outputs": [],
      "source": []
    },
    {
      "cell_type": "code",
      "execution_count": null,
      "metadata": {
        "id": "Ju0lLuphcXg2"
      },
      "outputs": [],
      "source": []
    },
    {
      "attachments": {},
      "cell_type": "markdown",
      "metadata": {
        "id": "T1gpLw_rb5R7"
      },
      "source": [
        "#### Cvičení 1.1.3: Modulo\n",
        "\n",
        "Operace modulo slouží pro získání zbytku po celočíselném dělení. Operace modulo se provádí pomocí symbolu procenta % a uvádí se v pořadí dělenec % dělitel.\n",
        "\n",
        "Mějme následující dvojice čísel:\n",
        "* 5 a 1\n",
        "* 5 a 2\n",
        "* 5 a 3\n",
        "* 5 a 4\n",
        "* 5 a 5\n",
        "* 5 a 6\n",
        "\n",
        "Zkuste odhadnout, jaký bude zbytek po celočíselném podílu čísel (první číslo je vždy dělenec a druhé dělitel) ověřte váš odhad zadáním výrazu do kódové buňky. "
      ]
    },
    {
      "cell_type": "code",
      "execution_count": null,
      "metadata": {
        "id": "tCtP9vdDdOfl"
      },
      "outputs": [],
      "source": []
    },
    {
      "cell_type": "code",
      "execution_count": null,
      "metadata": {
        "id": "6RlhOnJsdXVC"
      },
      "outputs": [],
      "source": []
    },
    {
      "cell_type": "code",
      "execution_count": null,
      "metadata": {
        "id": "HgP6FpWOdZtW"
      },
      "outputs": [],
      "source": []
    },
    {
      "cell_type": "code",
      "execution_count": null,
      "metadata": {
        "id": "KCCQMd5adbhf"
      },
      "outputs": [],
      "source": []
    },
    {
      "cell_type": "code",
      "execution_count": null,
      "metadata": {
        "id": "fIh5_YnmdchR"
      },
      "outputs": [],
      "source": []
    },
    {
      "cell_type": "code",
      "execution_count": null,
      "metadata": {
        "id": "Benf8cgIdfOc"
      },
      "outputs": [],
      "source": []
    },
    {
      "attachments": {},
      "cell_type": "markdown",
      "metadata": {
        "id": "vOst9Mw6tXdQ"
      },
      "source": [
        "#### Cvičení 1.1.4: Mocniny dvojky\n",
        "\n",
        "Posledním výrazem, který se musíte naučit je mocnina. Mocnina se provádí pomocí dvou hvězdiček. Například 5 na třetí provedete jako 5**3. Ve světe informačních technologií jsou velice důležité mocniny dvojky. Vypište na obrazovku následující výsledky:\n",
        "\n",
        "* 2 na 0\n",
        "* 2 na 1\n",
        "* 2 na 2\n",
        "* 2 na 4\n",
        "* 2 na 8\n",
        "* 2 na 10"
      ]
    },
    {
      "cell_type": "code",
      "execution_count": null,
      "metadata": {
        "id": "fmCWbGMGtsFF"
      },
      "outputs": [],
      "source": []
    },
    {
      "cell_type": "code",
      "execution_count": null,
      "metadata": {
        "id": "SDyu4IsJttF_"
      },
      "outputs": [],
      "source": []
    },
    {
      "cell_type": "code",
      "execution_count": null,
      "metadata": {
        "id": "tm-9VD44tuFf"
      },
      "outputs": [],
      "source": []
    },
    {
      "cell_type": "code",
      "execution_count": null,
      "metadata": {
        "id": "_2A7zW7gtuyR"
      },
      "outputs": [],
      "source": []
    },
    {
      "cell_type": "code",
      "execution_count": null,
      "metadata": {
        "id": "9sI5ptjrtv9T"
      },
      "outputs": [],
      "source": []
    },
    {
      "cell_type": "code",
      "execution_count": null,
      "metadata": {
        "id": "sa5A_ZIWtxU3"
      },
      "outputs": [],
      "source": []
    },
    {
      "attachments": {},
      "cell_type": "markdown",
      "metadata": {
        "id": "Yur2pr53gosw"
      },
      "source": [
        "### Téma 1.2: Práce s desetinným číslem\n",
        "\n",
        "Kromě celých čísel (anglicky integer) potřebujeme během výpočtů pracovat i s čísly desetinnými (anglicky floating point number = float). V jazyce Python se místo desetinné čárky píše desetinná tečka. "
      ]
    },
    {
      "cell_type": "code",
      "execution_count": null,
      "metadata": {
        "colab": {
          "base_uri": "https://localhost:8080/"
        },
        "id": "ESQ42O3Bhlro",
        "outputId": "cf532d01-fd2c-4f0e-ce8e-30ecda14861c"
      },
      "outputs": [
        {
          "data": {
            "text/plain": [
              "3.5"
            ]
          },
          "execution_count": 62,
          "metadata": {},
          "output_type": "execute_result"
        }
      ],
      "source": [
        "1.2 + 2.3"
      ]
    },
    {
      "cell_type": "markdown",
      "metadata": {
        "id": "Mm6nWhmahnJE"
      },
      "source": [
        "Pokud provedeme aritmetickou operaci, kde jedno z čísel je celé a druhé desetinné, tak výsledek výrazu je desetinné číslo."
      ]
    },
    {
      "cell_type": "code",
      "execution_count": null,
      "metadata": {
        "colab": {
          "base_uri": "https://localhost:8080/"
        },
        "id": "LATH0O3-hwaC",
        "outputId": "098afd02-d100-4ff9-cb47-91b08c6b1ee1"
      },
      "outputs": [
        {
          "data": {
            "text/plain": [
              "7.35"
            ]
          },
          "execution_count": 63,
          "metadata": {},
          "output_type": "execute_result"
        }
      ],
      "source": [
        "2.35 + 5"
      ]
    },
    {
      "attachments": {},
      "cell_type": "markdown",
      "metadata": {
        "id": "ShArx6Gghzyh"
      },
      "source": [
        "#### Cvičení 1.2.1: Hustota Ebenového dřeva\n",
        "\n",
        "Ebenové dřevo má 2 krát větší hustotu než dřevo jedlové. 2,8 m3 jedlového dřeva váží 1,68 t. Spočítejte pomocí výrazu v jazyce Python jaká je hustota ebenového dřeva?\n",
        "\n"
      ]
    },
    {
      "cell_type": "code",
      "execution_count": null,
      "metadata": {
        "id": "qxNRW_HkiW4T"
      },
      "outputs": [],
      "source": []
    },
    {
      "attachments": {},
      "cell_type": "markdown",
      "metadata": {
        "id": "SQdIMH9ci1N_"
      },
      "source": [
        "#### Cvičení 1.2.2: Váha betonového sloupu\n",
        "\n",
        "Hustota betonu je 1800 kg/m3. Kolik váží betonový sloup ve tvaru kvádru o šírce 20cm, délce 25cm a výšce 5,5 m? Spočítejte pomocí výrazu v jazyce Python."
      ]
    },
    {
      "cell_type": "code",
      "execution_count": null,
      "metadata": {
        "id": "rkcJhjhgjJ5E"
      },
      "outputs": [],
      "source": []
    },
    {
      "attachments": {},
      "cell_type": "markdown",
      "metadata": {
        "id": "vpk7LZEujUYt"
      },
      "source": [
        "### Téma 1.3: Závorkování výrazů\n",
        "\n",
        "Aritmetické výrazy v jazyce Python se řídí pravidly matematiky jak jste zvyklí z vaší výuky. Proto je zapotřebí ve složitějších výrazech závorkovat. Pro závorkování se používají kulaté závorky `( )`. Složené závorky `{ }` a hranaté závorky `[ ]` budeme používat také v kódu, ale mají jiný význam.\n",
        "\n",
        "Zkuste odhadnout výsledek následujícího výrazu a poté si svůj odhad ověřte spuštěním kódu."
      ]
    },
    {
      "cell_type": "code",
      "execution_count": null,
      "metadata": {
        "colab": {
          "base_uri": "https://localhost:8080/"
        },
        "id": "QMbJR02SjYHT",
        "outputId": "539254d7-df54-4f85-e953-54580cb4e51c"
      },
      "outputs": [
        {
          "data": {
            "text/plain": [
              "-3"
            ]
          },
          "execution_count": 68,
          "metadata": {},
          "output_type": "execute_result"
        }
      ],
      "source": [
        "3 * (5 - 3 * 2)"
      ]
    },
    {
      "attachments": {},
      "cell_type": "markdown",
      "metadata": {
        "id": "htFJyFKQm9_g"
      },
      "source": [
        "#### Cvičení 1.3.1: Známka na vysvědčení\n",
        "\n",
        "Alena získala v aktuálním pololetí následující známky z informatiky: 1, 2, 1, 3, 2, 3. Na vysvědčení získá od vyučujícího průměrnou známku (aritmetická prúměr). Vypište na obrazovku výpočtem pomocí výrazu, jakou známku dostane na vysvědčení."
      ]
    },
    {
      "cell_type": "code",
      "execution_count": null,
      "metadata": {
        "id": "35dnUbvunU1d"
      },
      "outputs": [],
      "source": []
    },
    {
      "attachments": {},
      "cell_type": "markdown",
      "metadata": {
        "id": "B91DlVktkksl"
      },
      "source": [
        "#### Cvičení 1.3.2: Průměrná rychlost automobilu\n",
        "\n",
        "Závodní automobil projížděl vybranými úseky závodní dráhy, kde byla naměřena doba, kterou trvalo úsekem projet. Naměřená data byla následovná:\n",
        "* úsek 1, délka úseku = 100 m, doba = 5 s\n",
        "* úsek 2, délka úseku = 200 m, doba = 12 s\n",
        "* úsek 3, délka úseku = 150 m, doba = 8 s\n",
        "\n",
        "Spočítejte pomocí výrazu v jazyce Python průměrnou rychlost automobilu. Průměrná rychlost se počítá jako celková dráha podělená celkovým časem. Pozor ať si nespletete výpočet průměru z rychlostí. Výsledek vypište v km/h."
      ]
    },
    {
      "cell_type": "code",
      "execution_count": null,
      "metadata": {
        "id": "yEgqSRF5mVhg"
      },
      "outputs": [],
      "source": []
    },
    {
      "attachments": {},
      "cell_type": "markdown",
      "metadata": {
        "id": "OAevD9Q4g5F5"
      },
      "source": [
        "### Téma 1.4: Vědecký zápis čísel\n",
        "\n",
        "Některá čísla jsou příliš velká nebo naopak příliš malá pro pohodlný zápis. V Pythonu můžeme využít tzv. vědecký způsob zápisu čísel. Například:\n",
        "\n",
        "* 1E2 = 10 na druhou = 100\n",
        "* 5E5 = 5 krát 10 na pátou = 500 000\n",
        "* 2E-3 = 2 krát 10 na mínus 3 = 0.002\n",
        "* -1.602E-19 = -1.602 krát 10 na - 19 = náboj elektronu\n",
        "\n",
        "Zkusíme si spočítat, jakou silou se dva elektrony odpuzují na vzdálenost jednoho metru ve vakuu. Vzorec, který je zde napsaný naleznete [ZDE](https://www.wikiskripta.eu/w/Coulomb%C5%AFv_z%C3%A1kon_a_permitivita_prost%C5%99ed%C3%AD). Coulombova konstanta je rovna k = 9E9 N.m2.C-2\n"
      ]
    },
    {
      "cell_type": "code",
      "execution_count": null,
      "metadata": {
        "colab": {
          "base_uri": "https://localhost:8080/"
        },
        "id": "DBVvgGSFg9BM",
        "outputId": "1eabe45e-7462-49a9-989a-d73ddf4223b7"
      },
      "outputs": [
        {
          "data": {
            "text/plain": [
              "2.3097635999999997e-28"
            ]
          },
          "execution_count": 74,
          "metadata": {},
          "output_type": "execute_result"
        }
      ],
      "source": [
        "9E9 * -1.602E-19 * -1.602E-19 / 1"
      ]
    },
    {
      "attachments": {},
      "cell_type": "markdown",
      "metadata": {
        "id": "sAv5GahgqilJ"
      },
      "source": [
        "#### Cvičení 1.4.1: Jakou silou přitahuje Slunce Zemi\n",
        "\n",
        "Spočítejte, jakou gravitační silou přitahuje Slunce naší Zemi. Vzorec pro výpočet naleznete [ZDE](https://cs.wikipedia.org/wiki/Newton%C5%AFv_gravita%C4%8Dn%C3%AD_z%C3%A1kon). Nalezněte všechna potřebná čísla na internetu a vhodně je zapište pomocí vědecké notace. Nezapomeňte, že mocninu můžete provést buď pomocí součinu dvou stejných čísel nebo dvěma hvězdičkami, následovanými mocnitelem (exponentem)."
      ]
    },
    {
      "cell_type": "code",
      "execution_count": null,
      "metadata": {
        "id": "yTCK9m6HrDVp"
      },
      "outputs": [],
      "source": []
    },
    {
      "attachments": {},
      "cell_type": "markdown",
      "metadata": {
        "id": "9TskPvmVKORx"
      },
      "source": [
        "### Téma 1.5 Práce s proměnnou\n",
        "\n",
        "Psát složité výrazy jen pomocí hodnot je značně nepohodlné, jak jste si všimli. Proto Python nabízí možnost uložit si výsledek výrazu do tzv. proměnné. Proměnnou můžeme chápat jako pojmenovanou schránku, do které si můžeme ukládat hodnoty, výsledky výrazů a později tyto výsledky výrazů opět vyvolat a znovu použít.\n",
        "\n",
        "Uložení hodnoty do proměnné se provádí zavoláním názvu proměnné a přiřazením hodnoty pomocí rovnítka. Na pravé straně za rovnítkem následuje hodnota nebo výraz, který se do proměnné uloží."
      ]
    },
    {
      "cell_type": "code",
      "execution_count": null,
      "metadata": {
        "id": "aT705nyRKTzH"
      },
      "outputs": [],
      "source": [
        "a = 2\n",
        "b = 3\n",
        "vysledek = a + b\n",
        "vysledek"
      ]
    },
    {
      "cell_type": "markdown",
      "metadata": {
        "id": "NB9gCxTJwUy4"
      },
      "source": [
        "Název proměnné musí následovat určitá pravidla. Například musí začínat písmenem nebo podtržítkem, musí obsahovat pouze písmena a číslice a žádné speciální znaky. Pokud je proměnná víceslovní (např.: věk uživatele = ), tak slova nemohou být oddělena mezerou. Programátoři jazyka Python mají zvyk propojovat slova podtržítkem (věk_uživatele). Osobně nedoporučuji používat háčky a čárky, jelikož to může způsobit problémy při přenosu mezi počítači."
      ]
    },
    {
      "cell_type": "code",
      "execution_count": null,
      "metadata": {
        "colab": {
          "base_uri": "https://localhost:8080/",
          "height": 133
        },
        "id": "zSV5-MJ_xQhq",
        "outputId": "e1e8b70f-681e-44fe-f613-166b859944c9"
      },
      "outputs": [
        {
          "ename": "SyntaxError",
          "evalue": "ignored",
          "output_type": "error",
          "traceback": [
            "\u001b[0;36m  File \u001b[0;32m\"<ipython-input-84-1f39d9dc1857>\"\u001b[0;36m, line \u001b[0;32m1\u001b[0m\n\u001b[0;31m    věk uživatele = 18\u001b[0m\n\u001b[0m        ^\u001b[0m\n\u001b[0;31mSyntaxError\u001b[0m\u001b[0;31m:\u001b[0m invalid syntax\n"
          ]
        }
      ],
      "source": [
        "věk uživatele = 18"
      ]
    },
    {
      "cell_type": "code",
      "execution_count": null,
      "metadata": {
        "id": "NTLWnVlkxWEX"
      },
      "outputs": [],
      "source": [
        "věk_uživatele = 18"
      ]
    },
    {
      "attachments": {},
      "cell_type": "markdown",
      "metadata": {
        "id": "TJVCkoN3zaV5"
      },
      "source": [
        "#### Cvičení 1.5.1: Trénink práce s proměnnými\n",
        "\n",
        "Prověďte následující úkony:\n",
        "\n",
        "1. vytvořte proměnnou A a uložte do ní hodnotu 2\n",
        "2. vytvořte proměnnou B a uložte do ní hodnotu 3\n",
        "3. vytvořte proměnnou C a uložte do ní výsledek A + B\n",
        "4. do proměné C uložte novou hodnotu a tou bude původní hodnota v proměnné C vynásobená 5\n",
        "5. do proměnné D uložte hodnotu výrazu C / (B + A)\n",
        "6. vypište obsah proměnné D na obrazovku"
      ]
    },
    {
      "cell_type": "code",
      "execution_count": null,
      "metadata": {
        "id": "YJTyBXjQz5po"
      },
      "outputs": [],
      "source": []
    },
    {
      "attachments": {},
      "cell_type": "markdown",
      "metadata": {
        "id": "SnM_TxgewQK3"
      },
      "source": [
        "#### Cvičení 1.5.2: Cena po slevě\n",
        "\n",
        "Prověďte následující úkony:\n",
        "\n",
        "1. vytvořte proměnnou cena_produktu\n",
        "2. uložte do proměnné cena_produktu hodnotu 1000\n",
        "3. vytvořte proměnnou sleva_za_věrnost\n",
        "4. do proměnné sleva_za_věrnost uložte slevu, která bude představovat slevu v procentech a hodnota slevy bude 20 (tedy 20 procent sleva)\n",
        "5. do proměnné cena_po_slevě vypočítejte novou hodnotu ceny produktu po slevě (musíte se zamyslet nad vzorcem)\n",
        "6. vypište cenu po slevě (měla by vyjít hodnota 800)\n"
      ]
    },
    {
      "cell_type": "code",
      "execution_count": null,
      "metadata": {
        "id": "kF_hweoGrwJf"
      },
      "outputs": [],
      "source": []
    },
    {
      "attachments": {},
      "cell_type": "markdown",
      "metadata": {
        "id": "2Sy5v-cS0rPb"
      },
      "source": [
        "### Téma 1.6: Změna hodnoty proměnné\n",
        "\n",
        "Pokud potřebujete aplikovat nějakou aritmetickou operaci na obsah proměnné, tak musíte psát výraz typu: `A = A + výraz`, kde kromě operace součtu mohou být i další aritmetické operace. Python nabízí pro tyto případy urychlení pomocí následujících operací. Tyto operace vypočítají novou hodnotu ze staré a rovnou ji do proměnné uloží.\n",
        "\n",
        "* A += výraz\n",
        "* A -= výraz\n",
        "* A *= výraz\n",
        "* A /= výraz\n",
        "* A //= výraz\n",
        "* A %= výraz\n",
        "* A **= výraz\n",
        "\n",
        "\n",
        "\n",
        "\n"
      ]
    },
    {
      "cell_type": "code",
      "execution_count": null,
      "metadata": {
        "colab": {
          "base_uri": "https://localhost:8080/"
        },
        "id": "NiwRhyb_2QXh",
        "outputId": "dd2996f5-4c63-4d23-d481-e64c0f6cee84"
      },
      "outputs": [
        {
          "data": {
            "text/plain": [
              "4"
            ]
          },
          "execution_count": 92,
          "metadata": {},
          "output_type": "execute_result"
        }
      ],
      "source": [
        "A = 1\n",
        "A += 3\n",
        "A"
      ]
    },
    {
      "cell_type": "code",
      "execution_count": null,
      "metadata": {
        "colab": {
          "base_uri": "https://localhost:8080/"
        },
        "id": "dPE0XZb12LPQ",
        "outputId": "52cf5719-9790-4c9a-9f5c-cd7c4ad5630a"
      },
      "outputs": [
        {
          "data": {
            "text/plain": [
              "1024"
            ]
          },
          "execution_count": 91,
          "metadata": {},
          "output_type": "execute_result"
        }
      ],
      "source": [
        "A = 2\n",
        "A **= 10\n",
        "A"
      ]
    },
    {
      "attachments": {},
      "cell_type": "markdown",
      "metadata": {
        "id": "E7EkWQV5SWF9"
      },
      "source": [
        "#### Cvičení 1.6.1: Úprava hodnot proměnné\n",
        "\n",
        "Prověďte následující úkony:\n",
        "\n",
        "1. Vytvořte proměnnou A.\n",
        "2. Uložte do proměnné A hodnotu 1.\n",
        "3. Upravte hodnotu proměnné vynásobením 2.\n",
        "4. Upravte hodnotu proměnné odečtením 3.\n",
        "5. Upravte hodnotu proměnné podělením 2.\n",
        "6. Upravte hodnotu proměnné vynásobením -5\n",
        "7. Upravte hodnotu proměnné celočíselným podělením 2.\n",
        "8. Vypočítejte si výsledek v hlavě nebo na papíře.\n",
        "9. Vytiskněte hodnotu proměnné. Shoduje se váš výsledek s výsledkem programu?\n"
      ]
    },
    {
      "cell_type": "code",
      "execution_count": null,
      "metadata": {
        "id": "EbOSoHmcS1bt"
      },
      "outputs": [],
      "source": []
    },
    {
      "attachments": {},
      "cell_type": "markdown",
      "metadata": {
        "id": "w-gwwFMYRhmx"
      },
      "source": [
        "#### Cvičení 1.6.2: Sudost a lichost\n",
        "\n",
        "Prověďte následující úkony:\n",
        "\n",
        "1. Vytvořte proměnnou A.\n",
        "2. Uložte do proměnné A hodnotu 5.\n",
        "3. Změňte hodnotu proměnné pomocí %= 2.\n",
        "4. Vytiskněte výslednou hodnotu proměnné A na obrazovku.\n",
        "\n",
        "Pokud vám vyšlo 0, pak je číslo v proměnné sudé. Pokud vám vám vyšlo 1, pak je číslo v proměnné liché. Tušíte proč?\n"
      ]
    },
    {
      "cell_type": "code",
      "execution_count": null,
      "metadata": {
        "id": "hnrrSd7TSEvr"
      },
      "outputs": [],
      "source": []
    },
    {
      "cell_type": "markdown",
      "metadata": {
        "id": "WsWDUSQqsLvo"
      },
      "source": [
        "### Téma 1.7 Zabudované funkce\n",
        "\n",
        "Pokud byste mohli používat programovací jazyk Python pouze pro jednoduché aritmetické a logické počítání, tak bychom mohli zůstat u chytřejší kalkulačky. Jedna ze sil programovacích jazyků souvisí s jejich funkcemi. Funkce jsou struktury, které vyžadují nějaký vstup (parametr) a na jeho základě vám vrátí příslušný výstup (návratová hodnota). Seznam zabudovaných funkcí Python naleznete [ZDE](https://docs.python.org/3/library/functions.html). S mnoho z nich se během programování seznámíte důkladně. Pojďme si v této lekci alespoň dvě z nich vyzkoušet."
      ]
    },
    {
      "cell_type": "markdown",
      "metadata": {
        "id": "rpIHljPmGKY3"
      },
      "source": [
        "Absolutní hodnota nějakého čísla vám vrátí vzdálenost čísla na číselné ose od nuly do daného čísla. Zjednodušeně si to můžete představit, že vložené číslo bude mít stejnou hodnotu jako před změnou, ale znaménko bude vždy kladné."
      ]
    },
    {
      "cell_type": "code",
      "execution_count": null,
      "metadata": {
        "colab": {
          "base_uri": "https://localhost:8080/"
        },
        "id": "V79zMkv9K3we",
        "outputId": "3e88dbbc-712b-4746-99e7-21582bd75506"
      },
      "outputs": [
        {
          "data": {
            "text/plain": [
              "5"
            ]
          },
          "execution_count": 29,
          "metadata": {},
          "output_type": "execute_result"
        }
      ],
      "source": [
        "abs(5)"
      ]
    },
    {
      "cell_type": "code",
      "execution_count": null,
      "metadata": {
        "colab": {
          "base_uri": "https://localhost:8080/"
        },
        "id": "fsvvx6DXK5JA",
        "outputId": "e8f750ec-665d-4f2d-9966-c68a3595f1ba"
      },
      "outputs": [
        {
          "data": {
            "text/plain": [
              "5"
            ]
          },
          "execution_count": 30,
          "metadata": {},
          "output_type": "execute_result"
        }
      ],
      "source": [
        "abs(-5)"
      ]
    },
    {
      "cell_type": "markdown",
      "metadata": {
        "id": "HBCyPpLQK-Zu"
      },
      "source": [
        "Vstupem zabudované funkce může být i výraz a výsledek lze ukládat do proměnné."
      ]
    },
    {
      "cell_type": "code",
      "execution_count": null,
      "metadata": {
        "colab": {
          "base_uri": "https://localhost:8080/"
        },
        "id": "yhy2LLq7LBJD",
        "outputId": "bebfd651-4985-49b0-b83b-365c06284c78"
      },
      "outputs": [
        {
          "data": {
            "text/plain": [
              "4.5"
            ]
          },
          "execution_count": 34,
          "metadata": {},
          "output_type": "execute_result"
        }
      ],
      "source": [
        "y = abs(5*3-3/2+2-20)\n",
        "y"
      ]
    },
    {
      "attachments": {},
      "cell_type": "markdown",
      "metadata": {
        "id": "q2BUHPoeLUuY"
      },
      "source": [
        "#### Cvičení 1.7.1 Vzdálenost dvou objektů v 1D\n",
        "\n",
        "Napište program, který spočítá vzdálenost dvou objektů od sebe. Pro jednoduchost zatím počítáme s tím, že objekty stojí v řadě, tedy mají jen jednu souřadnici x. Vzdálenost bude vždy kladná hodnota, tudíž pokud je je první objekt na souřadnici `x1 = -2` a druhý na souřadnici `x2 = 4`, pak výsledná vzdálenost bude 6. Pro řešení použijte absolutní hodnotu."
      ]
    },
    {
      "cell_type": "code",
      "execution_count": null,
      "metadata": {
        "id": "uZIO0xfkLX0T"
      },
      "outputs": [],
      "source": []
    },
    {
      "attachments": {},
      "cell_type": "markdown",
      "metadata": {
        "id": "-5CRpjIDHXJ5"
      },
      "source": [
        "#### Cvičení 1.7.2 Zavolání zaokrouhlování\n",
        "\n",
        "Další zabudouvanou užitečnou funkcí je funkce pro zaokrouhlování. Tato funkce se jmenuje `round`. Vaším úkolem je naučit se volat tuto funkci zadáním správných argumentů za parametry, jejichž pořadí a význam naleznete v oficiální dokumentaci [ZDE](https://docs.python.org/3/library/functions.html#round).\n",
        "\n",
        "Proveďte následující úkoly:\n",
        "1. Zaokrouhlete číslo 3.141592 na 3 desetinná místa\n",
        "2. Zaokrouhlete číslo 3.141592 na 1 desetinné místo\n",
        "3. Zaokrouhlete číslo 3.141592 na celé číslo"
      ]
    },
    {
      "cell_type": "code",
      "execution_count": null,
      "metadata": {
        "id": "TRqbQchcV0IY"
      },
      "outputs": [],
      "source": []
    },
    {
      "cell_type": "code",
      "execution_count": null,
      "metadata": {
        "id": "Vk3xhTlWWciy"
      },
      "outputs": [],
      "source": []
    },
    {
      "cell_type": "code",
      "execution_count": null,
      "metadata": {
        "id": "V9BpGyc7Wfg6"
      },
      "outputs": [],
      "source": []
    },
    {
      "attachments": {},
      "cell_type": "markdown",
      "metadata": {
        "id": "cC91xN-XUj4L"
      },
      "source": [
        "#### Cvičení 1.7.3 Výpočet doby jízdy\n",
        "\n",
        "Napište program, do kterého zadáte celkovou dráhu v km, kterou chcete urazit automobilem a průměrnou rychlost vašeho automobilu v km/h. Program spočítá, kolik hodin vám cesta zabere a výsledek zaokrouhlí na 2 desetinná místa."
      ]
    },
    {
      "cell_type": "code",
      "execution_count": null,
      "metadata": {
        "id": "YLk-SeUrsIO6"
      },
      "outputs": [],
      "source": []
    },
    {
      "cell_type": "markdown",
      "metadata": {
        "id": "_1LrlZG--bj3"
      },
      "source": [
        "### Téma 1.8 Matematické funkce\n",
        "\n",
        "Při vašem studiu programování narazíte na problémy, pro jejichž vyřešení budete potřebovat funkce, které nejsou zabudované v jazyce Python a budete si je muset dodatečně nahrát. Tyto další přídavné funkce se přidávají do tzv. modulů.\n",
        "\n",
        "Modul se nahrává příkazem import, po kterém následuje název modulu. Poté můžete pomocí názvu modulu a tečky vyvolat funkce. Editor kódu vám bude názvy napovídat, ale můžete se na funkce a jejich popis podívat i do manuálu jazyka Python. Google Colab vám názvy funkcí může zobrazit tak, že napíšete math. a následuje stisk klávesy tabulátoru.\n",
        "\n",
        "Jeden z nejdůležitějších modulů je modul `math`, který obsahuje matematické funkce jako je například odmocnina `sqrt`, goniometrické funkce sinus `sin`, cosinus `cos` a tangens `tan`, nebo logaritmus `log`."
      ]
    },
    {
      "cell_type": "code",
      "execution_count": null,
      "metadata": {
        "id": "1cicazLc-c0C"
      },
      "outputs": [],
      "source": [
        "import math\n",
        "\n",
        "#umísti kurzor těsně za tečku a zmáčkni tabulátor\n",
        "math."
      ]
    },
    {
      "attachments": {},
      "cell_type": "markdown",
      "metadata": {
        "id": "p4-cUD8q3o6S"
      },
      "source": [
        "#### Cvičení 1.8.1 Odmocnina\n",
        "\n",
        "Napište program, který přijme číslo do proměnné A a vypíše na obrazovku hodnotu druhé odmocniny čísla v proměnné A. Zkuste pomocí internetu zjistit, jaká funkce z knihovny math musí být použita a jak se volá."
      ]
    },
    {
      "cell_type": "code",
      "execution_count": null,
      "metadata": {
        "id": "89-vPuCs5FSS"
      },
      "outputs": [],
      "source": []
    },
    {
      "cell_type": "markdown",
      "metadata": {
        "id": "wZ38M1rw5V2Z"
      },
      "source": [
        "#### Cvičení 1.8.2 Ověření goniometrického vzorce\n",
        "\n",
        "V goniometrii platí jeden elegantní vzorec, který říká, že sinus na druhou + cosinus na druhou libovolného čísla je roven 1. Ověřte tento vzorec [ZDE](https://www.matweb.cz/goniometricke-vzorce/) (je první v odkazu)."
      ]
    },
    {
      "cell_type": "code",
      "execution_count": null,
      "metadata": {
        "id": "AtPfcWPu5PCL"
      },
      "outputs": [],
      "source": []
    },
    {
      "cell_type": "markdown",
      "metadata": {
        "id": "-djbkLOhKp4e"
      },
      "source": [
        "### Domácí Úkoly 1"
      ]
    },
    {
      "attachments": {},
      "cell_type": "markdown",
      "metadata": {
        "id": "9LNOfEg-LEpM"
      },
      "source": [
        "#### Úkol 1.1 Převodník ze stupňů Celsia na stupně Fahreinheita\n",
        "\n",
        "Do třídy k vám přišel nový zahraniční žák v rámci projektu Erasmus. V jeho zemi se počítá teplota ve stupních Fahrenheita. Jelikož vám nerozumí, když se ve třídě bavíte o tom, jaká je venku teplota, tak jste se rozhodli pro něj naprogramovat převodník teploty ze stupňů Celsia na stupně Fahrenheita. Vzorec pro převod naleznete [ZDE](https://cs.wikipedia.org/wiki/Stupe%C5%88_Fahrenheita). Napište program, do kterého zadáte počet stupňů Celsia a program na obrazovku vypíše zadanou teplotu převedenou na stupně Fahreinheita."
      ]
    },
    {
      "cell_type": "code",
      "execution_count": null,
      "metadata": {
        "id": "HHzCxwlbLHFM"
      },
      "outputs": [],
      "source": []
    },
    {
      "attachments": {},
      "cell_type": "markdown",
      "metadata": {
        "id": "zS-wpyiILAdP"
      },
      "source": [
        "#### Úkol 1.2 Tahák pro lineární rovnice\n",
        "\n",
        "Jedna z častých úloh v matematice je nalezení kořenů rovnic, tedy bodů na ose x, kdy funkce osu x protíná. Protože chcete jen dobré známky, tak jste se rozhodli napsat si tahák. Napište kód, ve kterém zadáte do koeficientů `a`, `b` hodnoty a program vytiskne na obrazovku hodnotu kořenu.\n",
        "\n",
        "Pokud si potřebujete zopakovat, jak vypadá lineární rovnice, tak předpis a ukázku řešení naleznete [ZDE](https://www.matweb.cz/linearni-rovnice/)"
      ]
    },
    {
      "cell_type": "code",
      "execution_count": null,
      "metadata": {
        "id": "a_C7OtW-LEEP"
      },
      "outputs": [],
      "source": []
    },
    {
      "attachments": {},
      "cell_type": "markdown",
      "metadata": {
        "id": "irOUsZnCssvV"
      },
      "source": [
        "#### Úkol 1.3 BMI kalkulačka\n",
        "\n",
        "Péče o tělo je stejně důležitá jako péče o mysl. Proto jste se rozhodli, že se budete stravovat a cvičit tak, abyste měli optimální hodnotu BMI (Body Mass Index). Vzorec pro výpočet BMI naleznete [ZDE](https://cs.wikipedia.org/wiki/Index_t%C4%9Blesn%C3%A9_hmotnosti). Pro tento příklad předpokládejme, že optimální BMI je hodnota 22.\n",
        "\n",
        "Napište kód, který spočítá, rozdíl optimální a aktuální BMI hodnoty uživatele. Uživatel zadá hmotnost v kg a výšku v cm. Budete muset provést převod cm na m. Výsledek zaokrouhlete na 2 desetinná místa.\n",
        "\n"
      ]
    },
    {
      "cell_type": "code",
      "execution_count": null,
      "metadata": {
        "id": "lqp-k6cssuyv"
      },
      "outputs": [],
      "source": []
    },
    {
      "attachments": {},
      "cell_type": "markdown",
      "metadata": {
        "id": "SAUxDaB9splD"
      },
      "source": [
        "#### Úkol 1.4 Volný pád na různých planetách\n",
        "\n",
        "Z hodin fyziky jste se dozveděli o chování objektů při volném pádu, které je závislé na výšce pádu a gravitačním zrychlení. Chtěli byste porovnat, jak dlouho bude trvat pád kamínku z vaší ruky na zem na různých planetách sluneční soustavy. Bohužel na jiné planety se pravděpodobne nedostanete, tudíž si musíte situaci nasimulovat. Napište program, do kterého zadáte gravitační zrychlení a výšku pádu a program vypočte dobu pádu. Vzorce pro volný pád naleznete [ZDE](http://fyzika.jreichl.com/main.article/view/13-volny-pad).\n",
        "Gravitační zrychlení pro planety sluneční soustavy naleznete [ZDE](http://edu.techmania.cz/cs/veda-v-pozadi/609)"
      ]
    },
    {
      "cell_type": "code",
      "execution_count": null,
      "metadata": {
        "id": "sx12qR5xLJyr"
      },
      "outputs": [],
      "source": []
    },
    {
      "attachments": {},
      "cell_type": "markdown",
      "metadata": {
        "id": "eq-2o-KjLHiG"
      },
      "source": [
        "#### Úkol 1.5 Počet molekul\n",
        "\n",
        "V hodinách fyziky a chemie jste se učili o látkovém množství. Zajímalo by vás, kolik se nachází molekul vzduchu v různých místnostech vašeho domu. Napište program, do kterého zadáte rozměry místnosti (délka, šířka, výška) a program vypíše na obrazovku počet molekul v dané místnosti.\n",
        "\n",
        "Výpočet se provádí tak, že spočítáte množství molů (jednotka látkového množství) v místnosti a následně vynásobíte množství molů Avogadrovou konstantou (počet částic v jednom molu látky).\n",
        "\n",
        "Množství molů v místnosti spočítáte vydělením hmotnosti vzduchu v místnosti hmotností jednoho molu vzduchu.\n",
        "\n",
        "Hmotnost vzduchu v místnosti spočítáte vynásobním hmotnostní hustoty objemem místnosti.\n",
        "\n",
        "Hmotnostní hustota vzduchu je: `rho = 1.276 #kg.m-3` a hmotnost jednoho molu vzduchu je: `mM = 29E-3 #kg.mol-1`.\n",
        "\n",
        "Něco vám ještě chybí kromě hustoty a molární hmotnosti. Zjistěte, jaká informace chybí a nalezněte ji na internetu.\n",
        "\n",
        "Podívejte se na příklad 9 na následující stránce [ZDE](https://www.priklady.eu/cs/fyzika/latkove-charakteristiky.alej)\n",
        "\n",
        "\n",
        "\n"
      ]
    },
    {
      "cell_type": "code",
      "execution_count": null,
      "metadata": {
        "id": "u6MsJAXpssKZ"
      },
      "outputs": [],
      "source": []
    }
  ],
  "metadata": {
    "colab": {
      "authorship_tag": "ABX9TyNbkxQfcyh/00+2I2aycp61",
      "provenance": []
    },
    "kernelspec": {
      "display_name": "Python 3",
      "name": "python3"
    },
    "language_info": {
      "name": "python"
    }
  },
  "nbformat": 4,
  "nbformat_minor": 0
}
