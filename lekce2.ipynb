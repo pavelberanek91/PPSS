{
  "cells": [
    {
      "attachments": {},
      "cell_type": "markdown",
      "metadata": {
        "id": "-FueR60PPdhB"
      },
      "source": [
        "# Programování pro střední školy"
      ]
    },
    {
      "attachments": {},
      "cell_type": "markdown",
      "metadata": {
        "id": "A06-0F60KBcr"
      },
      "source": [
        "## Lekce 2: Komunikace s uživatelem\n",
        "\n",
        "V minulé lekci jste používali programovací jazyk Python jako chytrou kalkulačku. Uživatel musel vstupní data zadávat do proměnných a pozdeji si tato data vyzvedával pro potřebné výpočty. Na obrazovce si mohl uživatel přečíst výsledek vždy jen na konci programu, jelikož pouze obsah proměnné na posledním řádku bude vypsán na obrazovku. V dnešní lekci se naučít vyzvat uživatele, aby zadal vstupní data do programu do příkazové řádky (běžné spuštění programu) nebo speciální zadávací kolonky (Google Colab/Visual Studio Code). Dále se naučíte vypsat na obrazovku výstupy programů kdykoliv budete chtít a to pomocí pokročilého způsobu formátování, zvaného interpolační řetězec (také f-string).\n"
      ]
    },
    {
      "attachments": {},
      "cell_type": "markdown",
      "metadata": {
        "id": "Tyn9KoXKPjiV"
      },
      "source": [
        "### Téma 2.1 Získávání dat od uživatele\n",
        "\n",
        "Pro požádání uživatele o zadání vstupu se využívá příkaz ```input()```. Po zavolání tohoto příkazu se vám objeví v dolní části kódové buňky zadávací kolonka, které se říká výzva (anglicky prompt). Do této výzvy můžete cokoliv napsat. "
      ]
    },
    {
      "cell_type": "code",
      "execution_count": null,
      "metadata": {
        "colab": {
          "base_uri": "https://localhost:8080/"
        },
        "id": "dph1l3T5deaH",
        "outputId": "2fa284e8-22a0-4cf9-cf03-5beeaebb374f"
      },
      "outputs": [],
      "source": [
        "input()"
      ]
    },
    {
      "attachments": {},
      "cell_type": "markdown",
      "metadata": {},
      "source": [
        "Bohužel uživatel nevidí nic než výzvu a není mu jasné, co se po něm vyžaduje. Má zadat věk? Nebo má zadat své jméno? Pokud je program dělán pro vás, tak asi tušíte, co si chcete pro své výpočty zadat. Pokud děláte program pro někoho jiného, tak to nemusí tušit. Je vždy dobré nějaké instrukce zadat. \n",
        "\n",
        "Do příkazu ```input()``` můžete mezi závorky vložit řetězec, který se vypíše na obrazovku společně s výzvou. Řetězec je kolekce písmen, číslic a speciálních znaků, které představují jeden celek. Může se jednat o slovo, větu nebo za sebou jdoucí věty. Řetězec musí být uvozen a také končit dvojitými nebo jednoduchými uvozovkami."
      ]
    },
    {
      "attachments": {},
      "cell_type": "markdown",
      "metadata": {
        "id": "1OcHQxX1ZqUS"
      },
      "source": [
        "\"Tohle je řetězec.\""
      ]
    },
    {
      "cell_type": "code",
      "execution_count": null,
      "metadata": {
        "colab": {
          "base_uri": "https://localhost:8080/"
        },
        "id": "3muPm2BSZ6Ts",
        "outputId": "22134889-07fd-4021-dadb-13ded077df76"
      },
      "outputs": [],
      "source": [
        "'Tohle je také řetězec'"
      ]
    },
    {
      "attachments": {},
      "cell_type": "markdown",
      "metadata": {
        "id": "VhviB9XgdtOx"
      },
      "source": [
        "Pojďme si ukázat jak požádat uživatele o vstup se zadáním výzvy a uložit získaná data do proměnné."
      ]
    },
    {
      "cell_type": "code",
      "execution_count": null,
      "metadata": {
        "colab": {
          "base_uri": "https://localhost:8080/",
          "height": 133
        },
        "id": "-oZVEmXFeDgh",
        "outputId": "996ba98a-4236-4389-8be3-8a57cccc7f11"
      },
      "outputs": [],
      "source": [
        "vek = input(\"Zadej svůj věk: \")\n",
        "vek"
      ]
    },
    {
      "attachments": {},
      "cell_type": "markdown",
      "metadata": {
        "id": "ompkHW0Ka0o1"
      },
      "source": [
        "#### Cvičení 2.1.1: Součet dvou čísel\n",
        "\n",
        "Napiš program, který požádá uživatele o dvě čísla, sečte je a vypíše výsledek na obrazovku. Proveďte následující kroky:\n",
        "1. Načtěte číslo od uživatele do proměnné A.\n",
        "2. Načtěte číslo od uživatele do proměnné B.\n",
        "3. Do proměnné vysledek uložte výsledek součtu obsahu proměnných A a B\n",
        "4. Vypište obsah proměnné vysledek na obrazovku. "
      ]
    },
    {
      "cell_type": "code",
      "execution_count": null,
      "metadata": {
        "id": "cc9TWDQpbH1t"
      },
      "outputs": [],
      "source": []
    },
    {
      "attachments": {},
      "cell_type": "markdown",
      "metadata": {},
      "source": [
        "Pokud jste si cvičení vyzkoušeli, tak jste asi viděli výsledek, který jste neočekávali. Důvodem je fakt, že načtené vstupy z příkazu input jsou také řetězce. Pokud sečtete dvě řetězce, tak výsledkem je jeden spojený řetězec."
      ]
    },
    {
      "cell_type": "code",
      "execution_count": null,
      "metadata": {
        "id": "qVz1Vcb8bRQO"
      },
      "outputs": [],
      "source": [
        "jmeno = \"Pavel \"\n",
        "prijmeni = \"Beranek\"\n",
        "cele_jmeno = jmeno + prijmeni"
      ]
    },
    {
      "attachments": {},
      "cell_type": "markdown",
      "metadata": {},
      "source": [
        "Pokud chcete po uživateli, aby zadal číslo, které má být chápáno jako číslo a ne řetězec, tak musíme provést tzv. přetypování datového typu. Později se v dnešním cvičení naučíte přetypování řádně ovládat. Teď se spokojíme pro začátek lekce s přetypováním na celé číslo. Přetypování na celé číslo se provede funkcí ```int()```."
      ]
    },
    {
      "cell_type": "code",
      "execution_count": null,
      "metadata": {
        "id": "Ink9Ak9pbSPk"
      },
      "outputs": [],
      "source": [
        "cislo_retezec = input(\"Zadej číslo: \")\n",
        "cele_cislo = int(cislo_retezec)\n",
        "cele_cislo"
      ]
    },
    {
      "attachments": {},
      "cell_type": "markdown",
      "metadata": {},
      "source": [
        "Výstupy funkcí lze vkládat do dalších funkcí. Nejvíc vnější funkce, která obaluje všechny následně navrátí svůj výstup do proměnné. Této techniky můžeme využít a navrátit z příkazu input rovnou celé číslo."
      ]
    },
    {
      "cell_type": "code",
      "execution_count": null,
      "metadata": {
        "id": "lFJiYdQ1bT4e"
      },
      "outputs": [],
      "source": [
        "cele_cislo = int(input(\"Zadej číslo: \"))"
      ]
    },
    {
      "attachments": {},
      "cell_type": "markdown",
      "metadata": {
        "id": "F-I4preIbgJY"
      },
      "source": [
        "#### Cvičení 2.1.2: Součin dvou čísel\n",
        "\n",
        "Pojďme napsat program pro načítání čísel od uživatele správně. Proveďte následující kroky:\n",
        "1. Načtěte celé číslo od uživatele do proměnné A.\n",
        "2. Načtěte celé číslo od uživatele do proměnné B.\n",
        "3. Do proměnné vysledek uložte výsledek součin obsahu proměnných A a B\n",
        "4. Vypište obsah proměnné vysledek na obrazovku. "
      ]
    },
    {
      "cell_type": "code",
      "execution_count": null,
      "metadata": {
        "id": "CftXGPdAbwLU"
      },
      "outputs": [],
      "source": []
    },
    {
      "attachments": {},
      "cell_type": "markdown",
      "metadata": {
        "id": "T1gpLw_rb5R7"
      },
      "source": [
        "#### Cvičení 2.1.3: Diskriminant kvadratické rovnice\n",
        "\n",
        "Napište program, který načte koeficienty kvadratické rovnice A, B, C a spočítá diskriminant. Program končí výpisem výsledku diskriminantu na obrazovku."
      ]
    },
    {
      "cell_type": "code",
      "execution_count": null,
      "metadata": {
        "id": "tCtP9vdDdOfl"
      },
      "outputs": [],
      "source": []
    },
    {
      "attachments": {},
      "cell_type": "markdown",
      "metadata": {},
      "source": [
        "Kromě celých čísel se vám může hodit i zadávat do programu desetinná čísla. Desetinné číslo se zadává stejně jako do kódu pomocí desetinné tečky. Pokud ovšem obalíme input funkcí int, tak získáme celé číslo. Takové celé číslo bude nezaokrouhlené a bude obsahovat pouze celou část z čísla."
      ]
    },
    {
      "cell_type": "code",
      "execution_count": null,
      "metadata": {},
      "outputs": [],
      "source": [
        "a = int(5.7)\n",
        "a"
      ]
    },
    {
      "attachments": {},
      "cell_type": "markdown",
      "metadata": {},
      "source": [
        "Pokud chceme převést řetězec ze vstupu na desetinné číslo, tak obalíme funkci input příkazem ```float()```."
      ]
    },
    {
      "cell_type": "code",
      "execution_count": null,
      "metadata": {},
      "outputs": [],
      "source": [
        "desetinne_cislo = float(input(\"Zadej desetinné číslo: \"))"
      ]
    },
    {
      "attachments": {},
      "cell_type": "markdown",
      "metadata": {
        "id": "vOst9Mw6tXdQ"
      },
      "source": [
        "#### Cvičení 2.1.4: Operace s typy\n",
        "\n",
        "Proveďte následující výzkum s datovými typy int (celé číslo), float (desetinné číslo) a str (string, řetězec). Následující úkony proveďte zvlášť do prázdné buňky a všímejte si, jestli na výstupu získáte celé číslo nebo desetinné.\n",
        "1. Načtěte dvě celá čísla a proveďte jejich součet.\n",
        "2. Načtěte dvě celá čísla a proveďte jejich součin.\n",
        "3. Načtěte jedno celé číslo a jedno desetinné a proveďte jejich součet.\n",
        "4. Načtěte jedno celé číslo a jedno desetinné a proveďte jejich součin.\n",
        "5. Načtěte číslo ve formě řetězce a jedno celé číslo a proveďte jejich součin.\n",
        "6. Načtěte číslo ve formě řetězce a jedno desetinné číslo a proveďte jejich součin."
      ]
    },
    {
      "cell_type": "code",
      "execution_count": null,
      "metadata": {
        "id": "fmCWbGMGtsFF"
      },
      "outputs": [],
      "source": []
    },
    {
      "cell_type": "code",
      "execution_count": null,
      "metadata": {
        "id": "SDyu4IsJttF_"
      },
      "outputs": [],
      "source": []
    },
    {
      "cell_type": "code",
      "execution_count": null,
      "metadata": {
        "id": "tm-9VD44tuFf"
      },
      "outputs": [],
      "source": []
    },
    {
      "cell_type": "code",
      "execution_count": null,
      "metadata": {
        "id": "_2A7zW7gtuyR"
      },
      "outputs": [],
      "source": []
    },
    {
      "cell_type": "code",
      "execution_count": null,
      "metadata": {
        "id": "9sI5ptjrtv9T"
      },
      "outputs": [],
      "source": []
    },
    {
      "cell_type": "code",
      "execution_count": null,
      "metadata": {
        "id": "sa5A_ZIWtxU3"
      },
      "outputs": [],
      "source": []
    },
    {
      "attachments": {},
      "cell_type": "markdown",
      "metadata": {},
      "source": [
        "#### Cvičení 2.1.5: Zaokrouhlení vstupu\n",
        "\n",
        "Nechte uživatele zadat desetinné číslo v prvním vyzvě. Ve druhé výzvě nechte uživatele zadat na kolik desetinných míst chce číslo zaokrouhlit. Program vypíše desetinné číslo na obrazovku zaokrouhlené na požadovaný počet desetinných míst. Funkci pro zaokrouhlování jste používali minulou hodinu. Pokud si nepamatujete jak se volá, tak si ji zkuste vyhledat na internetu nebo v sešitě z minulé hodiny."
      ]
    },
    {
      "cell_type": "code",
      "execution_count": null,
      "metadata": {},
      "outputs": [],
      "source": []
    },
    {
      "attachments": {},
      "cell_type": "markdown",
      "metadata": {
        "id": "Yur2pr53gosw"
      },
      "source": [
        "### Téma 2.2: Přetypování\n",
        "\n",
        "Datový typ lze měnit kdykoliv v průběhu kódu, tzv. přetypování. Pro začátek vám budou stačit následující přetypovací funkce, kde dvě z nich již znáte.\n",
        "\n",
        "1. int(), převede řetězec nebo desetinné číslo na celé číslo\n",
        "2. float(), převede řetězec nebo celé číslo na desetinné číslo\n",
        "3. str(), převede celé číslo nebo desetinné číslo na řetězec"
      ]
    },
    {
      "cell_type": "code",
      "execution_count": null,
      "metadata": {
        "colab": {
          "base_uri": "https://localhost:8080/"
        },
        "id": "ESQ42O3Bhlro",
        "outputId": "cf532d01-fd2c-4f0e-ce8e-30ecda14861c"
      },
      "outputs": [],
      "source": [
        "a = input(\"Zadej desetinné číslo: \")\n",
        "b = float(a)\n",
        "c = int(b)\n",
        "d = str(c)\n",
        "d"
      ]
    },
    {
      "attachments": {},
      "cell_type": "markdown",
      "metadata": {
        "id": "Mm6nWhmahnJE"
      },
      "source": [
        "Pozor však na situaci, kdy uživatel zadá do výzvy řetězec, které nelze převést na číslo. V takovém případě dojde k vyvolání výjimky (chyby) a program se zastaví."
      ]
    },
    {
      "cell_type": "code",
      "execution_count": null,
      "metadata": {
        "colab": {
          "base_uri": "https://localhost:8080/"
        },
        "id": "LATH0O3-hwaC",
        "outputId": "098afd02-d100-4ff9-cb47-91b08c6b1ee1"
      },
      "outputs": [],
      "source": [
        "a = \"traktor\"\n",
        "b = int(a)"
      ]
    },
    {
      "attachments": {},
      "cell_type": "markdown",
      "metadata": {},
      "source": [
        "Dejte si také pozor na to, ať neztratíte informaci o hodnotě v proměnné. Pokud neuváženě přetypujete objekt z desetinného čisla na celé, tak ztratíte informaci o hodnotě za desetinnou tečkou. Tipněte si, co uvidíte na výstupu v následujícím programu a ověřte si svůj tip spuštěním kódu."
      ]
    },
    {
      "cell_type": "code",
      "execution_count": null,
      "metadata": {},
      "outputs": [],
      "source": [
        "a = 2.54\n",
        "a = int(a)\n",
        "a = float(a)\n",
        "a"
      ]
    },
    {
      "attachments": {},
      "cell_type": "markdown",
      "metadata": {
        "id": "ShArx6Gghzyh"
      },
      "source": [
        "#### Cvičení 2.2.1: Procvičení přetypování\n",
        "\n",
        "Proveďte následující úkony pro procvičení přetypování:\n",
        "1. Načtěte do proměnné A číslo z výzvy a přetypujte ho na celé číslo\n",
        "2. Načtěte do proměnné B číslo z výzvy a přetypujte ho na desetinné číslo.\n",
        "3. Do proměnné C uložte výsledek celočíselného podílu B poděleno proměnnou A.\n",
        "4. Přetypujte výsledek podílu v proměnné C na celé číslo a uložte ho znova do proměnné C.\n",
        "5. Do proměnné věta načtěte libovolnou větu z výzvy.\n",
        "6. Vynásobte načtenou větu výsledkem podílu v proměnné C a uložte výsledek do proměnné D.\n",
        "7. Vypište obsah proměnné D na obrazovku."
      ]
    },
    {
      "cell_type": "code",
      "execution_count": null,
      "metadata": {
        "id": "qxNRW_HkiW4T"
      },
      "outputs": [],
      "source": []
    },
    {
      "attachments": {},
      "cell_type": "markdown",
      "metadata": {
        "id": "SQdIMH9ci1N_"
      },
      "source": [
        "#### Cvičení 2.2.2: Hod libovolně-stěnnou kostkou\n",
        "\n",
        "V knihovně ```random``` naleznete příkaz ```randint(a, b)```, který přijímá dvě celá čísla a, b. Příkaz vrací náhodné celé číslo v rozmezí od a do b. Pokud tedy zavoláte program jako: ```randint(2, 5)```, tak příkaz vrátí náhodné celé číslo v rozmezí 2 až 5.\n",
        "\n",
        "```\n",
        "from random import randint\n",
        "nahodne_cele_cislo = randint(2, 5)\n",
        "```\n",
        "\n",
        "Napište kód tak, aby si uživatel mohl zvolit z výzvy kolika stěnnou kostkou hodí a výsledek hodu bude zobrazen na obrazovce."
      ]
    },
    {
      "cell_type": "code",
      "execution_count": null,
      "metadata": {
        "id": "rkcJhjhgjJ5E"
      },
      "outputs": [],
      "source": []
    },
    {
      "attachments": {},
      "cell_type": "markdown",
      "metadata": {
        "id": "vpk7LZEujUYt"
      },
      "source": [
        "### Téma 2.3: Výpis výstupů uživateli\n",
        "\n",
        "Informovat uživatele o výsledku je důležité, což aktuálně provádíme zapsáním názvu proměnné, jejíž obsah chceme vypsat, na poslední řádek programu. Často budete chtít informovat uživatele i kdykoliv během výpočtu. To lze provést zavoláním příkazu ```print()```. Do příkazu print se vkládá řetězec, který chceme, aby uživatel viděl na obrazovce."
      ]
    },
    {
      "cell_type": "code",
      "execution_count": null,
      "metadata": {
        "colab": {
          "base_uri": "https://localhost:8080/"
        },
        "id": "QMbJR02SjYHT",
        "outputId": "539254d7-df54-4f85-e953-54580cb4e51c"
      },
      "outputs": [],
      "source": [
        "print(\"Programování je zábava říkali ...\")"
      ]
    },
    {
      "attachments": {},
      "cell_type": "markdown",
      "metadata": {},
      "source": [
        "Pokud vložíte do příkazu print jiný datový typ než je řetězec, tak si Python přetypuje typ na řetězec (takže nad tím ani nemusíte příliš přemýšlet)."
      ]
    },
    {
      "cell_type": "code",
      "execution_count": null,
      "metadata": {},
      "outputs": [],
      "source": [
        "print(5) #ve skutečnosti se převede přetypování na řetězec \"5\", který se vytiskne"
      ]
    },
    {
      "attachments": {},
      "cell_type": "markdown",
      "metadata": {},
      "source": [
        "Do příkazu print lze vložit více hodnot oddělených čárkou, která se mají naráz vytisknout."
      ]
    },
    {
      "cell_type": "code",
      "execution_count": null,
      "metadata": {},
      "outputs": [],
      "source": [
        "print(\"Ahoj.\", \"Dnes jsem dostal z programování známku\", 5)"
      ]
    },
    {
      "attachments": {},
      "cell_type": "markdown",
      "metadata": {},
      "source": [
        "Řetězce lze také spojovat při výpisu pomocí operace spojování (concatenation) operátorem +"
      ]
    },
    {
      "cell_type": "code",
      "execution_count": null,
      "metadata": {},
      "outputs": [],
      "source": [
        "print(\"Maxipes\" + \"Fík\")"
      ]
    },
    {
      "cell_type": "code",
      "execution_count": null,
      "metadata": {},
      "outputs": [],
      "source": [
        "print(\"Maxipes\" + \" \" + \"Fík\") #teď je to hezčí"
      ]
    },
    {
      "attachments": {},
      "cell_type": "markdown",
      "metadata": {},
      "source": [
        "Jen pozor na to, ať nespojíte řetězec s jiným datovým typem, který řetězcem není."
      ]
    },
    {
      "cell_type": "code",
      "execution_count": null,
      "metadata": {},
      "outputs": [],
      "source": [
        "print(\"Pes by měl mít defaultně \" + 4 + \" nohy\")"
      ]
    },
    {
      "attachments": {},
      "cell_type": "markdown",
      "metadata": {},
      "source": [
        "Řešením je přetypovat všechny neřetězcové datové typy na řetězce před spojováním."
      ]
    },
    {
      "cell_type": "code",
      "execution_count": null,
      "metadata": {},
      "outputs": [],
      "source": [
        "print(\"Člověk by měl mít defaultně\" + str(2) + \" nohy a \" + str(6) + \" rukou\")"
      ]
    },
    {
      "attachments": {},
      "cell_type": "markdown",
      "metadata": {},
      "source": [
        "Tento zápis je značně nepohodlný. Proto se používá v Python moderní způsob zápisu, kterému říkáme v češtině interpolační řetězec. Interpolační z toho důvodu, že do něj vkládáme hodnoty. V angličtině se uchytil termín f-string, což je zkratka za formátovaný řetězec. Formátovaný řetězec v sobě obsahuje výrazy, které se vyhodnotí, přetypují se automaticky na řetězec a připojí se ke zbytku řetezce, který ho obklopuje. Takové výrazy musíme uvádět do složených závorek. Na české klávesnici je napíšete pomocí podržení klávesy pravého alt (alt gr) a zmáčknete B. Uzavírací závorka se vytvoří podržením pravého alt a stisknutím klávesy N."
      ]
    },
    {
      "cell_type": "code",
      "execution_count": null,
      "metadata": {},
      "outputs": [],
      "source": [
        "pocet_vajicek = 20\n",
        "cena_vajicka = 3\n",
        "print(f\"Za {pocet_vajicek} vajíček s cenou {cena_vajicka} Kč za vajíčko zaplatíš celkem {pocet_vajicek * cena_vajicka}\")"
      ]
    },
    {
      "attachments": {},
      "cell_type": "markdown",
      "metadata": {},
      "source": [
        "Na znak f před první uvozovkou nesmíte zapomínat, jinak si python pomyslí, že se jedná o standardní řetězec a bude brát řetězec s výrazy doslova."
      ]
    },
    {
      "cell_type": "code",
      "execution_count": null,
      "metadata": {},
      "outputs": [],
      "source": [
        "pocet_vajicek = 20\n",
        "cena_vajicka = 3\n",
        "print(\"Za {pocet_vajicek} vajíček s cenou {cena_vajicka} Kč za vajíčko zaplatíš celkem {pocet_vajicek * cena_vajicka}\")"
      ]
    },
    {
      "attachments": {},
      "cell_type": "markdown",
      "metadata": {
        "id": "htFJyFKQm9_g"
      },
      "source": [
        "#### Cvičení 2.3.1: Výpis výsledků operací na obrazovku\n",
        "\n",
        "Napište program, který přijme dvě celá čísla A a B a vytiskne na obrazovce následující:\n",
        "1. Výsledek součtu A + B.\n",
        "2. Výsledek rozdílu A - B.\n",
        "3. Výsledek podílu A / B.\n",
        "4. Výsledek celočíselného podílu A // B.\n",
        "\n",
        "Vše napište do jedné buňky. Budete muset použít příkaz print."
      ]
    },
    {
      "cell_type": "code",
      "execution_count": null,
      "metadata": {
        "id": "35dnUbvunU1d"
      },
      "outputs": [],
      "source": []
    },
    {
      "attachments": {},
      "cell_type": "markdown",
      "metadata": {
        "id": "B91DlVktkksl"
      },
      "source": [
        "#### Cvičení 2.3.2: Obvod a obsah kružnice\n",
        "\n",
        "Napište program, který požádá uživatele o zadání poloměru a vypíše na obrazovku hodnotu obvodu a obsahu kružnice."
      ]
    },
    {
      "cell_type": "code",
      "execution_count": null,
      "metadata": {
        "id": "yEgqSRF5mVhg"
      },
      "outputs": [],
      "source": []
    },
    {
      "attachments": {},
      "cell_type": "markdown",
      "metadata": {},
      "source": [
        "#### Cvičení 2.3.3: Převodník ze stupňů Celsia na Kelviny\n",
        "\n",
        "Napište program, který požádá uživatele o zadání teploty ve stupních Celsia a program vypíše na obrazovku jaká byla zadaná teplota ve stupních Celsia a jaká je její hodnota v Kelvinech."
      ]
    },
    {
      "cell_type": "code",
      "execution_count": null,
      "metadata": {},
      "outputs": [],
      "source": []
    },
    {
      "attachments": {},
      "cell_type": "markdown",
      "metadata": {},
      "source": [
        "#### Cvičení 2.3.4: Výpočet délky tyče po zahřátí\n",
        "\n",
        "Napište program, který požádá uživatele o koeficient teplotní roztažnosti materiálu tyče, původní délku tyče a o kolik stupňů Celsia se tyč ohřála. Program vypíše na obrazovku novou délku tyče po zahřátí."
      ]
    },
    {
      "cell_type": "code",
      "execution_count": null,
      "metadata": {},
      "outputs": [],
      "source": []
    },
    {
      "attachments": {},
      "cell_type": "markdown",
      "metadata": {},
      "source": [
        "#### Cvičení 2.3.5: Výpočet odporu sériového a paralelního zapojení rezistorů\n",
        "\n",
        "Napište program, který přijme od uživatele hodnoty odporu pro dva rezistory. Program vypíše následně na obrazovku jaká je jejich výsledná hodnota odporu při sériovém a paralelním zapojení."
      ]
    },
    {
      "cell_type": "code",
      "execution_count": null,
      "metadata": {},
      "outputs": [],
      "source": []
    },
    {
      "attachments": {},
      "cell_type": "markdown",
      "metadata": {
        "id": "OAevD9Q4g5F5"
      },
      "source": [
        "### Téma 2.4: Rozdělení řetězce\n",
        "\n",
        "Z výzvy jsme schopni přijímat pouze jeden řetězec. To může být nepohodlné v situacích, kdybychom chtěli zadat naráz více informací. Takový případ typicky nastává u zadávání více čísel, které můžeme oddělit ve výzve mezerou, čárkou nebo jiným separátorem (znak pro oddělení informací).\n",
        "\n",
        "Řešení situace spočívá v rozdělení řetězce příkazem ```split()```, který má jako parametr řetězec, představující separátor. Příkaz následně navrátí kolekci hodnot, konkrétně kolekci s názvem seznam. Za pár lekcí se dozvíte něco o mechanismu kolekcí více."
      ]
    },
    {
      "cell_type": "code",
      "execution_count": null,
      "metadata": {
        "colab": {
          "base_uri": "https://localhost:8080/"
        },
        "id": "DBVvgGSFg9BM",
        "outputId": "1eabe45e-7462-49a9-989a-d73ddf4223b7"
      },
      "outputs": [],
      "source": [
        "kolekce = \"1,2,3,4,5\".split(\",\")\n",
        "print(kolekce)"
      ]
    },
    {
      "attachments": {},
      "cell_type": "markdown",
      "metadata": {},
      "source": [
        "Musíte si však dát pozor, abyste rozdělovali řetězec správným separátorem do kolekce, nebo naopak řetězec správně zadávali. Separátorem mohou být i bílé znaky jako je nový řádek ```\"\\n\"```, tabulátor ```\"\\t\"``` nebo mezera ```\" \"```. Také se sepárator může skládat i z více znaků než z jednoho. Následující příkaz nerozdělí řetězec do kolekce, protože separátorem je mezera a nikoliv čárka."
      ]
    },
    {
      "cell_type": "code",
      "execution_count": null,
      "metadata": {},
      "outputs": [],
      "source": [
        "kolekce = \"1 2 3 4 5\".split(\",\")\n",
        "print(kolekce)"
      ]
    },
    {
      "attachments": {},
      "cell_type": "markdown",
      "metadata": {},
      "source": [
        "Pokud je separátorem mezera, pak nemusíte udávat separující znak. Následující dva programy fungují stejně."
      ]
    },
    {
      "cell_type": "code",
      "execution_count": null,
      "metadata": {},
      "outputs": [],
      "source": [
        "kolekce = \"1 2 3 4 5\".split(\" \")\n",
        "print(kolekce)"
      ]
    },
    {
      "cell_type": "code",
      "execution_count": null,
      "metadata": {},
      "outputs": [],
      "source": [
        "kolekce = \"1 2 3 4 5\".split()\n",
        "print(kolekce)"
      ]
    },
    {
      "attachments": {},
      "cell_type": "markdown",
      "metadata": {},
      "source": [
        "Samozřejmě příkaz split (konkrétně se jedná o metodu, čemuž porozumíte na konci našeho kurzu) lze volat i nad proměnnou, ve které se řetězec nachází. Jazyk Python nejprve vyvolá z proměnné hodnotu a následně zavolá metodu split."
      ]
    },
    {
      "cell_type": "code",
      "execution_count": null,
      "metadata": {},
      "outputs": [],
      "source": [
        "#PS: jedná se o postavy z epické scifi série filmů Hvězdné války\n",
        "retezec = \"Luke,Anakin,Han,Leia\"\n",
        "postavy = retezec.split(\",\")"
      ]
    },
    {
      "attachments": {},
      "cell_type": "markdown",
      "metadata": {},
      "source": [
        "#### Cvičení 2.4.1: Jednoduchý separátor\n",
        "\n",
        "V proměnné retezec se nachází řetězec s daty, které jsou odděleny separátorem. Najděte nejvhodnější způsob, jak řetězec separovat na jednotlivé položky do kolekce a vypište obsah kolekce na obrazovku."
      ]
    },
    {
      "cell_type": "code",
      "execution_count": null,
      "metadata": {},
      "outputs": [],
      "source": [
        "#PS: jedná se o postavy z historicky důležité RPG videohry Final Fantasy 7\n",
        "retezec = \"Cloud;Zack;Sephiroth;Aerith;Tifa\""
      ]
    },
    {
      "attachments": {},
      "cell_type": "markdown",
      "metadata": {
        "id": "sAv5GahgqilJ"
      },
      "source": [
        "#### Cvičení 2.4.2: Víceznakový separátor\n",
        "\n",
        "V proměnné retezec se nachází řetězec s daty, které jsou odděleny separátorem. Najděte nejvhodnější způsob, jak řetězec separovat na jednotlivé položky do kolekce a vypište obsah kolekce na obrazovku."
      ]
    },
    {
      "cell_type": "code",
      "execution_count": null,
      "metadata": {
        "id": "yTCK9m6HrDVp"
      },
      "outputs": [],
      "source": [
        "#PS: jedná se o typické domácí mazlíčky ... až na tyranosaura ... a jelena\n",
        "retezec = \"kocka...pes...jelen...tyranosaurus rex...křeček\""
      ]
    },
    {
      "attachments": {},
      "cell_type": "markdown",
      "metadata": {},
      "source": [
        "#### Cvičení 2.4.3: Netradiční víceznakový separátor\n",
        "\n",
        "V proměnné retezec se nachází řetězec s daty, které jsou odděleny separátorem. Najděte nejvhodnější způsob, jak řetězec separovat na jednotlivé položky do kolekce a vypište obsah kolekce na obrazovku."
      ]
    },
    {
      "cell_type": "code",
      "execution_count": null,
      "metadata": {},
      "outputs": [],
      "source": [
        "#PS: jedná se o odkaz na hru Doki Doki literature club, kde jedna z postav zjistí, že se nachází ve videohře\n",
        "#    a začne bořit čtvrtou zeď (termín z divadelních představení) a manipulovat s kódem a soubory videohry\n",
        "retezec = \"Sayuri just Monika Natsuki just Monika Yuri\""
      ]
    },
    {
      "attachments": {},
      "cell_type": "markdown",
      "metadata": {},
      "source": [
        "#### Cvičení 2.4.4: Složitý separátor\n",
        "\n",
        "V proměnné retezec se nachází řetězec s daty, které jsou odděleny separátorem. Najděte nejvhodnější způsob, jak řetězec separovat na jednotlivé položky do kolekce a vypište obsah kolekce na obrazovku."
      ]
    },
    {
      "cell_type": "code",
      "execution_count": null,
      "metadata": {},
      "outputs": [],
      "source": [
        "#PS: jedná se o postavy z knižní trilogie Pán prstenů od spisovatele Tolkiena\n",
        "retezec = \"Boromir ,@ Frodo ,@ Saruman ,@ Gandalf Šedý ,@ Aragorn\""
      ]
    },
    {
      "attachments": {},
      "cell_type": "markdown",
      "metadata": {},
      "source": [
        "#### Cvičení 2.4.5: Binární separátor\n",
        "\n",
        "V proměnné retezec se nachází řetězec s daty, které jsou odděleny separátorem. Najděte nejvhodnější způsob, jak řetězec separovat na jednotlivé položky do kolekce a vypište obsah kolekce na obrazovku."
      ]
    },
    {
      "cell_type": "code",
      "execution_count": null,
      "metadata": {},
      "outputs": [],
      "source": [
        "#PS: nejedná se o žádný odkaz, jen jsem chtěl mít v nějakém cvičení binární čísla a trošku vás potrápit :)\n",
        "retezec = \"1100111100101111010111110111\""
      ]
    },
    {
      "attachments": {},
      "cell_type": "markdown",
      "metadata": {
        "id": "9TskPvmVKORx"
      },
      "source": [
        "### Téma 2.5 Rozbalení kolekce\n",
        "\n",
        "Hodnoty uložené z kolekce můžeme uložit do správného počtu proměnných pomocí tzv. rozbalování (unpacking). Na následující buňce vidíte rozbalení seznam tří celých čísel do tří proměnných a,b,c. Tyto proměnné musí být na levé straně rovnice odděleny čárkou (mezery jsou dobrovolné) a jejich počet musí odpovídat počtu hodnot v kolekci na pravé straně."
      ]
    },
    {
      "cell_type": "code",
      "execution_count": null,
      "metadata": {
        "id": "aT705nyRKTzH"
      },
      "outputs": [],
      "source": [
        "a, b, c = [5, 3, 2]\n",
        "print(f\"a={a}, b={b}, c={c}\")"
      ]
    },
    {
      "attachments": {},
      "cell_type": "markdown",
      "metadata": {
        "id": "NB9gCxTJwUy4"
      },
      "source": [
        "Toho můžeme využít a rozbalit získané data od uživatele z výzvy."
      ]
    },
    {
      "cell_type": "code",
      "execution_count": null,
      "metadata": {
        "colab": {
          "base_uri": "https://localhost:8080/",
          "height": 133
        },
        "id": "zSV5-MJ_xQhq",
        "outputId": "e1e8b70f-681e-44fe-f613-166b859944c9"
      },
      "outputs": [],
      "source": [
        "vstup = input(\"Zadej čárkou oddělené koeficienty kvadratické rovnice v pořadí a,b,c: \")\n",
        "koeficienty = vstup.split(\",\")\n",
        "a, b, c = koeficienty\n",
        "print(f\"a={a}, b={b}, c={c}\")"
      ]
    },
    {
      "attachments": {},
      "cell_type": "markdown",
      "metadata": {},
      "source": [
        "Nebo můžeme celý postup zkrátit pomocí obalování funkce jinou funkcí."
      ]
    },
    {
      "cell_type": "code",
      "execution_count": null,
      "metadata": {
        "id": "NTLWnVlkxWEX"
      },
      "outputs": [],
      "source": [
        "a, b, c = input(\"Zadej koeficienty a,b,c: \").split(\",\")\n",
        "print(f\"a={a}, b={b}, c={c}\")"
      ]
    },
    {
      "attachments": {},
      "cell_type": "markdown",
      "metadata": {},
      "source": [
        "Při tomto postupu získáme do proměnných řetězce, které si musíme podle potřeby přetypovat."
      ]
    },
    {
      "cell_type": "code",
      "execution_count": null,
      "metadata": {},
      "outputs": [],
      "source": [
        "a, b, c = input(\"Zadej koeficienty a,b,c: \").split(\",\")\n",
        "a = float(a)\n",
        "b = float(b)\n",
        "c = float(c)\n",
        "print(f\"a={a}, b={b}, c={c}\")"
      ]
    },
    {
      "attachments": {},
      "cell_type": "markdown",
      "metadata": {},
      "source": [
        "Pro zkrácení počtu řádek kódu je možné program z předchozí buňky přepsat následujícím způsobem. Pozor však na správné pořadí na levé a pravé straně příkazu na druhém řádku."
      ]
    },
    {
      "cell_type": "code",
      "execution_count": null,
      "metadata": {},
      "outputs": [],
      "source": [
        "a, b, c = input(\"Zadej koeficienty a,b,c: \").split(\",\")\n",
        "a, b, c = float(a), float(b), float(c)\n",
        "print(f\"a={a}, b={b}, c={c}\")"
      ]
    },
    {
      "attachments": {},
      "cell_type": "markdown",
      "metadata": {},
      "source": [
        "Značně pokročilá technika přetypování vstupu z výzvy spočívá ve využití příkazu map, který se naučíte v pozdější lekci o příkazech z funkcionálního programování. Tato funkce převezme přetypovací funkci (píšeme bez závorek) a kolekci dat k přetypování. Následně se musí výstup funkce map přetypovat na kolekci, kterou je možné rozbalit."
      ]
    },
    {
      "cell_type": "code",
      "execution_count": null,
      "metadata": {},
      "outputs": [],
      "source": [
        "a, b, c = list(map(float, input(\"Zadej koeficienty a,b,c: \").split(\",\")))\n",
        "print(f\"a={a}, b={b}, c={c}\")"
      ]
    },
    {
      "attachments": {},
      "cell_type": "markdown",
      "metadata": {
        "id": "TJVCkoN3zaV5"
      },
      "source": [
        "#### Cvičení 2.5.1: Načtení jmen přátel\n",
        "\n",
        "Napište program, který požádá uživatele o zadání celých jmen (jméno a příjmení) kamarádů. Jména budou odděleny vámi vybraným separátorem. Rozdělte data získaná z výzvy podle zvoleného separátoru a vypište kolekci jmen na obrazovku (nerozbalujte ji)."
      ]
    },
    {
      "cell_type": "code",
      "execution_count": null,
      "metadata": {
        "id": "YJTyBXjQz5po"
      },
      "outputs": [],
      "source": []
    },
    {
      "attachments": {},
      "cell_type": "markdown",
      "metadata": {
        "id": "SnM_TxgewQK3"
      },
      "source": [
        "#### Cvičení 2.5.2: Rok narození přátel\n",
        "\n",
        "Napište program, který požádá uživatele o zadání roku narození pro tři přátelé v pořadí: Jana, Milan, Květa. Program přijme tyto roky narození, rozdělí je do proměnných jana, milan, kveta a přetypuje je na celá čísla. Můžete si vybrat libovolný způsob."
      ]
    },
    {
      "cell_type": "code",
      "execution_count": null,
      "metadata": {
        "id": "kF_hweoGrwJf"
      },
      "outputs": [],
      "source": []
    },
    {
      "attachments": {},
      "cell_type": "markdown",
      "metadata": {},
      "source": [
        "#### Cvičení 2.5.3: Načtení koeficientů lineární rovnice\n",
        "\n",
        "Napište program, který požádá o koeficienty lineární rovnice naráz v jedné výzvě. Následně požádá uživatele v druhé výzvě hodnotu x, pro kterou program spočítá funkční hodnotu a vypíše ji na obrazovku."
      ]
    },
    {
      "cell_type": "code",
      "execution_count": null,
      "metadata": {},
      "outputs": [],
      "source": []
    },
    {
      "attachments": {},
      "cell_type": "markdown",
      "metadata": {},
      "source": [
        "#### Cvičení 2.5.4: Objem kvádru\n",
        "\n",
        "Napište program, který požádá uživatele o rozměry kvádru a program vypíše na obrazovku objem takového kvádru. Uživateli dovolte zadávat i desetinná čísla jako vstupní hodnoty."
      ]
    },
    {
      "cell_type": "code",
      "execution_count": null,
      "metadata": {},
      "outputs": [],
      "source": []
    },
    {
      "attachments": {},
      "cell_type": "markdown",
      "metadata": {},
      "source": [
        "#### Cvičení 2.5.5: Psaní za trest na tabuli\n",
        "\n",
        "Následující program je inspirací z úvodní scény ze seriálu Simpsonovi. Napište program, do kterého uživatel zadá větu, kterou chce opakovaně vypsat. Ve druhé výzvě zadá kolikrát chce větu vypsat. Program následně vypíše pomocí násobného zřetězení zadaný řetězec na obrazovku tolikrát, kolikrát uživatel zadal."
      ]
    },
    {
      "cell_type": "code",
      "execution_count": null,
      "metadata": {},
      "outputs": [],
      "source": []
    },
    {
      "attachments": {},
      "cell_type": "markdown",
      "metadata": {
        "id": "-djbkLOhKp4e"
      },
      "source": [
        "### Domácí Úkoly 2"
      ]
    },
    {
      "attachments": {},
      "cell_type": "markdown",
      "metadata": {
        "id": "9LNOfEg-LEpM"
      },
      "source": [
        "#### Úkol 2.1 Interaktivní BMI kalkulačka\n",
        "\n",
        "Minulé cvičení jste psali výpočet BMI. Data musel uživatel zadat přímo do kódu. Upravte program z předešlé hodiny tak, aby mohl data zadávat pomocí výzvy. Vypište v hezky formátované podobě výsledné BMI na obrazovku."
      ]
    },
    {
      "cell_type": "code",
      "execution_count": null,
      "metadata": {
        "id": "HHzCxwlbLHFM"
      },
      "outputs": [],
      "source": []
    },
    {
      "attachments": {},
      "cell_type": "markdown",
      "metadata": {
        "id": "zS-wpyiILAdP"
      },
      "source": [
        "#### Úkol 2.2 Převodník jednotek\n",
        "\n",
        "Napište program, do kterého uživatel zadá výšku v centimetrech a hmotnost v kilogramech. Program vypíše na obrazovku výšku ve stopách a hmotnost v librách."
      ]
    },
    {
      "cell_type": "code",
      "execution_count": null,
      "metadata": {
        "id": "a_C7OtW-LEEP"
      },
      "outputs": [],
      "source": []
    },
    {
      "attachments": {},
      "cell_type": "markdown",
      "metadata": {
        "id": "irOUsZnCssvV"
      },
      "source": [
        "#### Úkol 2.3 Statistika v jazyce Python\n",
        "\n",
        "V modulu statistics nalezne plno užitečných statistických funkcí. Zkuste si modul naimportovat do vašeho kódu a spočítat a vypsat na obrazovku následující statistické hodnoty: průměr (střední hodnota), medián, modus. Nalezněte na internetu, jak se tyto funkce z modulu volají. Data, na kterých výpočet proveďte zadá uživatel naráz do výzvy oddělené čárkou."
      ]
    },
    {
      "cell_type": "code",
      "execution_count": null,
      "metadata": {
        "id": "lqp-k6cssuyv"
      },
      "outputs": [],
      "source": []
    },
    {
      "attachments": {},
      "cell_type": "markdown",
      "metadata": {
        "id": "SAUxDaB9splD"
      },
      "source": [
        "#### Úkol 2.4 Funkce sum\n",
        "\n",
        "Python obsahuje funkci pro rychlý součet hodnot z kolekce. Nechte uživatele zadat kolekci čísel oddělených čárkou, přetypujte data na desetinná čísla a sečtěte výslednou kolekci funkcí sum. Pokud nechcete příliš experimentovat, tak si vyhledejte na internetu, jak se funkce sum používá. Program vytiskne na obrazovku výsledek součtu zadaných čísel."
      ]
    },
    {
      "cell_type": "code",
      "execution_count": null,
      "metadata": {
        "id": "sx12qR5xLJyr"
      },
      "outputs": [],
      "source": []
    },
    {
      "attachments": {},
      "cell_type": "markdown",
      "metadata": {
        "id": "eq-2o-KjLHiG"
      },
      "source": [
        "#### Úkol 2.5 Nejmenší a největší číslo ze zadaných čísel\n",
        "\n",
        "Python obsahuje funkci pro vyhledání nejmenšího čísla v kolekci (funkce min) a funkcí pro vyhledání největšího čísla v kolekci (funkce max). Napište program, který načte z výzvy kolekci čísel oddělených mezerou a vypíše na obrazovku nejmenší číslo zadané do výzvy a největší číslo zadané do výzvy."
      ]
    },
    {
      "cell_type": "code",
      "execution_count": null,
      "metadata": {
        "id": "u6MsJAXpssKZ"
      },
      "outputs": [],
      "source": []
    }
  ],
  "metadata": {
    "colab": {
      "authorship_tag": "ABX9TyNbkxQfcyh/00+2I2aycp61",
      "provenance": []
    },
    "kernelspec": {
      "display_name": "Python 3",
      "name": "python3"
    },
    "language_info": {
      "name": "python"
    }
  },
  "nbformat": 4,
  "nbformat_minor": 0
}
