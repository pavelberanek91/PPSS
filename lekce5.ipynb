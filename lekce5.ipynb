{
  "cells": [
    {
      "attachments": {},
      "cell_type": "markdown",
      "metadata": {
        "id": "-FueR60PPdhB"
      },
      "source": [
        "# Programování pro střední školy"
      ]
    },
    {
      "attachments": {},
      "cell_type": "markdown",
      "metadata": {
        "id": "A06-0F60KBcr"
      },
      "source": [
        "## Lekce 5: Procházení kolekce\n",
        "\n",
        "V minulé lekci jste používali cyklus, abyste opakovali nějakou sadu příkazů. V této lekci se seznámíte s první kolekcí a to je seznam (budeme však pracovat se seznamem jako by to byla libovolná jiná kolekce). Kolekce jsou datové struktury, které umožňují uschovat více hodnot v jednu chvíli. Dále se naučíte se tyto hodnoty v kolekci pomocí cyklů procházet.\n"
      ]
    },
    {
      "attachments": {},
      "cell_type": "markdown",
      "metadata": {
        "id": "Tyn9KoXKPjiV"
      },
      "source": [
        "### Téma 5.1 Kolekce\n",
        "\n",
        "Kolekce je sada hodnot, na které se odkazujeme jednou proměnnou. V následujícím kódu vidíme proměnnou kamaradi, které obsahuje (správně odkazuje) na kolekci s hodnotami \"Jana\", \"Milan\", \"Petr\"."
      ]
    },
    {
      "cell_type": "code",
      "execution_count": null,
      "metadata": {
        "colab": {
          "base_uri": "https://localhost:8080/"
        },
        "id": "dph1l3T5deaH",
        "outputId": "2fa284e8-22a0-4cf9-cf03-5beeaebb374f"
      },
      "outputs": [],
      "source": [
        "kamaradi = [\"Jana\", \"Milan\", \"Petr\"]"
      ]
    },
    {
      "attachments": {},
      "cell_type": "markdown",
      "metadata": {},
      "source": [
        "Kolekce může vzniknout například tak, že načtete hodnoty od uživatele."
      ]
    },
    {
      "cell_type": "code",
      "execution_count": null,
      "metadata": {},
      "outputs": [],
      "source": [
        "kamaradi = input(\"Zadej jména kamarádů a odděl je mezerou: \").split()"
      ]
    },
    {
      "attachments": {},
      "cell_type": "markdown",
      "metadata": {
        "id": "VhviB9XgdtOx"
      },
      "source": [
        "Kolekci můžete vytisknout příkazem print."
      ]
    },
    {
      "cell_type": "code",
      "execution_count": null,
      "metadata": {
        "colab": {
          "base_uri": "https://localhost:8080/",
          "height": 133
        },
        "id": "-oZVEmXFeDgh",
        "outputId": "996ba98a-4236-4389-8be3-8a57cccc7f11"
      },
      "outputs": [],
      "source": [
        "print(kamaradi)"
      ]
    },
    {
      "attachments": {},
      "cell_type": "markdown",
      "metadata": {},
      "source": [
        "Pokud potřebujete načíst z příkazové řádky naráz kolekci hodnot s jinými datovými typy, než jsou řetězce, budete muset data přetypovat na příslušný typ. Přetypování celé kolekce se provádí příkazem map. V následujícím kódu vidíte, jak je načten seznam celých čísel. Struktura je následující:\n",
        "\n",
        "* input() - slouží pro načtení dat z klávesnice\n",
        "* split() - slouží pro rozdělení dat podle zadaného separátoru\n",
        "* map() - slouží pro aplikování zadané funkce (zde přetypovací funkce) na prvky kolekce\n",
        "* int() - slouží pro přetypování prvku na celé číslo\n",
        "* list() - slouží pro přeměnu prvku na seznam (druh kolekce v této lekci), tento příkaz je nutné psát po mapu, jinak map nevrátí kolekci"
      ]
    },
    {
      "cell_type": "code",
      "execution_count": null,
      "metadata": {},
      "outputs": [],
      "source": [
        "cela_cisla = list(map(int, input(\"Zadej čísla oddělená čárkou: \").split(\",\")))\n",
        "print(cela_cisla)"
      ]
    },
    {
      "attachments": {},
      "cell_type": "markdown",
      "metadata": {
        "id": "ompkHW0Ka0o1"
      },
      "source": [
        "#### Cvičení 5.1.1: Načtení desetinných čísel\n",
        "\n",
        "Načtěte z klávesnice kolekci desetinných čísel, které jsou oddělené středníkem (;)"
      ]
    },
    {
      "cell_type": "code",
      "execution_count": null,
      "metadata": {
        "id": "cc9TWDQpbH1t"
      },
      "outputs": [],
      "source": [
        "desetinna_cisla = list(map(float, input(\"Zadej čísla oddělená středníkem: \").split(\";\")))\n",
        "print(desetinna_cisla)"
      ]
    },
    {
      "attachments": {},
      "cell_type": "markdown",
      "metadata": {},
      "source": [
        "Z kolekce lze vytisknout i konkrétní prvek a to pomocí čísla jeho pořadí. Tomuto číslu říkáme index a jedná se o celé číslo. V jazyce Python se čísluje od indexu 0."
      ]
    },
    {
      "cell_type": "code",
      "execution_count": null,
      "metadata": {
        "id": "qVz1Vcb8bRQO"
      },
      "outputs": [],
      "source": [
        "kamaradi = [\"Jana\", \"Milan\", \"Petr\"]\n",
        "print(kamaradi[0]) #první kamarád\n",
        "print(kamaradi[1]) #druhý kamarád\n",
        "print(kamaradi[2]) #třetí kamarád"
      ]
    },
    {
      "attachments": {},
      "cell_type": "markdown",
      "metadata": {},
      "source": [
        "Pokud byste se pokusili vypsat pomocí prvku, který překročil nejvyšší index v kolekci, tak obdržíte chybu."
      ]
    },
    {
      "cell_type": "code",
      "execution_count": null,
      "metadata": {},
      "outputs": [],
      "source": [
        "print(kamaradi[3])"
      ]
    },
    {
      "attachments": {},
      "cell_type": "markdown",
      "metadata": {},
      "source": [
        "V programování se může stát, že data do kolekce načítáte z nějakého souboru a nemůžete si být jistý počtem prvků v kolekci a přesto byste potřebovali poslední prvek v kolekci. Řešením je spočítat si počet prvků v kolekci příkazem len() (zkratka pro délku length) a odečíst 1 (kvůli tomu, že indexujeme od nuly)."
      ]
    },
    {
      "cell_type": "code",
      "execution_count": null,
      "metadata": {
        "id": "Ink9Ak9pbSPk"
      },
      "outputs": [],
      "source": [
        "pocet_prvku = len(kamaradi)\n",
        "print(kamaradi[pocet_prvku-1])"
      ]
    },
    {
      "attachments": {},
      "cell_type": "markdown",
      "metadata": {},
      "source": [
        "Tento zápis lze v programování zkrátit tak, že napíšete pouze záporný index."
      ]
    },
    {
      "cell_type": "code",
      "execution_count": null,
      "metadata": {},
      "outputs": [],
      "source": [
        "print(kamaradi[-1])"
      ]
    },
    {
      "attachments": {},
      "cell_type": "markdown",
      "metadata": {},
      "source": [
        "Indexování pomocí záporných čísel tedy představuje indexování od zadu. Můžete tak vypsat i předposlední prvek, před-předposlední, atd. Pozor, opět můžete z druhé strany vyjet mimo kolekci příliš záporným indexem."
      ]
    },
    {
      "cell_type": "code",
      "execution_count": null,
      "metadata": {
        "id": "lFJiYdQ1bT4e"
      },
      "outputs": [],
      "source": [
        "print(kamaradi[-1])\n",
        "print(kamaradi[-2])\n",
        "print(kamaradi[-3])\n",
        "print(kamaradi[-4])"
      ]
    },
    {
      "attachments": {},
      "cell_type": "markdown",
      "metadata": {
        "id": "F-I4preIbgJY"
      },
      "source": [
        "#### Cvičení 5.1.2: Poslední zadaný prvek\n",
        "\n",
        "Načtěte naráz z klávesnice jména oddělená mezerou, uložte je do kolekce a vypište poslední zadané jméno z kolekce. Počet jmen je na vás."
      ]
    },
    {
      "cell_type": "code",
      "execution_count": null,
      "metadata": {
        "id": "CftXGPdAbwLU"
      },
      "outputs": [],
      "source": [
        "jmena = input(\"Zadej jména: \").split()\n",
        "print(jmena[-1])"
      ]
    },
    {
      "attachments": {},
      "cell_type": "markdown",
      "metadata": {},
      "source": [
        "Často potřebujete projít všechny prvky v kolekci. Těch může být tolik, že opakované psaní indexu nebude možné. Řešením je použít cyklus FOR. Cyklem navyšujete postupně hodnotu řídící proměnné, kterou následně použijete jako index do kolekce.\n"
      ]
    },
    {
      "cell_type": "code",
      "execution_count": null,
      "metadata": {},
      "outputs": [],
      "source": [
        "kamaradi = [\"Jana\", \"Milan\", \"Petr\"]\n",
        "for index in range(3):\n",
        "    print(kamaradi[index])"
      ]
    },
    {
      "attachments": {},
      "cell_type": "markdown",
      "metadata": {},
      "source": [
        "V případě, že neznáte předem počet prvků v kolekci, tak musíte horní mez ve FOR cyklu vypočítat příkazem len(). Slovo index se často zkracuje v programování na idx nebo i (v pythonu se spíše používá idx)."
      ]
    },
    {
      "cell_type": "code",
      "execution_count": null,
      "metadata": {},
      "outputs": [],
      "source": [
        "jmena = input(\"Zadej jména: \").split()\n",
        "for idx in range(len(jmena)):\n",
        "    print(f\"Index: {idx}, Prvek: {jmena[idx]}\")"
      ]
    },
    {
      "attachments": {},
      "cell_type": "markdown",
      "metadata": {
        "id": "T1gpLw_rb5R7"
      },
      "source": [
        "#### Cvičení 5.1.3: Vypsání kolekce\n",
        "\n",
        "Následující seznam obsahuje jména. Vypište na obrazovku pomocí FOR cyklu jejich délky."
      ]
    },
    {
      "cell_type": "code",
      "execution_count": null,
      "metadata": {
        "id": "tCtP9vdDdOfl"
      },
      "outputs": [],
      "source": [
        "jmena = [\"Adam\", \"Ctirad\", \"Michal\", \"Jarmilka\", \"Bořivoj\", \"Jana\", \"Leo\", \"Petr\"]\n",
        "for idx in range(len(jmena)):\n",
        "    print(len(jmena[idx]))"
      ]
    },
    {
      "attachments": {},
      "cell_type": "markdown",
      "metadata": {},
      "source": [
        "Prvky v kolekci lze dále zpracovávat nebo agregovat (shrnovat) do výsledků. Následující kód provede součet prvků v kolekci pomocí FOR cyklu."
      ]
    },
    {
      "cell_type": "code",
      "execution_count": null,
      "metadata": {},
      "outputs": [],
      "source": [
        "cisla = [2, 4, 1, 4, 2, 3, 4, 5, 1]\n",
        "\n",
        "suma = 0\n",
        "for i in range(len(cisla)):\n",
        "    suma += cisla[i]\n",
        "\n",
        "print(suma)"
      ]
    },
    {
      "attachments": {},
      "cell_type": "markdown",
      "metadata": {},
      "source": [
        "Tyto časté operace mají předpřipravené ekvivalenty jako operace v pythonu, které používejte."
      ]
    },
    {
      "cell_type": "code",
      "execution_count": null,
      "metadata": {},
      "outputs": [],
      "source": [
        "cisla = [2, 4, 1, 4, 2, 3, 4, 5, 1]\n",
        "suma = sum(cisla)\n",
        "print(suma)"
      ]
    },
    {
      "attachments": {},
      "cell_type": "markdown",
      "metadata": {},
      "source": [
        "#### Cvičení 5.1.4: Součin prvků v kolekci\n",
        "\n",
        "Napište program, který provede součin všech prvků v kolekci. "
      ]
    },
    {
      "cell_type": "code",
      "execution_count": null,
      "metadata": {},
      "outputs": [],
      "source": [
        "cisla = [2, 4, 1, 4, 2, 3, 4, 5, 1]\n",
        "\n",
        "soucin = 1\n",
        "for idx in range(len(cisla)):\n",
        "    soucin *= cisla[idx]\n",
        "\n",
        "print(soucin)"
      ]
    },
    {
      "attachments": {},
      "cell_type": "markdown",
      "metadata": {
        "id": "vOst9Mw6tXdQ"
      },
      "source": [
        "#### Cvičení 5.1.5: Průměrná známka\n",
        "\n",
        "Napište program, který spočítá průměrné známky studentů na vysvědčení a průměr celé třídy. V následujícím kódu vidíte 3 seznamy známek - Pavel, Jana, Milan. Vytiskněte na obrazovku, jaká je jejich průměrná známka. Dále vytisknete, jaký je průměr známek třídy (tito tři jsou jediní studenti ve třídě)."
      ]
    },
    {
      "cell_type": "code",
      "execution_count": null,
      "metadata": {
        "id": "fmCWbGMGtsFF"
      },
      "outputs": [],
      "source": [
        "pavel = [1, 5, 2, 3, 5, 4]\n",
        "jana = [2, 4, 1, 5, 5, 5, 4, 2, 3]\n",
        "milan = [1, 1, 1, 1, 1, 1]\n",
        "\n",
        "pavel_prumer = sum(pavel)/len(pavel)\n",
        "jana_prumer = sum(jana)/len(jana)\n",
        "milan_prumer = sum(milan)/len(milan)\n",
        "\n",
        "trida_prumer = (pavel_prumer + jana_prumer + milan_prumer)/3\n",
        "\n",
        "print(f\"Pavel: {pavel_prumer}\")\n",
        "print(f\"Jana: {jana_prumer}\")\n",
        "print(f\"Milan: {milan_prumer}\")\n",
        "print(f\"Trida: {trida_prumer}\")"
      ]
    },
    {
      "attachments": {},
      "cell_type": "markdown",
      "metadata": {},
      "source": [
        "Kromě indexace lze prvky procházet v kolekci přímo. Řídící proměnná představuje v následujícím kódu proměnnou, obsahující kopii hodnoty z kolekce, které je aktuálně na řadě."
      ]
    },
    {
      "cell_type": "code",
      "execution_count": null,
      "metadata": {},
      "outputs": [],
      "source": [
        "kamaradi = [\"Jana\", \"Milan\", \"Petr\"]\n",
        "for kamarad in kamaradi:\n",
        "    print(kamarad)"
      ]
    },
    {
      "attachments": {},
      "cell_type": "markdown",
      "metadata": {},
      "source": [
        "Existuje zde jeden důležitý rozdíl mezi přístupem přes index a přímým přístupem. V přístupu přes index lze měnit prvky v kolekci, zatímco přístupem přímo nelze. Přístup přímo využívá do řídící proměnné kopii hodnot z kolekce, takže změna v řídící proměnné změní pouze kopii hodnoty, ale ne zdroj."
      ]
    },
    {
      "cell_type": "code",
      "execution_count": null,
      "metadata": {},
      "outputs": [],
      "source": [
        "kamaradi = [\"Jana\", \"Milan\", \"Petr\"]\n",
        "for idx in range(len(kamaradi)):\n",
        "    kamaradi[idx] = \"Maxipes Fik\"\n",
        "\n",
        "print(kamaradi)"
      ]
    },
    {
      "cell_type": "code",
      "execution_count": null,
      "metadata": {},
      "outputs": [],
      "source": [
        "kamaradi = [\"Jana\", \"Milan\", \"Petr\"]\n",
        "for kamarad in kamaradi:\n",
        "    kamarad = \"Maxipes Fik\"\n",
        "\n",
        "print(kamaradi)"
      ]
    },
    {
      "attachments": {},
      "cell_type": "markdown",
      "metadata": {},
      "source": [
        "#### Cvičení 5.1.6: Přepište desetinná čísla na procenta\n",
        "\n",
        "Následující kód je kód studenta, který se neúspěšně snažil o změnu desetinných čísel v kolekci na hodnotu v procentech. Přepište kód tak, aby fungoval. První hodnota v kolekci (0.01) se má přepsat na 1, druhá hodnota 0.15 se má přepsat na 15."
      ]
    },
    {
      "cell_type": "code",
      "execution_count": null,
      "metadata": {},
      "outputs": [],
      "source": [
        "data = [0.01, 0.15, 0.95, 0.34, 0.65, 0.71]\n",
        "for cislo in data:\n",
        "    cislo *= 100\n",
        "\n",
        "print(data)"
      ]
    },
    {
      "attachments": {},
      "cell_type": "markdown",
      "metadata": {
        "id": "Yur2pr53gosw"
      },
      "source": [
        "### Téma 5.2: Vyhledání hodnot v kolekci\n",
        "\n",
        "Důležitým tématem je "
      ]
    },
    {
      "cell_type": "code",
      "execution_count": null,
      "metadata": {
        "colab": {
          "base_uri": "https://localhost:8080/"
        },
        "id": "ESQ42O3Bhlro",
        "outputId": "cf532d01-fd2c-4f0e-ce8e-30ecda14861c"
      },
      "outputs": [],
      "source": []
    },
    {
      "attachments": {},
      "cell_type": "markdown",
      "metadata": {},
      "source": [
        "lorem"
      ]
    },
    {
      "cell_type": "code",
      "execution_count": null,
      "metadata": {},
      "outputs": [],
      "source": []
    },
    {
      "attachments": {},
      "cell_type": "markdown",
      "metadata": {},
      "source": [
        "lorem"
      ]
    },
    {
      "cell_type": "code",
      "execution_count": null,
      "metadata": {},
      "outputs": [],
      "source": []
    },
    {
      "attachments": {},
      "cell_type": "markdown",
      "metadata": {},
      "source": [
        "lorem"
      ]
    },
    {
      "cell_type": "code",
      "execution_count": null,
      "metadata": {
        "colab": {
          "base_uri": "https://localhost:8080/"
        },
        "id": "LATH0O3-hwaC",
        "outputId": "098afd02-d100-4ff9-cb47-91b08c6b1ee1"
      },
      "outputs": [],
      "source": []
    },
    {
      "attachments": {},
      "cell_type": "markdown",
      "metadata": {},
      "source": [
        "lorem"
      ]
    },
    {
      "attachments": {},
      "cell_type": "markdown",
      "metadata": {
        "id": "ShArx6Gghzyh"
      },
      "source": [
        "#### Cvičení 5.2.1: Lorem\n",
        "\n"
      ]
    },
    {
      "cell_type": "code",
      "execution_count": null,
      "metadata": {
        "id": "qxNRW_HkiW4T"
      },
      "outputs": [],
      "source": []
    },
    {
      "attachments": {},
      "cell_type": "markdown",
      "metadata": {
        "id": "SQdIMH9ci1N_"
      },
      "source": [
        "#### Cvičení 5.2.2: Lorem\n",
        "\n",
        "lorem"
      ]
    },
    {
      "cell_type": "code",
      "execution_count": null,
      "metadata": {
        "id": "rkcJhjhgjJ5E"
      },
      "outputs": [],
      "source": []
    },
    {
      "attachments": {},
      "cell_type": "markdown",
      "metadata": {},
      "source": [
        "#### Cvičení 5.2.3: Lorem\n",
        "\n",
        "lorem"
      ]
    },
    {
      "cell_type": "code",
      "execution_count": null,
      "metadata": {},
      "outputs": [],
      "source": []
    },
    {
      "attachments": {},
      "cell_type": "markdown",
      "metadata": {},
      "source": [
        "#### Cvičení 5.2.4: Lorem\n",
        "\n",
        "lorem"
      ]
    },
    {
      "cell_type": "code",
      "execution_count": null,
      "metadata": {},
      "outputs": [],
      "source": []
    },
    {
      "attachments": {},
      "cell_type": "markdown",
      "metadata": {},
      "source": [
        "#### Cvičení 5.2.5: Lorem\n",
        "\n",
        "lorem"
      ]
    },
    {
      "cell_type": "code",
      "execution_count": null,
      "metadata": {},
      "outputs": [],
      "source": []
    },
    {
      "attachments": {},
      "cell_type": "markdown",
      "metadata": {
        "id": "vpk7LZEujUYt"
      },
      "source": [
        "### Téma 5.3: Řazení kolekce\n",
        "\n",
        "lorem"
      ]
    },
    {
      "cell_type": "code",
      "execution_count": null,
      "metadata": {
        "colab": {
          "base_uri": "https://localhost:8080/"
        },
        "id": "QMbJR02SjYHT",
        "outputId": "539254d7-df54-4f85-e953-54580cb4e51c"
      },
      "outputs": [],
      "source": []
    },
    {
      "attachments": {},
      "cell_type": "markdown",
      "metadata": {},
      "source": [
        "lorem"
      ]
    },
    {
      "cell_type": "code",
      "execution_count": null,
      "metadata": {},
      "outputs": [],
      "source": []
    },
    {
      "attachments": {},
      "cell_type": "markdown",
      "metadata": {},
      "source": [
        "lorem"
      ]
    },
    {
      "cell_type": "code",
      "execution_count": null,
      "metadata": {},
      "outputs": [],
      "source": []
    },
    {
      "attachments": {},
      "cell_type": "markdown",
      "metadata": {
        "id": "htFJyFKQm9_g"
      },
      "source": [
        "#### Cvičení 5.3.1: Lorem\n",
        "\n",
        "lorem"
      ]
    },
    {
      "cell_type": "code",
      "execution_count": null,
      "metadata": {},
      "outputs": [],
      "source": []
    },
    {
      "attachments": {},
      "cell_type": "markdown",
      "metadata": {},
      "source": [
        "#### Cvičení 5.3.2: Lorem\n",
        "\n",
        "lorem"
      ]
    },
    {
      "cell_type": "code",
      "execution_count": null,
      "metadata": {},
      "outputs": [],
      "source": []
    },
    {
      "attachments": {},
      "cell_type": "markdown",
      "metadata": {},
      "source": [
        "Lorem"
      ]
    },
    {
      "cell_type": "code",
      "execution_count": null,
      "metadata": {},
      "outputs": [],
      "source": []
    },
    {
      "attachments": {},
      "cell_type": "markdown",
      "metadata": {},
      "source": [
        "Lorem"
      ]
    },
    {
      "attachments": {},
      "cell_type": "markdown",
      "metadata": {
        "id": "B91DlVktkksl"
      },
      "source": [
        "#### Cvičení 5.3.3: Lorem\n",
        "\n",
        "lorem"
      ]
    },
    {
      "cell_type": "code",
      "execution_count": null,
      "metadata": {},
      "outputs": [],
      "source": []
    },
    {
      "attachments": {},
      "cell_type": "markdown",
      "metadata": {},
      "source": [
        "#### Cvičení 5.3.4: Lorem\n",
        "\n",
        "lorem"
      ]
    },
    {
      "cell_type": "code",
      "execution_count": null,
      "metadata": {},
      "outputs": [],
      "source": []
    },
    {
      "attachments": {},
      "cell_type": "markdown",
      "metadata": {},
      "source": [
        "#### Cvičení 5.3.5: Lorem\n",
        "\n",
        "lorem"
      ]
    },
    {
      "cell_type": "code",
      "execution_count": null,
      "metadata": {},
      "outputs": [],
      "source": []
    },
    {
      "attachments": {},
      "cell_type": "markdown",
      "metadata": {
        "id": "-djbkLOhKp4e"
      },
      "source": [
        "### Domácí Úkoly 5"
      ]
    },
    {
      "attachments": {},
      "cell_type": "markdown",
      "metadata": {
        "id": "eq-2o-KjLHiG"
      },
      "source": [
        "#### Úkol 5.1 lorem\n",
        "\n",
        "lorem"
      ]
    },
    {
      "cell_type": "code",
      "execution_count": null,
      "metadata": {
        "id": "HHzCxwlbLHFM"
      },
      "outputs": [],
      "source": []
    },
    {
      "attachments": {},
      "cell_type": "markdown",
      "metadata": {
        "id": "SAUxDaB9splD"
      },
      "source": [
        "#### Úkol 5.2 lorem\n",
        "\n",
        "lorem"
      ]
    },
    {
      "cell_type": "code",
      "execution_count": null,
      "metadata": {
        "id": "a_C7OtW-LEEP"
      },
      "outputs": [],
      "source": []
    },
    {
      "attachments": {},
      "cell_type": "markdown",
      "metadata": {
        "id": "9LNOfEg-LEpM"
      },
      "source": [
        "#### Úkol 5.3 lorem\n",
        "\n",
        "lorem"
      ]
    },
    {
      "cell_type": "code",
      "execution_count": null,
      "metadata": {
        "id": "lqp-k6cssuyv"
      },
      "outputs": [],
      "source": []
    },
    {
      "attachments": {},
      "cell_type": "markdown",
      "metadata": {
        "id": "irOUsZnCssvV"
      },
      "source": [
        "#### Úkol 5.4 lorem\n",
        "\n",
        "lorem"
      ]
    },
    {
      "cell_type": "code",
      "execution_count": null,
      "metadata": {
        "id": "sx12qR5xLJyr"
      },
      "outputs": [],
      "source": []
    },
    {
      "attachments": {},
      "cell_type": "markdown",
      "metadata": {},
      "source": [
        "#### Úkol 5.5 lorem\n",
        "\n",
        "lorem"
      ]
    },
    {
      "cell_type": "code",
      "execution_count": null,
      "metadata": {},
      "outputs": [],
      "source": []
    }
  ],
  "metadata": {
    "colab": {
      "authorship_tag": "ABX9TyNbkxQfcyh/00+2I2aycp61",
      "provenance": []
    },
    "kernelspec": {
      "display_name": "Python 3",
      "name": "python3"
    },
    "language_info": {
      "name": "python"
    }
  },
  "nbformat": 4,
  "nbformat_minor": 0
}
