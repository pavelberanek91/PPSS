{
  "cells": [
    {
      "attachments": {},
      "cell_type": "markdown",
      "metadata": {
        "id": "-FueR60PPdhB"
      },
      "source": [
        "# Programování pro střední školy"
      ]
    },
    {
      "attachments": {},
      "cell_type": "markdown",
      "metadata": {
        "id": "A06-0F60KBcr"
      },
      "source": [
        "## Lekce 5: Procházení kolekce\n",
        "\n",
        "V minulé lekci jste používali cyklus, abyste opakovali nějakou sadu příkazů. V této lekci se seznámíte s první kolekcí a to je seznam (budeme však pracovat se seznamem jako by to byla libovolná jiná kolekce). Kolekce jsou datové struktury, které umožňují uschovat více hodnot v jednu chvíli. Dále se naučíte se tyto hodnoty v kolekci pomocí cyklů procházet.\n"
      ]
    },
    {
      "attachments": {},
      "cell_type": "markdown",
      "metadata": {
        "id": "Tyn9KoXKPjiV"
      },
      "source": [
        "### Téma 5.1 Kolekce\n",
        "\n",
        "Kolekce je sada hodnot, na které se odkazujeme jednou proměnnou. V následujícím kódu vidíme proměnnou kamaradi, které obsahuje (správně odkazuje) na kolekci s hodnotami \"Jana\", \"Milan\", \"Petr\"."
      ]
    },
    {
      "cell_type": "code",
      "execution_count": null,
      "metadata": {
        "colab": {
          "base_uri": "https://localhost:8080/"
        },
        "id": "dph1l3T5deaH",
        "outputId": "2fa284e8-22a0-4cf9-cf03-5beeaebb374f"
      },
      "outputs": [],
      "source": [
        "kamaradi = [\"Jana\", \"Milan\", \"Petr\"]"
      ]
    },
    {
      "attachments": {},
      "cell_type": "markdown",
      "metadata": {},
      "source": [
        "Kolekce může vzniknout například tak, že načtete hodnoty od uživatele."
      ]
    },
    {
      "cell_type": "code",
      "execution_count": null,
      "metadata": {},
      "outputs": [],
      "source": [
        "kamaradi = input(\"Zadej jména kamarádů a odděl je mezerou: \").split()"
      ]
    },
    {
      "attachments": {},
      "cell_type": "markdown",
      "metadata": {
        "id": "VhviB9XgdtOx"
      },
      "source": [
        "Kolekci můžete vytisknout příkazem print."
      ]
    },
    {
      "cell_type": "code",
      "execution_count": null,
      "metadata": {
        "colab": {
          "base_uri": "https://localhost:8080/",
          "height": 133
        },
        "id": "-oZVEmXFeDgh",
        "outputId": "996ba98a-4236-4389-8be3-8a57cccc7f11"
      },
      "outputs": [],
      "source": [
        "print(kamaradi)"
      ]
    },
    {
      "attachments": {},
      "cell_type": "markdown",
      "metadata": {},
      "source": [
        "Pokud potřebujete načíst z příkazové řádky naráz kolekci hodnot s jinými datovými typy, než jsou řetězce, budete muset data přetypovat na příslušný typ. Přetypování celé kolekce se provádí příkazem map. V následujícím kódu vidíte, jak je načten seznam celých čísel. Struktura je následující:\n",
        "\n",
        "* input() - slouží pro načtení dat z klávesnice\n",
        "* split() - slouží pro rozdělení dat podle zadaného separátoru\n",
        "* map() - slouží pro aplikování zadané funkce (zde přetypovací funkce) na prvky kolekce\n",
        "* int() - slouží pro přetypování prvku na celé číslo\n",
        "* list() - slouží pro přeměnu prvku na seznam (druh kolekce v této lekci), tento příkaz je nutné psát po mapu, jinak map nevrátí kolekci"
      ]
    },
    {
      "cell_type": "code",
      "execution_count": null,
      "metadata": {},
      "outputs": [],
      "source": [
        "cela_cisla = list(map(int, input(\"Zadej čísla oddělená čárkou: \").split(\",\")))\n",
        "print(cela_cisla)"
      ]
    },
    {
      "attachments": {},
      "cell_type": "markdown",
      "metadata": {
        "id": "ompkHW0Ka0o1"
      },
      "source": [
        "#### Cvičení 5.1.1: Načtení desetinných čísel\n",
        "\n",
        "Načtěte z klávesnice kolekci desetinných čísel, které jsou oddělené středníkem (;)"
      ]
    },
    {
      "cell_type": "code",
      "execution_count": null,
      "metadata": {
        "id": "cc9TWDQpbH1t"
      },
      "outputs": [],
      "source": []
    },
    {
      "attachments": {},
      "cell_type": "markdown",
      "metadata": {},
      "source": [
        "Z kolekce lze vytisknout i konkrétní prvek a to pomocí čísla jeho pořadí. Tomuto číslu říkáme index a jedná se o celé číslo. V jazyce Python se čísluje od indexu 0."
      ]
    },
    {
      "cell_type": "code",
      "execution_count": null,
      "metadata": {
        "id": "qVz1Vcb8bRQO"
      },
      "outputs": [],
      "source": [
        "kamaradi = [\"Jana\", \"Milan\", \"Petr\"]\n",
        "print(kamaradi[0]) #první kamarád\n",
        "print(kamaradi[1]) #druhý kamarád\n",
        "print(kamaradi[2]) #třetí kamarád"
      ]
    },
    {
      "attachments": {},
      "cell_type": "markdown",
      "metadata": {},
      "source": [
        "Pokud byste se pokusili vypsat pomocí prvku, který překročil nejvyšší index v kolekci, tak obdržíte chybu."
      ]
    },
    {
      "cell_type": "code",
      "execution_count": null,
      "metadata": {},
      "outputs": [],
      "source": [
        "print(kamaradi[3])"
      ]
    },
    {
      "attachments": {},
      "cell_type": "markdown",
      "metadata": {},
      "source": [
        "V programování se může stát, že data do kolekce načítáte z nějakého souboru a nemůžete si být jistý počtem prvků v kolekci a přesto byste potřebovali poslední prvek v kolekci. Řešením je spočítat si počet prvků v kolekci příkazem len() (zkratka pro délku length) a odečíst 1 (kvůli tomu, že indexujeme od nuly)."
      ]
    },
    {
      "cell_type": "code",
      "execution_count": null,
      "metadata": {
        "id": "Ink9Ak9pbSPk"
      },
      "outputs": [],
      "source": [
        "pocet_prvku = len(kamaradi)\n",
        "print(kamaradi[pocet_prvku-1])"
      ]
    },
    {
      "attachments": {},
      "cell_type": "markdown",
      "metadata": {},
      "source": [
        "Tento zápis lze v programování zkrátit tak, že napíšete pouze záporný index."
      ]
    },
    {
      "cell_type": "code",
      "execution_count": null,
      "metadata": {},
      "outputs": [],
      "source": [
        "print(kamaradi[-1])"
      ]
    },
    {
      "attachments": {},
      "cell_type": "markdown",
      "metadata": {},
      "source": [
        "Indexování pomocí záporných čísel tedy představuje indexování od zadu. Můžete tak vypsat i předposlední prvek, před-předposlední, atd. Pozor, opět můžete z druhé strany vyjet mimo kolekci příliš záporným indexem."
      ]
    },
    {
      "cell_type": "code",
      "execution_count": null,
      "metadata": {
        "id": "lFJiYdQ1bT4e"
      },
      "outputs": [],
      "source": [
        "print(kamaradi[-1])\n",
        "print(kamaradi[-2])\n",
        "print(kamaradi[-3])\n",
        "print(kamaradi[-4])"
      ]
    },
    {
      "attachments": {},
      "cell_type": "markdown",
      "metadata": {
        "id": "F-I4preIbgJY"
      },
      "source": [
        "#### Cvičení 5.1.2: Poslední zadaný prvek\n",
        "\n",
        "Načtěte naráz z klávesnice jména oddělená mezerou, uložte je do kolekce a vypište poslední zadané jméno z kolekce. Počet jmen je na vás."
      ]
    },
    {
      "cell_type": "code",
      "execution_count": null,
      "metadata": {
        "id": "CftXGPdAbwLU"
      },
      "outputs": [],
      "source": []
    },
    {
      "attachments": {},
      "cell_type": "markdown",
      "metadata": {},
      "source": [
        "Často potřebujete projít všechny prvky v kolekci. Těch může být tolik, že opakované psaní indexu nebude možné. Řešením je použít cyklus FOR. Cyklem navyšujete postupně hodnotu řídící proměnné, kterou následně použijete jako index do kolekce.\n"
      ]
    },
    {
      "cell_type": "code",
      "execution_count": null,
      "metadata": {},
      "outputs": [],
      "source": [
        "kamaradi = [\"Jana\", \"Milan\", \"Petr\"]\n",
        "for index in range(3):\n",
        "    print(kamaradi[index])"
      ]
    },
    {
      "attachments": {},
      "cell_type": "markdown",
      "metadata": {},
      "source": [
        "V případě, že neznáte předem počet prvků v kolekci, tak musíte horní mez ve FOR cyklu vypočítat příkazem len(). Slovo index se často zkracuje v programování na idx nebo i (v pythonu se spíše používá idx)."
      ]
    },
    {
      "cell_type": "code",
      "execution_count": null,
      "metadata": {},
      "outputs": [],
      "source": [
        "jmena = input(\"Zadej jména: \").split()\n",
        "for idx in range(len(jmena)):\n",
        "    print(f\"Index: {idx}, Prvek: {jmena[idx]}\")"
      ]
    },
    {
      "attachments": {},
      "cell_type": "markdown",
      "metadata": {
        "id": "T1gpLw_rb5R7"
      },
      "source": [
        "#### Cvičení 5.1.3: Vypsání kolekce\n",
        "\n",
        "Následující seznam obsahuje jména. Vypište na obrazovku pomocí FOR cyklu jejich délky."
      ]
    },
    {
      "cell_type": "code",
      "execution_count": null,
      "metadata": {
        "id": "tCtP9vdDdOfl"
      },
      "outputs": [],
      "source": [
        "jmena = [\"Adam\", \"Ctirad\", \"Michal\", \"Jarmilka\", \"Bořivoj\", \"Jana\", \"Leo\", \"Petr\"]\n"
      ]
    },
    {
      "attachments": {},
      "cell_type": "markdown",
      "metadata": {},
      "source": [
        "Prvky v kolekci lze dále zpracovávat nebo agregovat (shrnovat) do výsledků. Následující kód provede součet prvků v kolekci pomocí FOR cyklu."
      ]
    },
    {
      "cell_type": "code",
      "execution_count": null,
      "metadata": {},
      "outputs": [],
      "source": [
        "cisla = [2, 4, 1, 4, 2, 3, 4, 5, 1]\n",
        "\n",
        "suma = 0\n",
        "for i in range(len(cisla)):\n",
        "    suma += cisla[i]\n",
        "\n",
        "print(suma)"
      ]
    },
    {
      "attachments": {},
      "cell_type": "markdown",
      "metadata": {},
      "source": [
        "Tyto časté operace mají předpřipravené ekvivalenty jako operace v pythonu, které používejte."
      ]
    },
    {
      "cell_type": "code",
      "execution_count": null,
      "metadata": {},
      "outputs": [],
      "source": [
        "cisla = [2, 4, 1, 4, 2, 3, 4, 5, 1]\n",
        "suma = sum(cisla)\n",
        "print(suma)"
      ]
    },
    {
      "attachments": {},
      "cell_type": "markdown",
      "metadata": {},
      "source": [
        "#### Cvičení 5.1.4: Součin prvků v kolekci\n",
        "\n",
        "Napište program, který provede součin všech prvků v kolekci. "
      ]
    },
    {
      "cell_type": "code",
      "execution_count": null,
      "metadata": {},
      "outputs": [],
      "source": [
        "cisla = [2, 4, 1, 4, 2, 3, 4, 5, 1]\n"
      ]
    },
    {
      "attachments": {},
      "cell_type": "markdown",
      "metadata": {
        "id": "vOst9Mw6tXdQ"
      },
      "source": [
        "#### Cvičení 5.1.5: Průměrná známka\n",
        "\n",
        "Napište program, který spočítá průměrné známky studentů na vysvědčení a průměr celé třídy. V následujícím kódu vidíte 3 seznamy známek - Pavel, Jana, Milan. Vytiskněte na obrazovku, jaká je jejich průměrná známka. Dále vytisknete, jaký je průměr známek třídy (tito tři jsou jediní studenti ve třídě)."
      ]
    },
    {
      "cell_type": "code",
      "execution_count": null,
      "metadata": {
        "id": "fmCWbGMGtsFF"
      },
      "outputs": [],
      "source": [
        "pavel = [1, 5, 2, 3, 5, 4]\n",
        "jana = [2, 4, 1, 5, 5, 5, 4, 2, 3]\n",
        "milan = [1, 1, 1, 1, 1, 1]\n"
      ]
    },
    {
      "attachments": {},
      "cell_type": "markdown",
      "metadata": {},
      "source": [
        "Kromě indexace lze prvky procházet v kolekci přímo. Řídící proměnná představuje v následujícím kódu proměnnou, obsahující kopii hodnoty z kolekce, které je aktuálně na řadě."
      ]
    },
    {
      "cell_type": "code",
      "execution_count": null,
      "metadata": {},
      "outputs": [],
      "source": [
        "kamaradi = [\"Jana\", \"Milan\", \"Petr\"]\n",
        "for kamarad in kamaradi:\n",
        "    print(kamarad)"
      ]
    },
    {
      "attachments": {},
      "cell_type": "markdown",
      "metadata": {},
      "source": [
        "Existuje zde jeden důležitý rozdíl mezi přístupem přes index a přímým přístupem. V přístupu přes index lze měnit prvky v kolekci, zatímco přístupem přímo nelze. Přístup přímo využívá do řídící proměnné kopii hodnot z kolekce, takže změna v řídící proměnné změní pouze kopii hodnoty, ale ne zdroj."
      ]
    },
    {
      "cell_type": "code",
      "execution_count": null,
      "metadata": {},
      "outputs": [],
      "source": [
        "kamaradi = [\"Jana\", \"Milan\", \"Petr\"]\n",
        "for idx in range(len(kamaradi)):\n",
        "    kamaradi[idx] = \"Maxipes Fik\"\n",
        "\n",
        "print(kamaradi)"
      ]
    },
    {
      "cell_type": "code",
      "execution_count": null,
      "metadata": {},
      "outputs": [],
      "source": [
        "kamaradi = [\"Jana\", \"Milan\", \"Petr\"]\n",
        "for kamarad in kamaradi:\n",
        "    kamarad = \"Maxipes Fik\"\n",
        "\n",
        "print(kamaradi)"
      ]
    },
    {
      "attachments": {},
      "cell_type": "markdown",
      "metadata": {},
      "source": [
        "#### Cvičení 5.1.6: Přepište desetinná čísla na procenta\n",
        "\n",
        "Následující kód je kód studenta, který se neúspěšně snažil o změnu desetinných čísel v kolekci na hodnotu v procentech. Přepište kód tak, aby fungoval. První hodnota v kolekci (0.01) se má přepsat na 1, druhá hodnota 0.15 se má přepsat na 15."
      ]
    },
    {
      "cell_type": "code",
      "execution_count": null,
      "metadata": {},
      "outputs": [],
      "source": [
        "data = [0.01, 0.15, 0.95, 0.34, 0.65, 0.71]\n"
      ]
    },
    {
      "attachments": {},
      "cell_type": "markdown",
      "metadata": {
        "id": "Yur2pr53gosw"
      },
      "source": [
        "### Téma 5.2: Vyhledání hodnot v kolekci\n",
        "\n",
        "Důležitým tématem nad kolekcemi, je vyhledání prvků v kolekci. Zda se nachází v kolekci a případně na jaké pozici se nachází. Existují na to speciální algoritmy. Následující program nalezne, zda se nachází v seznamu číslo 5. Pokud se nachází, tak program vypíše hlášku a předčasně ukončí cyklus (tedy cyklus se nevykoná celý). Pokud celý cyklus proběhne a nebude předčasně ukončen, tak se vykoná příkaz ELSE. Pokud se vykoná, je jasná, že číslo nebylo nalezeno."
      ]
    },
    {
      "cell_type": "code",
      "execution_count": null,
      "metadata": {
        "colab": {
          "base_uri": "https://localhost:8080/"
        },
        "id": "ESQ42O3Bhlro",
        "outputId": "cf532d01-fd2c-4f0e-ce8e-30ecda14861c"
      },
      "outputs": [],
      "source": [
        "cisla = [0, 2, 1, 8, 7, 3, 5, 3, 2]\n",
        "\n",
        "for cislo in cisla:\n",
        "    if cislo == 5:\n",
        "        print(\"Číslo 5 se nachází v kolekci\")\n",
        "        break\n",
        "else:\n",
        "    print(\"Číslo 5 nebylo nalezeno.\")"
      ]
    },
    {
      "attachments": {},
      "cell_type": "markdown",
      "metadata": {
        "id": "ShArx6Gghzyh"
      },
      "source": [
        "#### Cvičení 5.2.1: Na jakém indexu je číslo?\n",
        "\n",
        "Přepište předchozí kód tak, aby vracel, na jakém indexu se nachází číslo 5.\n",
        "\n"
      ]
    },
    {
      "cell_type": "code",
      "execution_count": null,
      "metadata": {
        "id": "qxNRW_HkiW4T"
      },
      "outputs": [],
      "source": [
        "cisla = [0, 2, 1, 8, 7, 3, 5, 3, 2]\n",
        "\n",
        "for idx in range(len(cisla)):\n",
        "    if cisla[idx] == 5:\n",
        "        print(\"Číslo 5 se nachází v kolekci\")\n",
        "        break\n",
        "else:\n",
        "    print(\"Číslo 5 nebylo nalezeno.\")\n",
        "\n",
        "print(f\"Číslo se nachází na indexu: {idx}\")"
      ]
    },
    {
      "attachments": {},
      "cell_type": "markdown",
      "metadata": {
        "id": "SQdIMH9ci1N_"
      },
      "source": [
        "#### Cvičení 5.2.2: Uživatel si sám zadá hledané číslo\n",
        "\n",
        "Přepište kód na hledání čísla tak, aby si uživatel mohl sám zadat z klávesnice, jaké číslo se má vyhledat."
      ]
    },
    {
      "cell_type": "code",
      "execution_count": null,
      "metadata": {
        "id": "rkcJhjhgjJ5E"
      },
      "outputs": [],
      "source": [
        "cisla = [0, 2, 1, 8, 7, 3, 5, 3, 2]\n"
      ]
    },
    {
      "attachments": {},
      "cell_type": "markdown",
      "metadata": {},
      "source": [
        "Další důležitou úlohou je vyhledání nejnižší a nejvyšší hodnoty v kolekci. Algoritmus je takový, že prohledáváme postupně kolekci a vždy se ptáme, zda aktuální číslo z kolekce je větší nebo menší než naše aktuálně nejvyšší/nejnižší nalezené číslo. Musíme s nějakým číslem začít, takže můžeme zvolit první prvek kolekce a indexovat rovnou od druhého prvku. Na následujícím kódu vidíte vyhledání maxima."
      ]
    },
    {
      "cell_type": "code",
      "execution_count": null,
      "metadata": {},
      "outputs": [],
      "source": [
        "cisla = [0, 2, 1, 8, 7, 3, 5, 3, 2]\n",
        "max_cislo = cisla[0]\n",
        "for idx in range(1, len(cisla)):\n",
        "    if cisla[idx] > max_cislo:\n",
        "        max_cislo = cisla[idx]\n",
        "print(f\"Nejvetsi cislo: {max_cislo}\")"
      ]
    },
    {
      "attachments": {},
      "cell_type": "markdown",
      "metadata": {},
      "source": [
        "#### Cvičení 5.2.4: Vyhledání indexu maxima\n",
        "\n",
        "Upravte předchozí kód tak, aby vrátil i index, na kterém se nachází maximální hodnota."
      ]
    },
    {
      "cell_type": "code",
      "execution_count": null,
      "metadata": {},
      "outputs": [],
      "source": [
        "cisla = [0, 2, 1, 8, 7, 3, 5, 3, 2]\n"
      ]
    },
    {
      "attachments": {},
      "cell_type": "markdown",
      "metadata": {},
      "source": [
        "#### Cvičení 5.2.5: Vyhledání minima\n",
        "\n",
        "Napište kód, který v kolekci nalezne nejmenší číslo."
      ]
    },
    {
      "cell_type": "code",
      "execution_count": null,
      "metadata": {},
      "outputs": [],
      "source": [
        "cisla = [0, 2, 1, 8, 7, 3, 5, 3, 2]\n"
      ]
    },
    {
      "attachments": {},
      "cell_type": "markdown",
      "metadata": {},
      "source": [
        "V praxi budeme používat předpřipravené algoritmy pro hledání maxima a minima."
      ]
    },
    {
      "cell_type": "code",
      "execution_count": null,
      "metadata": {},
      "outputs": [],
      "source": [
        "cisla = [0, 2, 1, 8, 7, 3, 5, 3, 2]\n",
        "\n",
        "maximum = max(cisla)\n",
        "minimum = min(cisla)"
      ]
    },
    {
      "attachments": {},
      "cell_type": "markdown",
      "metadata": {
        "id": "vpk7LZEujUYt"
      },
      "source": [
        "### Téma 5.3: Řazení kolekce\n",
        "\n",
        "Kromě hledání maxima a minima potřebuje také kolekce řadit. Tento případ užití znáte z operačních systémů, kdy si například seřadíte soubory podle názvu, přípony souboru nebo data vytvoření. K řazení nám slouží tzv. řadící algoritmy. Následující program vyvolává metodu nad kolekcí a řadí jí od nejmenší po největší."
      ]
    },
    {
      "cell_type": "code",
      "execution_count": 1,
      "metadata": {
        "colab": {
          "base_uri": "https://localhost:8080/"
        },
        "id": "QMbJR02SjYHT",
        "outputId": "539254d7-df54-4f85-e953-54580cb4e51c"
      },
      "outputs": [
        {
          "name": "stdout",
          "output_type": "stream",
          "text": [
            "[1, 2, 2, 3, 4, 5]\n"
          ]
        }
      ],
      "source": [
        "čísla = [2, 4, 3, 1, 5, 2]\n",
        "čísla.sort()\n",
        "print(čísla)"
      ]
    },
    {
      "attachments": {},
      "cell_type": "markdown",
      "metadata": {},
      "source": [
        "Pokud bychom chtěli řadit od největší po nejmenší, tak stačí přidat příznak pravdivosti pro parametr reverse při volání metody sort."
      ]
    },
    {
      "cell_type": "code",
      "execution_count": 2,
      "metadata": {},
      "outputs": [
        {
          "name": "stdout",
          "output_type": "stream",
          "text": [
            "[5, 4, 3, 2, 2, 1]\n"
          ]
        }
      ],
      "source": [
        "čísla = [2, 4, 3, 1, 5, 2]\n",
        "čísla.sort(reverse=True)\n",
        "print(čísla)"
      ]
    },
    {
      "attachments": {},
      "cell_type": "markdown",
      "metadata": {},
      "source": [
        "Python dokáže řadit i řetězce, kde je řadí podle abecedy (konkrétně podle tzv. ordinálních čísel, které přiřazuje písmenům)."
      ]
    },
    {
      "cell_type": "code",
      "execution_count": 3,
      "metadata": {},
      "outputs": [
        {
          "name": "stdout",
          "output_type": "stream",
          "text": [
            "['Alena', 'Jana', 'Milan', 'Natálie', 'Pavel', 'Petr']\n"
          ]
        }
      ],
      "source": [
        "jména = [\"Jana\", \"Alena\", \"Milan\", \"Petr\", \"Pavel\", \"Natálie\"]\n",
        "jména.sort()\n",
        "print(jména)"
      ]
    },
    {
      "attachments": {},
      "cell_type": "markdown",
      "metadata": {
        "id": "htFJyFKQm9_g"
      },
      "source": [
        "#### Cvičení 5.3.1: Jména pozpátku\n",
        "\n",
        "Seřaďte následující seznam pozpátku, tedy od Z do A."
      ]
    },
    {
      "cell_type": "code",
      "execution_count": null,
      "metadata": {},
      "outputs": [],
      "source": [
        "jména = [\"Jana\", \"Alena\", \"Milan\", \"Petr\", \"Pavel\", \"Natálie\"]\n"
      ]
    },
    {
      "attachments": {},
      "cell_type": "markdown",
      "metadata": {},
      "source": [
        "Řadících algoritmů existuje spousty. Nejznámějším algoritmem pro začátečníky je tzv. bublinkové třídění. Bublinkové třídění funguje podle následujícího algoritmu (budeme řadit od nejmenšího po největší):\n",
        "1. Projdi každou dvojici v kolekci a zjisti, zda prvek vlevo je větší jak prvek v pravo. Pokud ano, tak je mezi sebou prohoď.\n",
        "2. Opakuj krok 1 tolikrát, kolik je dvojice v kolekci.\n",
        "\n",
        "V následujících cvičeních si vyzkoušíte postupně dílčí úkoly, díky kterým pochopíte celý algoritmus bublinkového třídění. Podívejte se na animaci bublinkového třídění na následujícím odkazu pro lepší pochopení: [ZDE](https://algoritmy.net/article/3/Bubble-sort)"
      ]
    },
    {
      "attachments": {},
      "cell_type": "markdown",
      "metadata": {},
      "source": [
        "#### Cvičení 5.3.2: Prohození obsahu proměnných\n",
        "\n",
        "V následujícím kódu jsou dvě proměnné, do kterých uživatel napíše z klávesnice hodnoty. Prohoďte jejich obsah a vypište na obrazovku pro ověření prohození. Pro pochopení, pokud uživatel zadá do proměnné A hodnotu 3 a do proměnné B hodnotu 5, tak při výpisu uvidí v proměnné A hodnotu 5 a v proměnné B hodnotu 3."
      ]
    },
    {
      "cell_type": "code",
      "execution_count": null,
      "metadata": {},
      "outputs": [],
      "source": [
        "a = input(\"A: \")\n",
        "b = input(\"B: \")\n"
      ]
    },
    {
      "attachments": {},
      "cell_type": "markdown",
      "metadata": {
        "id": "B91DlVktkksl"
      },
      "source": [
        "#### Cvičení 5.3.3: Procházení dvojic\n",
        "\n",
        "Projděte všechny dvojice vedle sebe v následující kolekci a vypište je na obrazovku. Procházení proveďte tak, aby se vždy cyklus posouval pouze o jeden index. Vždy se tedy bude na obrazovce opakovat jedno z čísel z předchozí dvojice. Správný výpis by měl vypadat takto:\n",
        "\n",
        "```\n",
        "1 3\n",
        "3 2\n",
        "2 4\n",
        "4 5\n",
        "5 2\n",
        "```"
      ]
    },
    {
      "cell_type": "code",
      "execution_count": null,
      "metadata": {},
      "outputs": [],
      "source": [
        "čísla = [1, 3, 2, 4, 5, 2]\n"
      ]
    },
    {
      "attachments": {},
      "cell_type": "markdown",
      "metadata": {},
      "source": [
        "#### Cvičení 5.3.4: Prohazování dvojic\n",
        "\n",
        "Napište program, který projde všechny dvojice stejným způsobem jako v předchozím cvičení, ale pokud je prvek vlevo větší jak prvek vpravo, tak se mezi sebou prohodí.\n",
        "\n",
        "```\n",
        "1 3 = neprohodime   -> [1, 3, 2, 4, 5, 2]\n",
        "3 2 = prohodime     -> [1, 2, 3, 4, 5, 2]\n",
        "3 4 = neprohodime   -> [1, 2, 3, 4, 5, 2]\n",
        "4 5 = neprohodime   -> [1, 2, 3, 4, 5, 2]\n",
        "5 2 = prohodime     -> [1, 2, 3, 4, 2, 5]\n",
        "```"
      ]
    },
    {
      "cell_type": "code",
      "execution_count": null,
      "metadata": {},
      "outputs": [],
      "source": []
    },
    {
      "attachments": {},
      "cell_type": "markdown",
      "metadata": {},
      "source": [
        "#### Cvičení 5.3.5: Neoptimalizované Bublinkové třídění\n",
        "\n",
        "Upravte předchozí program tak, aby se prohazování opakoval tolikrát, kolik dvojice se nachází v kolekci. Tím dojde k seřazení."
      ]
    },
    {
      "cell_type": "code",
      "execution_count": null,
      "metadata": {},
      "outputs": [],
      "source": []
    },
    {
      "attachments": {},
      "cell_type": "markdown",
      "metadata": {},
      "source": [
        "Všimněte si jedné vlastnosti bublinkového třídění - při každém řazení probublá extrémní hodnota (minimum nebo maximum) na povrch (konec kolekce). Tato hodnota se již nebude nikdy prohazovat, je tedy správně zařazena. Při každém opakování prohazování dvojic můžeme zkrátit počet zkoumaných dvojic o 1."
      ]
    },
    {
      "attachments": {},
      "cell_type": "markdown",
      "metadata": {},
      "source": [
        "#### Cvičení 5.3.6: Bublinkové třídění\n",
        "\n",
        "Upravte předchozí program tak, aby byl optimalizován, tedy správný algoritmus bublinkového třídění. Optimalizace spočívá v tom, že poprvé procházíte všechny dvojice a prohazujete. Při druhém opakování již nemusíte kontrolovat poslední dvojici, při třetím předposlední. Tedy podle počtu opakování zkracujete příslušný počet zkoumaných dvojic."
      ]
    },
    {
      "cell_type": "code",
      "execution_count": null,
      "metadata": {},
      "outputs": [],
      "source": []
    },
    {
      "attachments": {},
      "cell_type": "markdown",
      "metadata": {},
      "source": [
        "#### Cvičení 5.3.7: Sestupné Bublinkové třídění\n",
        "\n",
        "Upravte předchozí program tak, aby řadil sestupně, tedy od největší po nejmenší hodnotu."
      ]
    },
    {
      "cell_type": "code",
      "execution_count": null,
      "metadata": {},
      "outputs": [],
      "source": []
    },
    {
      "attachments": {},
      "cell_type": "markdown",
      "metadata": {
        "id": "-djbkLOhKp4e"
      },
      "source": [
        "### Domácí Úkoly 5"
      ]
    },
    {
      "attachments": {},
      "cell_type": "markdown",
      "metadata": {
        "id": "eq-2o-KjLHiG"
      },
      "source": [
        "#### Úkol 5.1 Řazení výběrem (Select sort)\n",
        "\n",
        "Dalším triviálním algoritmem je řazení výběrem. V tomto algoritmu se procházíte kolekci a hledáte na aktuálně řešení místo ideální prvek. Ideální prvek je nejmenší nebo největší prvek ve zbytku kolekce (podle sestupného nebo vzestupného řazení). Podívejte se na animace na následujícím odkazu a naprogramujte algoritmus řazení výběrem [ZDE](https://algoritmy.net/article/4/Selection-sort)."
      ]
    },
    {
      "cell_type": "code",
      "execution_count": null,
      "metadata": {
        "id": "HHzCxwlbLHFM"
      },
      "outputs": [],
      "source": []
    },
    {
      "attachments": {},
      "cell_type": "markdown",
      "metadata": {
        "id": "SAUxDaB9splD"
      },
      "source": [
        "#### Úkol 5.2 Řazení vkládáním (Insert sort)\n",
        "\n",
        "Dalším triviálním algoritmem je řazení vkládáním. V tomto algoritmu se procházíte kolekci a hledáte na jaké místo zpětně do částečně seřazené kolekce prvek zařadit. Podívejte se na animace na následujícím odkazu a naprogramujte algoritmus řazení výběrem [ZDE](https://algoritmy.net/article/8/Insertion-sort)."
      ]
    },
    {
      "cell_type": "code",
      "execution_count": null,
      "metadata": {
        "id": "a_C7OtW-LEEP"
      },
      "outputs": [],
      "source": []
    },
    {
      "attachments": {},
      "cell_type": "markdown",
      "metadata": {
        "id": "9LNOfEg-LEpM"
      },
      "source": [
        "#### Úkol 5.3 Řazení náhodou (Bogo sort)\n",
        "\n",
        "Bogo sort je nejhorší možný řadící algoritmus. V každém kroku náhodně rozmícháte kolekci a testujete, zda je seřazena. Nechám na vás, ať vymyslíte způsob, jak detekovat seřazení kolekce. Naprogramujte tento algoritmus."
      ]
    },
    {
      "cell_type": "code",
      "execution_count": null,
      "metadata": {
        "id": "lqp-k6cssuyv"
      },
      "outputs": [],
      "source": []
    },
    {
      "attachments": {},
      "cell_type": "markdown",
      "metadata": {
        "id": "irOUsZnCssvV"
      },
      "source": [
        "#### Úkol 5.4 Vyhledání chybějícího čísla\n",
        "\n",
        "Představme si, že máme seznam čísel od 1 do N s inkrementem 1. Např: ```čísla = [1, 2, 3, 4, 5]```. Jedno číslo nám vypadne z kolekce: ```čísla = [1, 2, 3, 5]```. To by v praxi mohlo být způsobenou chybou přenosu dat po počítačové síti, chyba ukládání na pevný disk, atd. Pomocí sumační formule můžeme chybějící číslo získat.\n",
        "\n",
        "Sumační formule je vzorec, který vám řekne, jaký by byl součet čísel od 1 do N, kdyby žádné nechybělo. Vzorec zní: S = N*(N+1)/2. Takže pro ```čísla = [1, 2, 3, 5]``` by byl výsledek ```S = 5*(5+1)/2 = 15```, což můžete snadno ověřit: ```1+2+3+4+5=15```.\n",
        "\n",
        "Pokud odečteme od výsledku sumační formule skutečný součet čísel, pak nám vyjde chybějící číslo. Ověřte kódem."
      ]
    },
    {
      "cell_type": "code",
      "execution_count": null,
      "metadata": {
        "id": "sx12qR5xLJyr"
      },
      "outputs": [],
      "source": []
    },
    {
      "attachments": {},
      "cell_type": "markdown",
      "metadata": {},
      "source": [
        "#### Úkol 5.5 Hammingova vzdálenost\n",
        "\n",
        "Napište program, který zjistí, o kolik písmen se následující dva řetězce liší. Za odlišná písmena počítejte znaky na stejných pozicích. Počtu odlišných znaků se říká Hammingova vzdálenost.\n",
        "\n",
        "```\n",
        "aaa, aba = liší se o 1 znak a to na indexu 1\n",
        "aaa, abb = liší se o 2 znaky a to na indexu 1 a 2\n",
        "cba, abc, = liší se o 2 znaky a zo na indexu 0 a 2\n",
        "```"
      ]
    },
    {
      "cell_type": "code",
      "execution_count": null,
      "metadata": {},
      "outputs": [],
      "source": []
    }
  ],
  "metadata": {
    "colab": {
      "authorship_tag": "ABX9TyNbkxQfcyh/00+2I2aycp61",
      "provenance": []
    },
    "kernelspec": {
      "display_name": "Python 3",
      "name": "python3"
    },
    "language_info": {
      "codemirror_mode": {
        "name": "ipython",
        "version": 3
      },
      "file_extension": ".py",
      "mimetype": "text/x-python",
      "name": "python",
      "nbconvert_exporter": "python",
      "pygments_lexer": "ipython3",
      "version": "3.11.3"
    }
  },
  "nbformat": 4,
  "nbformat_minor": 0
}
