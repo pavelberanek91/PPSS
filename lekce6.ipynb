{
  "cells": [
    {
      "attachments": {},
      "cell_type": "markdown",
      "metadata": {
        "id": "-FueR60PPdhB"
      },
      "source": [
        "# Programování pro střední školy"
      ]
    },
    {
      "attachments": {},
      "cell_type": "markdown",
      "metadata": {
        "id": "A06-0F60KBcr"
      },
      "source": [
        "## Lekce 6: Vlastní funkce\n",
        "\n",
        "V minulých lekcích jste programovali aplikace tak, že jste psali příkazy, které se mají vykonat, řádek za řádkem pod sebe. Tyto řádky představovali nějaký postup (algoritmus), kterým jste řešili problém. Občas byste potřebovali zavolat stejný algoritmus víckrát v různých místech kódu, takže cyklem typu FOR nebo WHILE si nepomůžete. Museli byste kód zkopírovat. To nám umožňuje lépe strukturovat velké programy.\n",
        "\n",
        "Vlastní funkce jsou mechanismus, který umožňuje pojmenovat určitý blok kódu a opakovaně ho volat v různých místech kódu. Funkce si představte jako izolované dílčí části celého programu. Jediné, co potřebují znát hlavního programu, jsou Vámi vybrané hodnoty, kterým budeme říkat parametry. Funkce s nimi pracují, provedou svůj algoritmus a vrátí návratovou hodnotu, se kterou dále pracujeme v hlavním programu. \n",
        "\n",
        "Kromě vlastních funkcí (nebo také uživatelem-definovaných funkcí, user-defined functions) existují i funkce zabudované (built-in functions). Zabudované funkce jste již využívali, neboť jsou zabudované v samotném jazyce Python. Jedná se o funkce jako print, input, round aj. V této lekci si takové funkce naprogramujete sami."
      ]
    },
    {
      "attachments": {},
      "cell_type": "markdown",
      "metadata": {
        "id": "Tyn9KoXKPjiV"
      },
      "source": [
        "### Téma 6.1 Definice uživatelem-definované funkce\n",
        "\n",
        "Uživatelem definovaná funkce začíná klíčovým slovem def, za kterým následuje Vámi zvolený název funkce. Poté následuje v závorkách libovolný počet parametrů. Parametr je hodnota, se kterou funkce uvnitř může pracovat.\n",
        "\n",
        "```\n",
        "def funkce(parametr1, parametr2, ..., parametrN):\n",
        "    ...\n",
        "    return navratova_hodnota\n",
        "```\n",
        "\n",
        "Funkce je pak volána z hlavní části programu s doplněnými hodnotami pro parametry. Těmto hodnotám se říká argumenty. Návratovou hodnotu z funkce můžeme uložit do proměnné, se kterou v hlavní části kódu dále pracujeme.\n",
        "\n",
        "```\n",
        "výstup = funkce(argument1, argument2, ..., argumentN)\n",
        "```\n",
        "\n",
        "V následujícím příkladě vidíte funkci s názvem ```secti```, která má dva parametry: ```a``` a ```b```. V hlavní části programu je funkce volána s argumenty ```5``` a ```2```. Argument ```5``` se uloží do parametru ```a``` a argument ```2``` se uloží do parametru ```b```. Návratová hodnota v proměnné ```součet``` uvnitř funkce bude uložena do proměnné ```vysledek_souctu``` v hlavní části kódu. Argumenty se postupně dosazují za parametry funkce, takže pořadí je důležité. Argumenty zavedené tímto způsobem do funkce nazýváme prostě argumenty a anglicky zkracujeme na **args**."
      ]
    },
    {
      "cell_type": "code",
      "execution_count": null,
      "metadata": {
        "colab": {
          "base_uri": "https://localhost:8080/"
        },
        "id": "dph1l3T5deaH",
        "outputId": "2fa284e8-22a0-4cf9-cf03-5beeaebb374f"
      },
      "outputs": [],
      "source": [
        "def secti(a, b):\n",
        "    soucet = a + b\n",
        "    return soucet\n",
        "\n",
        "vysledek_souctu = secti(5, 2)\n",
        "print(vysledek_souctu)"
      ]
    },
    {
      "attachments": {},
      "cell_type": "markdown",
      "metadata": {},
      "source": [
        "Vkládání argumentů za parametry funkce můžete provést i ve formátu ```parametr=argument```. V takovém případě nezávisí na pořadí. V následujícím příkladu vidíte, že parametry jsou naplněny v opačném pořadí než je dané předpisem funkce. Nejprve se dosadí argument do parametru ```b``` a následně až do parametru ```a```. Argumentům, které jsou doplněny tímto stylem, se říká **kwargs** (key-word arguments) neboli argumenty uvedené klíčovým slovem (tím se myslí parametr)."
      ]
    },
    {
      "cell_type": "code",
      "execution_count": null,
      "metadata": {},
      "outputs": [],
      "source": [
        "def secti(a, b):\n",
        "    soucet = a + b\n",
        "    return soucet\n",
        "\n",
        "vysledek_souctu = secti(b=2, a=5)\n",
        "print(vysledek_souctu)"
      ]
    },
    {
      "cell_type": "markdown",
      "metadata": {},
      "source": [
        "Tento způsob vkládání lze i kombinovat. Část parametrů lze doplnit jen uvedením hodnoty a část skrze parametry. Je však důležité dodržet následující pravidlo: nejprve musíme vyplnit všechny **args a poté až kwargs**. To si lze vyzkoušet odkomentováním zakomentovaného řádku, kde pravidlo není dodrženo."
      ]
    },
    {
      "cell_type": "code",
      "execution_count": null,
      "metadata": {},
      "outputs": [],
      "source": [
        "def secti(a, b):\n",
        "    soucet = a + b\n",
        "    return soucet\n",
        " \n",
        "# vysledek_souctu = secti(a=5, 2)\n",
        "vysledek_souctu = secti(5, b=2)\n",
        "print(vysledek_souctu)"
      ]
    },
    {
      "attachments": {},
      "cell_type": "markdown",
      "metadata": {
        "id": "VhviB9XgdtOx"
      },
      "source": [
        "Osobně doporučuji u složitějších funkcí s mnoha parametry nastavovat všechny parametry přes kwargs."
      ]
    },
    {
      "cell_type": "code",
      "execution_count": null,
      "metadata": {
        "colab": {
          "base_uri": "https://localhost:8080/",
          "height": 133
        },
        "id": "-oZVEmXFeDgh",
        "outputId": "996ba98a-4236-4389-8be3-8a57cccc7f11"
      },
      "outputs": [],
      "source": [
        "def secti(a, b):\n",
        "    soucet = a + b\n",
        "    return soucet\n",
        "\n",
        "cislo1 = 5\n",
        "cislo2 = 2\n",
        "vysledek_souctu = secti(a=cislo1, b=cislo2)\n",
        "print(vysledek_souctu)"
      ]
    },
    {
      "attachments": {},
      "cell_type": "markdown",
      "metadata": {
        "id": "ompkHW0Ka0o1"
      },
      "source": [
        "#### Cvičení 6.1.1: Součin\n",
        "\n",
        "Napište funkci, která má 3 parametry (název parametrů je na Vás). Funkce provede součin všech tří hodnot a vrátí výsledek takového součinu.\n",
        "\n",
        "Příklad použití:\n",
        "```\n",
        "vysledek = soucin(5,2,3)\n",
        "print(vysledek) # ukáže 30, protože 5*2*3\n",
        "```"
      ]
    },
    {
      "cell_type": "code",
      "execution_count": null,
      "metadata": {
        "id": "cc9TWDQpbH1t"
      },
      "outputs": [],
      "source": []
    },
    {
      "cell_type": "markdown",
      "metadata": {},
      "source": [
        "#### Cvičení 6.1.2: Funkční hodnota\n",
        "\n",
        "Napište funkci, která má 3 parametry (k, q, x). Parametry ```k``` a ```q``` jsou koeficienty lineární rovnice ```y = k*x + q``` a ```x``` je vstupní hodnota funkce. Funkce vrátí řetězec ```kladná``` v případě, že funkční hodnota takové funkce má kladnou hodnotu. V opačném případě vrátí řetězec ```záporná```. V případě, že je funkční hodnota rovná nule, tak se vrátí řetězec ```nulová```.\n",
        "\n",
        "Příklad použití:\n",
        "```\n",
        "vysledek1 = typ_hodnoty(k=1,q=2,x=3)\n",
        "print(vysledek) # ukáže kladná, protože y = 1*3 + 2 = 5.\n",
        "\n",
        "vysledek2 = typ_hodnoty(k=-1,q=2,x=3)\n",
        "print(vysledek) # ukáže záporné, protože y = -1*3 + 2 = -1.\n",
        "\n",
        "vysledek3 = typ_hodnoty(k=-1,q=2,x=2)\n",
        "print(vysledek) # ukáže nulová, protože y = -1*2 + 2 = 0.\n",
        "```"
      ]
    },
    {
      "cell_type": "code",
      "execution_count": null,
      "metadata": {},
      "outputs": [],
      "source": []
    },
    {
      "cell_type": "markdown",
      "metadata": {},
      "source": [
        "#### Cvičení 6.1.3: Pravoúhlý trojúhelník\n",
        "\n",
        "Napište funkci, která vrací pravdivostní hodnotu, zda zadané parametry představují délky pravoúhlého trojúhelníku.\n",
        "\n",
        "Příklad použití:\n",
        "```\n",
        "vysledek1 = pravouhly(3,4,5)\n",
        "print(vysledek1) # True, protože (3 na druhou 2) + (4 na druhou 2) se rovná (5 na druhou 2)\n",
        "\n",
        "vysledek2 = pravouhly(2,3,4)\n",
        "print(vysledek1) # False, protože (2 na druhou 2) + (3 na druhou 2) se nerovná (4 na druhou 2)\n",
        "```"
      ]
    },
    {
      "cell_type": "code",
      "execution_count": null,
      "metadata": {},
      "outputs": [],
      "source": []
    },
    {
      "attachments": {},
      "cell_type": "markdown",
      "metadata": {},
      "source": [
        "#### Cvičení 6.1.4: Funkce pro vyhledání maxima\n",
        "\n",
        "Napište funkci, do které vloží uživatel kolekci (konkrétně seznam) a funkce vrátí nejvyšší hodnotu z vloženého seznamu.\n",
        "\n",
        "Příklad použití:\n",
        "```\n",
        "nejvetsi_hodnota = najdi_maximum([5,2,7,8,3])\n",
        "print(nejvetsi_hodnota) # 8\n",
        "```"
      ]
    },
    {
      "cell_type": "code",
      "execution_count": null,
      "metadata": {},
      "outputs": [],
      "source": []
    },
    {
      "attachments": {},
      "cell_type": "markdown",
      "metadata": {},
      "source": [
        "Funkce může vracet klidně více návratových hodnot. Je však nutné v hlavní části kódu uložit tyto návratové hodnoty do odpovídajícího počtu proměnných."
      ]
    },
    {
      "cell_type": "code",
      "execution_count": null,
      "metadata": {
        "id": "qVz1Vcb8bRQO"
      },
      "outputs": [],
      "source": [
        "def chytrý_podíl(dělenec, dělitel):\n",
        "    celočíselný_podíl = dělenec // dělitel\n",
        "    zbytek_po_celočíselném_dělení = dělenec % dělitel\n",
        "    return celočíselný_podíl, zbytek_po_celočíselném_dělení\n",
        "\n",
        "cislo1 = 5\n",
        "cislo2 = 2\n",
        "podíl, zbytek = secti(dělenec=cislo1, dělitel=cislo2)\n",
        "print(vysledek_souctu)"
      ]
    },
    {
      "cell_type": "markdown",
      "metadata": {},
      "source": [
        "#### Cvičení 6.1.5: Hromadná kalkulačka\n",
        "\n",
        "Napište funkci, která přijme dvě čísla. Funkce následně vrátí najednou hodnoty součtu, rozdílu, součinu a podílu.\n",
        "\n",
        "Příklad použití:\n",
        "```\n",
        "soucet, rozdil, soucin, podil = hromadna_kalkulacka(5, 2)\n",
        "print(soucet) # 7   protože 5 + 2\n",
        "print(rozdil) # 3   protože 5 - 2\n",
        "print(soucin) # 10  protože 5 * 2\n",
        "print(podil)  # 2.5 protože 5 / 2\n",
        "```"
      ]
    },
    {
      "cell_type": "code",
      "execution_count": null,
      "metadata": {},
      "outputs": [],
      "source": []
    },
    {
      "attachments": {},
      "cell_type": "markdown",
      "metadata": {
        "id": "vOst9Mw6tXdQ"
      },
      "source": [
        "#### Cvičení 6.1.6: Co když funkce nevrací návratovou proměnnou?\n",
        "\n",
        "Ověřte, jaká hodnota se vrátí z funkce, když vynecháte z kódu funkce klíčové slovo return s návratovou hodnotou."
      ]
    },
    {
      "cell_type": "code",
      "execution_count": null,
      "metadata": {
        "id": "fmCWbGMGtsFF"
      },
      "outputs": [],
      "source": []
    },
    {
      "cell_type": "markdown",
      "metadata": {},
      "source": [
        "Parametry mohou mít i implicitní (anglicky default) hodnoty. Implicitní hodnota je hodnota, která se dosadí jako argument parametru v případě, že žádný argument neuvedeme. V následujím příkladě přijme funkce dělenec a dělitel. Pokud nebude dělitel uveden, tak bude považován za hodnotu 1."
      ]
    },
    {
      "cell_type": "code",
      "execution_count": 7,
      "metadata": {},
      "outputs": [
        {
          "name": "stdout",
          "output_type": "stream",
          "text": [
            "2.5\n",
            "5.0\n"
          ]
        }
      ],
      "source": [
        "def podil(dělenec, dělitel = 1):\n",
        "    return dělenec / dělitel\n",
        "\n",
        "print(podil(5, 2))\n",
        "print(podil(5))"
      ]
    },
    {
      "cell_type": "markdown",
      "metadata": {},
      "source": [
        "#### Cvičení 6.1.7: Vždy funkční součtová kalkulačka\n",
        "\n",
        "Upravte uvedený program tak, aby vždy fungoval bez ohledu na počet zadaných argumentů. Pokud bude argument chybět, tak bude považován za hodnotu nula.\n",
        "\n",
        "```\n",
        "def secti(a, b):\n",
        "    soucet = a + b\n",
        "    return soucetdef secti(a, b):\n",
        "\n",
        "\n",
        "print(secti(5, 2)) -> 7\n",
        "print(secti(5)) -> 5\n",
        "print(secti()) -> 0\n",
        "```"
      ]
    },
    {
      "cell_type": "code",
      "execution_count": null,
      "metadata": {},
      "outputs": [],
      "source": []
    },
    {
      "attachments": {},
      "cell_type": "markdown",
      "metadata": {
        "id": "Yur2pr53gosw"
      },
      "source": [
        "### Téma 6.2: Napovídání ve funkcích\n",
        "\n",
        "Funkce můžeme obohatit o spousty užitečných popisků, které pomohou dalším programátorům, kteří budou Vaše naprogramované funkce oužívat. Díky funkcím je možné rozdělit efektivně práci mezi více programátorů. Každý se zaměřuje na svou funkci, která poté pomáhá celkovému programu provádět užitečné chování. Funkce jednou předáte někomu jinému a musí se v nich vyznat.\n",
        "\n",
        "První užitečnou technikou je tzv. napovídání typů. Python při spuštění funkce nekontroluje typ argumentů, které dosazujeme za parametry. To může způsobit problémy. Představme si, že tvoříme funkci, která sečte parametry. Pokud uživatel zadá jeden z parametrů jako řetězec, tak může program selhat. Python nemá mechanismy, jak zabránit uživateli zadat nevhodné argumenty za parametry. Můžeme však napovědět, jakého datového typu by měl parametr být. Napovídání datového typu provádíme uvedením názvu datového typu za dvojtečku u parametru."
      ]
    },
    {
      "cell_type": "code",
      "execution_count": null,
      "metadata": {
        "colab": {
          "base_uri": "https://localhost:8080/"
        },
        "id": "ESQ42O3Bhlro",
        "outputId": "cf532d01-fd2c-4f0e-ce8e-30ecda14861c"
      },
      "outputs": [],
      "source": [
        "def secti(a: float, b: float):\n",
        "    soucet = a + b\n",
        "    return soucet\n",
        "\n",
        "print(secti(a=2.0, b=3.0)) #pokud budete psát postupně tento příkaz, tak byste měli vidět nápovědu"
      ]
    },
    {
      "cell_type": "code",
      "execution_count": null,
      "metadata": {},
      "outputs": [],
      "source": [
        "print(secti(a=\"2\", b=\"3\")) #důkaz, že Vás Python při nedodržení typu nezastaví"
      ]
    },
    {
      "attachments": {},
      "cell_type": "markdown",
      "metadata": {},
      "source": [
        "Stejně tak můžeme napovědět i typ návratové hodnoty uvedením šipky za závorku posledního parametru."
      ]
    },
    {
      "cell_type": "code",
      "execution_count": null,
      "metadata": {},
      "outputs": [],
      "source": [
        "def secti(a: float, b: float) -> float:\n",
        "    soucet = a + b\n",
        "    return soucet"
      ]
    },
    {
      "attachments": {},
      "cell_type": "markdown",
      "metadata": {},
      "source": [
        "Dále je možné dokumentovat funkci slovním popisem pomocí tzv. dokumentačního řetězce (docstring). Dokumentační řetězec poznáte podle tří uvozovek na začátku a na konci řetězce. Ve skutečnosti se nejedná o nic speciálního v syntaxi jazyka Python. Řetězec se třemi uvozovkami je tzv. více-řádkový řetězec."
      ]
    },
    {
      "cell_type": "code",
      "execution_count": null,
      "metadata": {},
      "outputs": [],
      "source": [
        "sloh = \"\"\"\n",
        "O víkendu jsem šel ven. Bylo tam krásně.\n",
        "Krásně tam bylo, tak jsem šel ven.\n",
        "Hned jak jsem vyšel, zase jsem zašel.\n",
        "No a tak jsem strávil svůj víkend.\n",
        "No a teď chci za jedna paní učitelko.\n",
        "\"\"\""
      ]
    },
    {
      "cell_type": "markdown",
      "metadata": {},
      "source": [
        "Pokud hodnotu nikam neuložíme (jakoukoliv), tak se hodnota vykoná v paměti počítače, ale nikde nezůstane uložená. V následujícím příkladu se 2 + 3 vykoná, ale výsledek nezůstane nikde uložen.\n",
        "```\n",
        "a = 5\n",
        "2 + 3\n",
        "b = 2\n",
        "```\n",
        "\n",
        "Tohoto mechanismu využíváme pro dokumentační řetězec. Je to více-řádkový řetězec, který se nikde neuloží. Vývojová prostředí jako je Visual Studio Code, PyCharm nebo Google Colab ho používají pro to, aby Vám při psaná funkce vypsali nápovědu autora."
      ]
    },
    {
      "cell_type": "code",
      "execution_count": null,
      "metadata": {},
      "outputs": [],
      "source": [
        "def secti(a: float, b: float) -> float:\n",
        "    \"\"\"\n",
        "        Tato skvělá funkce umí hrozně chytrou věc.\n",
        "        Sečte dvě vstupní čísla a vrátí výsledek. \n",
        "        Skvělý ne? Určitě jsem Vám tim ulehčil život.\n",
        "    \"\"\" \n",
        "    soucet = a + b\n",
        "    return soucet"
      ]
    },
    {
      "attachments": {},
      "cell_type": "markdown",
      "metadata": {},
      "source": [
        "Jak psát dokumentační řetězec je na Vás. Přesto existuje několik doporučených způsobů, na kterých se komunita vývojářů shodla.\n",
        "\n",
        "```\n",
        "def název_funkce(parametr 1: datový typ 1, ..., parametr N: datový typ N) -> návratová hodnota:\n",
        "    \"\"\"Zde napíšete souhrn o tom, co funkce dělá\n",
        "\n",
        "    Argumenty:\n",
        "        parametr 1 (datový typ 1): popis parametru 1\n",
        "        parametr 2 (datový typ 2): popis parametru 2\n",
        "        ...\n",
        "        parametr N (datový typ N): popis parametru N\n",
        "\n",
        "    Návratová hodnota:\n",
        "        datový typ: popis\n",
        "    \"\"\"\n",
        "    \n",
        "    ...\n",
        "    tělo funkce\n",
        "    ...\n",
        "    \n",
        "    return návratová hodnota\n",
        "```"
      ]
    },
    {
      "cell_type": "code",
      "execution_count": null,
      "metadata": {
        "colab": {
          "base_uri": "https://localhost:8080/"
        },
        "id": "LATH0O3-hwaC",
        "outputId": "098afd02-d100-4ff9-cb47-91b08c6b1ee1"
      },
      "outputs": [],
      "source": [
        "def secti(a: float, b: float) -> float:\n",
        "    \"\"\"Sečte vstupní sčítance\n",
        "\n",
        "    Argumenty:\n",
        "        a (float): první sčítanec\n",
        "        b (float): druhý sčítanec\n",
        "\n",
        "    Návratová hodnota:\n",
        "        float: výsledek součtu zadaných sčítanců\n",
        "    \"\"\"\n",
        "    soucet = a + b\n",
        "    return soucet"
      ]
    },
    {
      "attachments": {},
      "cell_type": "markdown",
      "metadata": {},
      "source": [
        "Některá vývojová prostředí Vám dokumentační řetězce v takovém tvaru automaticky generují a Vy je jen upravujete. Tím se programátorům značně ušetří čas při psaní kódu."
      ]
    },
    {
      "attachments": {},
      "cell_type": "markdown",
      "metadata": {
        "id": "ShArx6Gghzyh"
      },
      "source": [
        "#### Cvičení 6.2.1: Dokumentace funkce\n",
        "\n",
        "Mějme následující jednoduchou funkci. Zkopírujte její kód do buňky a připište napovídání typů a dokumentační řetězec. Do funkce zadá uživatel svu výšku v metrech, svou hmotnost v kg vždy zaokrouhlenou na celé číslo a vrací hodnotu bmi.\n",
        "\n",
        "```\n",
        "def spocitej_bmi(vyska, hmotnost):\n",
        "    bmi = hmotnost / vyska**2\n",
        "    return bmi\n",
        "```\n",
        "\n"
      ]
    },
    {
      "cell_type": "code",
      "execution_count": null,
      "metadata": {
        "id": "qxNRW_HkiW4T"
      },
      "outputs": [],
      "source": []
    },
    {
      "cell_type": "markdown",
      "metadata": {},
      "source": [
        "Kromě základních datových typů, jako je:\n",
        "* celé číslo (int)\n",
        "* desetinné číslo (float)\n",
        "* řetězec (str)\n",
        "* pravdivostní hodnota (bool)\n",
        "\n",
        "potřebujete dokumentovat i kolekce hodnot. Například seznam celých čísel. Pro takové dokumentování musíme využít pokročilejší techniku a to jsou dokumentační datové struktury z modulu typing. V následujícím příkladu je dokumentováno, že do funkce vstupuje seznam celých čísel.\n"
      ]
    },
    {
      "cell_type": "code",
      "execution_count": null,
      "metadata": {},
      "outputs": [],
      "source": [
        "from typing import List\n",
        "\n",
        "def cislo_je_v_seznamu(hledane_cislo: int, seznam_cisel: List[int]) -> bool:\n",
        "    \"\"\"Zjistí, zda se zadané číslo nachází v zadaném seznamu čísel\n",
        "\n",
        "    Argumenty:\n",
        "        hledane_cislo (int): číslo, jehož výskyt v seznamu hledáme\n",
        "        seznam_cisel (List[int]): seznam čísel, ve kterém hledáme zadané číslo\n",
        "\n",
        "    Návratová hodnota:\n",
        "        bool: příznak, který potvrzuje nalezení čísla v seznamu čísel\n",
        "    \"\"\"\n",
        "    return hledane_cislo in seznam_cisel"
      ]
    },
    {
      "cell_type": "markdown",
      "metadata": {},
      "source": [
        "Dokumentační datové typy poznáte podle toho, že začínají velkým písmenem a jsou importovány z modulu Typing."
      ]
    },
    {
      "attachments": {},
      "cell_type": "markdown",
      "metadata": {
        "id": "SQdIMH9ci1N_"
      },
      "source": [
        "#### Cvičení 6.2.2: Složitější dokumentace\n",
        "\n",
        "Napište funkci a k ní napovídání typů a dokumentaci. Funkce má za úkol přijmout seznam čísel a každé z čísel umocnit na druhou."
      ]
    },
    {
      "cell_type": "code",
      "execution_count": null,
      "metadata": {
        "id": "rkcJhjhgjJ5E"
      },
      "outputs": [],
      "source": []
    },
    {
      "cell_type": "markdown",
      "metadata": {},
      "source": [
        "Existují i situace, ve kterých nechceme, aby funkce vracela hodnotu. Nejčastěji se jedná o funkce, které pouze vypisují informace na obrazovku. Takovým funkcím říkáme procedury. Vy jste si již všimli v jednom z úkolů, že v takovém případě funkce vrací hodnotu None, který má značit absenci hodnoty. I tuto situaci s návratem žádné hodnoty můžeme vyznačit v napovídání typů."
      ]
    },
    {
      "cell_type": "code",
      "execution_count": null,
      "metadata": {},
      "outputs": [],
      "source": [
        "def vytiskni_vysledek(vysledek: int) -> None:\n",
        "    print(f\"Výsledek výpočtu je {vysledek}.\")"
      ]
    },
    {
      "attachments": {},
      "cell_type": "markdown",
      "metadata": {},
      "source": [
        "#### Cvičení 6.2.3: Skalární součin dvou vektorů\n",
        "\n",
        "Napište proceduru, která přijme dva vektory (seznamy čísel), provede jejich skalární součin a vytiskne výsledek na obrazovku. Jedná se o proceduru, takže nebude nic vracet. Skalární součin je číslo, které spočítáte tak, že vzájemně vynásobíte prvky ve vektorech na stejných pozicích a sečtete.\n",
        "\n",
        "```Př.: skalarni_soucin(v1 = [1, 0, 2], v2 = [2, 3, 2]) -> 1 * 2 + 0 * 3 + 2 * 2 = 6```"
      ]
    },
    {
      "cell_type": "code",
      "execution_count": null,
      "metadata": {},
      "outputs": [],
      "source": []
    },
    {
      "cell_type": "markdown",
      "metadata": {},
      "source": [
        "Pokud byste chtěli dokumentovat případ, kdy funkce navrací více návratových hodnot, pak použijeme z modulu Typing dokumentační datový typ Tuple. Tuple (česky uspořádané N-tice) je typ kolekce v jazyce Python, který vrací kolekci prvků (podobně jako seznam) s tím rozdílem, že na pořadí prvku záleží (proto je to N-tice, která je uspořádaná). Jedná se spíš o myšlenku než funkční význam. Zajímavostí Tuple je to, že když ho jednou vytvoříme, tak hodnoty v něm již nejdou měnit."
      ]
    },
    {
      "cell_type": "code",
      "execution_count": 5,
      "metadata": {},
      "outputs": [
        {
          "name": "stdout",
          "output_type": "stream",
          "text": [
            "Nejlepsi znamku ze známek [1, 4, 2, 1, 1, 2] jsem dostal 1.\n",
            "Nejhorsi znamku ze známek [1, 4, 2, 1, 1, 2] jsem dostal 4.\n"
          ]
        }
      ],
      "source": [
        "from typing import List, Tuple\n",
        "\n",
        "def min_max_seznamu(seznam: List[int])-> Tuple[int, int]:\n",
        "    \"\"\"Nalezne nejmenší a největší celé číslo v zadaném seznamu.\n",
        "\n",
        "    Argumenty:\n",
        "        seznam (List[int]): čísla, ve kterých hledáme minimum a maximum\n",
        "\n",
        "    Návratová hodnota:\n",
        "        Tuple[int, int]: nejmenší a největší číslo v zadaném seznamu\n",
        "    \"\"\"\n",
        "    return min(seznam), max(seznam)\n",
        "\n",
        "\n",
        "znamky = [1,4,2,1,1,2]\n",
        "\n",
        "nejlepsi_znamka, nejhorsi_znamka = min_max_seznamu(seznam=znamky)\n",
        "\n",
        "print(f\"Nejlepsi znamku ze známek {znamky} jsem dostal {nejlepsi_znamka}.\")\n",
        "print(f\"Nejhorsi znamku ze známek {znamky} jsem dostal {nejhorsi_znamka}.\")"
      ]
    },
    {
      "cell_type": "markdown",
      "metadata": {},
      "source": [
        "#### Cvičení 6.2.4: Obvod a obsah kruhu\n",
        "\n",
        "Napište funkci, do které zadáte poloměr kruhu a funkce Vám vrátí dvojici hodnot v pořadí obvod a obsah kruhu. Proveďte řádnou dokumentaci."
      ]
    },
    {
      "cell_type": "code",
      "execution_count": null,
      "metadata": {},
      "outputs": [],
      "source": []
    },
    {
      "cell_type": "markdown",
      "metadata": {},
      "source": [
        "Dokumentační datové typy lze i kombinovat. V následujícím příkladu, který slouží jako hromadný výpočet BMI více osob naráz, se přijme seznam uspořádaných dvojic, kde první prvek dvojice má význam hmotnosti (datový typ int) a druhý výšky (datový typ float). Z funkce se vrací seznam hodnot BMI."
      ]
    },
    {
      "cell_type": "code",
      "execution_count": 4,
      "metadata": {},
      "outputs": [
        {
          "name": "stdout",
          "output_type": "stream",
          "text": [
            "[24.7, 19.5, 29.4]\n"
          ]
        }
      ],
      "source": [
        "from typing import List, Tuple\n",
        "\n",
        "def hromadne_spocitej_bmi(udaje_uzivatelu: List[Tuple[int, float]]) -> List[float]:\n",
        "    \"\"\"Provede naráz hromadný výpočet BMI podle zadaných hodnot hmotnosti a výšky uživatelů.\n",
        "\n",
        "    Argumenty:\n",
        "        udaje_uzivatelu (List[Tuple[int, float]]): seznam hodnot uživatelů v pořadí hmotnost [kg] a výška [m]\n",
        "\n",
        "    Návratová hodnota:\n",
        "        List[float]: seznam hodnot vypočteného BMI\n",
        "    \"\"\"\n",
        "\n",
        "    bmi_uzivatelu = []\n",
        "    for hmotnost, vyska in udaje_uzivatelu:\n",
        "        bmi = round(hmotnost/vyska**2, 1)\n",
        "        bmi_uzivatelu.append(bmi)\n",
        "    return bmi_uzivatelu\n",
        "\n",
        "\n",
        "print(hromadne_spocitej_bmi([(80, 1.8), (50, 1.6), (90, 1.75)]))"
      ]
    },
    {
      "attachments": {},
      "cell_type": "markdown",
      "metadata": {},
      "source": [
        "#### Cvičení 6.2.5: Pravoúhlost trojúhelníků\n",
        "\n",
        "Napište program, který přijme seznam trojic hodnot, které představují délky stran trojúhelníků. Funkce vrátí seznam pravdivostních hodnot, které vyjadřují, zda je trojúhelník pravoúhlý.\n",
        "\n",
        "```\n",
        "Př.: jsou_pravouhle([(1,2,3), (3,4,5), (2,3,4)]) -> [False, True, False] \n",
        "```"
      ]
    },
    {
      "cell_type": "code",
      "execution_count": null,
      "metadata": {},
      "outputs": [],
      "source": []
    },
    {
      "cell_type": "markdown",
      "metadata": {},
      "source": [
        "Napovídání typů lze použít i při inicializaci proměnných, avšak příliš se této techniky nevyužívá. Je to vhodné zejména u konstant. Můžete to však použít i u proměnných u kterých nikdy nezměníte uložený datový typ. V následujícím příkladu i vidíte, jak se zapisují implicitní hodnoty pro parametry když využíváte napovídání typů. "
      ]
    },
    {
      "cell_type": "code",
      "execution_count": null,
      "metadata": {},
      "outputs": [],
      "source": [
        "VEKOVA_HRANICE: int = 18\n",
        "\n",
        "\n",
        "def povoleno_pit(vek_uzivatele: int = 0) -> bool:\n",
        "    \"\"\"Funkce zjistí, zda může uživatel se zadaným věkem pít.\n",
        "\n",
        "    Argumenty:\n",
        "        vek_uzivatele (int, optional): Věk uživatele u kterého zjišťujeme, zda může pít. Implicitně nastaveno na 0.\n",
        "\n",
        "    Návratová hodnota:\n",
        "        bool: příznak toho, zda může uživatel pít\n",
        "    \"\"\"\n",
        "    return vek_uzivatele >= VEKOVA_HRANICE\n",
        "\n",
        "\n",
        "vek: int = int(input(\"Kolik ti je let?: \"))\n",
        "\n",
        "if povoleno_pit(vek):\n",
        "    print(\"Na, tady máš pivo.\")\n",
        "else:\n",
        "    print(\"Ty si ještě počkej mladej!\")"
      ]
    },
    {
      "attachments": {},
      "cell_type": "markdown",
      "metadata": {},
      "source": [
        "#### Cvičení 6.2.6: Výpočet vlastností obdélníků\n",
        "\n",
        "Napište funkci, která přije seznam dvojic, kde prvky dvojice představují délky stran obdélníka. Funkce vrátí seznam dvojic, kde první prvek dvojice je obvod obdélníka a druhý je obsah obdélníka. Proveďte dokumentaci funkce."
      ]
    },
    {
      "cell_type": "code",
      "execution_count": null,
      "metadata": {},
      "outputs": [],
      "source": []
    },
    {
      "attachments": {},
      "cell_type": "markdown",
      "metadata": {
        "id": "vpk7LZEujUYt"
      },
      "source": [
        "### Téma 6.3: Strukturované programování\n",
        "\n",
        "Funkce jsou vlastně takové izolované světy. Přijmou vstup ve formě parametrů, za které se z okolního světa dosadí argumenty, provedou svůj algoritmus a vrátí návratovou hodnotu do okolního světa, který si službu funkce zavolal. To nám umožňuje zajímavou změnu v našem způsobu programování. Mějme hlavní program, který volá funkce jakoby to byly nějaké služby. Funkce vykonají svůj úkol, poskytnou tím svému hlavnímu programu požadovanou službu. Hlavní program sbírá výsledky těchto funkcí a dává je dalším funkcím v pořadí. Funkce také mohou volat další funkce, což umožňuje velice zajímavě strukturovat program.\n",
        "\n",
        "V následujícím programu vidíte, jak hlavní program zavolá funkci načti čísla, poté je předá funkce, která je sečte, výsledek této součtové funkce se předá proceduře, která výsledek vytiskne. V programu jsem vynechal dokumentační řetězce. Vy je klidně ale používejte. Vynechány jsou ze dvou důvodů:\n",
        "1. Lepší přehlednost pro Vaše učení se nových konceptů.\n",
        "2. Funkce nejsou natolik složité, aby vyžadovaly dokumentaci."
      ]
    },
    {
      "cell_type": "code",
      "execution_count": 8,
      "metadata": {
        "colab": {
          "base_uri": "https://localhost:8080/"
        },
        "id": "QMbJR02SjYHT",
        "outputId": "539254d7-df54-4f85-e953-54580cb4e51c"
      },
      "outputs": [
        {
          "name": "stdout",
          "output_type": "stream",
          "text": [
            "Soucet cisel [2, 3, 5] je 10.\n"
          ]
        }
      ],
      "source": [
        "from typing import List\n",
        "\n",
        "def nacti_cisla(pocet_cisel: int) -> List[int]:\n",
        "    return list(map(int, input(\"Zadej čísla oddělená mezerou: \").split(\" \")))\n",
        "\n",
        "def secti_cisla(seznam_cisel: List[int]) -> int:\n",
        "    return sum(seznam_cisel)\n",
        "\n",
        "def vytiskni_vysledek(seznam_cisel: List[int], vysledek: int) -> None:\n",
        "    print(f\"Soucet cisel {seznam_cisel} je {vysledek}.\")\n",
        "\n",
        "\n",
        "zadana_cisla = nacti_cisla(pocet_cisel=5)\n",
        "soucet_cisel = secti_cisla(zadana_cisla)\n",
        "vytiskni_vysledek(seznam_cisel=zadana_cisla, vysledek=soucet_cisel)"
      ]
    },
    {
      "attachments": {},
      "cell_type": "markdown",
      "metadata": {},
      "source": [
        "Zajímavost je to, že funkce nejsou tak izolované od okolního světa, jak by se mohlo zdát. V následujícím příkladu si všimněte, že funkce ```zadej_znamku``` zná obsah proměnné ```znamka``` i když tato funkce je vytvořená v hlavním programu. Je to z toho důvodu, že funkce znají proměnné a funkce definované v rozsahu (anglicky scope), který je obaluje. Funkce zadej známku je obalená hlavním programem, proto zná jeho proměnné."
      ]
    },
    {
      "cell_type": "code",
      "execution_count": 10,
      "metadata": {},
      "outputs": [
        {
          "name": "stdout",
          "output_type": "stream",
          "text": [
            "tvoje aktuální známka z fyziky je: 5 a tvá vysněná je: 3\n"
          ]
        }
      ],
      "source": [
        "znamka = 5\n",
        "\n",
        "def zadej_znamku():\n",
        "    vysnena_znamka = int(input(\"Jakou známku si přeješ z fyziky na vysvědčení?: \"))\n",
        "    print(f\"tvoje aktuální známka z fyziky je: {znamka} a tvá vysněná je: {vysnena_znamka}\")\n",
        "\n",
        "zadej_znamku()"
      ]
    },
    {
      "attachments": {},
      "cell_type": "markdown",
      "metadata": {},
      "source": [
        "Hlavní program je zvykem pro přehlednost psát jako proceduru s názvem ```main()``` (anglicky hlavní). Jelikož se hlavní program v takovém případě sám také funkcí, tak je nutné ho vyvolat, což uděláme typicky jako poslední řádek v nejvíce vnějším bloku kódu. "
      ]
    },
    {
      "cell_type": "code",
      "execution_count": null,
      "metadata": {},
      "outputs": [],
      "source": [
        "from typing import List\n",
        "\n",
        "def nacti_cisla(pocet_cisel: int) -> List[int]:\n",
        "    return list(map(int, input(\"Zadej čísla oddělená mezerou: \").split(\" \")))\n",
        "\n",
        "def secti_cisla(seznam_cisel: List[int]) -> int:\n",
        "    return sum(seznam_cisel)\n",
        "\n",
        "def vytiskni_vysledek(seznam_cisel: List[int], vysledek: int) -> None:\n",
        "    print(f\"Soucet cisel {seznam_cisel} je {vysledek}.\")\n",
        "\n",
        "def main():\n",
        "    zadana_cisla = nacti_cisla(pocet_cisel=5)\n",
        "    soucet_cisel = secti_cisla(zadana_cisla)\n",
        "    vytiskni_vysledek(seznam_cisel=zadana_cisla, vysledek=soucet_cisel)\n",
        "\n",
        "main()"
      ]
    },
    {
      "cell_type": "markdown",
      "metadata": {},
      "source": [
        "Na internetu se můžete ještě setkat s následujícím způsobem vyvolání hlavního programu. Podmínka na konci má technický důsledek, který se projeví ve větších programech, které musíme rozdělit do více souborů. Zatím to nebudeme řešit, jen upozorňuji, že se s takovým zápisem setkáte a není nutné se ho obávat."
      ]
    },
    {
      "cell_type": "code",
      "execution_count": null,
      "metadata": {},
      "outputs": [],
      "source": [
        "from typing import List\n",
        "\n",
        "def nacti_cisla(pocet_cisel: int) -> List[int]:\n",
        "    return list(map(int, input(\"Zadej čísla oddělená mezerou: \").split(\" \")))\n",
        "\n",
        "def secti_cisla(seznam_cisel: List[int]) -> int:\n",
        "    return sum(seznam_cisel)\n",
        "\n",
        "def vytiskni_vysledek(seznam_cisel: List[int], vysledek: int) -> None:\n",
        "    print(f\"Soucet cisel {seznam_cisel} je {vysledek}.\")\n",
        "\n",
        "def main():\n",
        "    zadana_cisla = nacti_cisla(pocet_cisel=5)\n",
        "    soucet_cisel = secti_cisla(zadana_cisla)\n",
        "    vytiskni_vysledek(seznam_cisel=zadana_cisla, vysledek=soucet_cisel)\n",
        "\n",
        "if __name__ == \"__main__\":\n",
        "    main()"
      ]
    },
    {
      "cell_type": "markdown",
      "metadata": {},
      "source": [
        "Programovat lze různými způsoby. Těmto způsobem se říká paradigmata programování. Paradigmat je způsob přemýšlení, slovník termínů, ale i komunita se svými názory. Mezi základní paradigmata programování patří:\n",
        "1. Špagetový kód - program nijak nestrukturuji (myšleno jako urážka dovedností programátora)\n",
        "2. Procedurální paradigma - program strukturuji tak, že rozkládám na podprogramy (v pythonu funkce)\n",
        "3. Strukturované paradigma - program strukturuji tak intenzivně do podprogramů, že hlavní program typicky volá jen podprogramy, které také volají podprogramy.\n",
        "\n",
        "Zkusme si ukázat nějaký složitější strukturovaný kód. Vaším úkolem bude si ho jen prohlídnout, spustit ho, experimentovat s ním a inspritovat se pro psaní 5 samostatných cvičení na strukturované programování. Tento kód slouží pro výpočet obsahu kruhu pomocí metody Monte Carlo. Metoda Monte Carlo je technika, ve které pomocí náhodných pokusů dojdu k výsledku. Jedno jedna z nejdůležitějších technik v počítačových vědách. V našem příkladu nám pomůže najít obsah kruhu, kdybychom ho zapomněli. Zajímavostí je to, že pomocí této metody mohu spočítat i hyper-objemy více dimenzionálních těles například hyper 5D-koule), ale i obsahy a objemy takových těles, pro které neexistuje vzorec.\n",
        "\n",
        "Program funguje následovně:\n",
        "1. Vygeneruje náhodný bod ve čtverci, který obepíná kruh.\n",
        "2. Program zjistí, zda se trefil náhodným bodem do kruhu nebo ne. To se zjistípomocí Pythagorovi věty. Pokud je vzdálenost bodu od středu kruhu menší než poloměr kruhu, pak bod lží uvnitř kruhu. V opačném případě vně kruhu.\n",
        "3. Program opakuje generování a střílení do čtverce a zapisuje si, kolikrát se trefil do kružnice.\n",
        "4. Po zadaném počtu opakování se spočítá poměr počtu zásahů ku celkovému počtu výstřelů. Když vynasobíme tímto poměrem obsah čtverce (tuto znalost musíme mít pro výpočet), který kružnici obklopuje, tak získáme obsah kruhu.\n",
        "\n",
        "Čím více výstřelů dáte, tím přesnější bude výsledek. Ověřte."
      ]
    },
    {
      "cell_type": "code",
      "execution_count": 15,
      "metadata": {},
      "outputs": [
        {
          "name": "stdout",
          "output_type": "stream",
          "text": [
            "Obsah kruhu s poloměřem 1.0 je 3.1536.\n"
          ]
        }
      ],
      "source": [
        "from typing import Tuple\n",
        "from random import uniform\n",
        "\n",
        "\n",
        "def vygeneruj_nahodny_bod(od, do) -> Tuple[float, float]:\n",
        "    return uniform(od, do), uniform(od, do)\n",
        "\n",
        "\n",
        "def bod_je_v_kruznici(xbodu: float, ybodu: float, polomer_kruhu: float) -> bool:\n",
        "    return xbodu**2 + ybodu**2 <= polomer_kruhu**2\n",
        "\n",
        "\n",
        "def obsah_ctverce(delka_strany: float) -> float:\n",
        "    return delka_strany**2\n",
        "\n",
        "def vypocti_obsah_metodouMC(pocet_vystrelu: int, polomer_kruhu: float) -> float:\n",
        "    pocet_zasahu = 0\n",
        "    for ivystrel in range(pocet_vystrelu):\n",
        "        nahodne_x, nahodne_y = vygeneruj_nahodny_bod(od=-polomer_kruhu, do=polomer_kruhu)\n",
        "        if bod_je_v_kruznici(nahodne_x, nahodne_y, polomer_kruhu):\n",
        "            pocet_zasahu += 1\n",
        "    return obsah_ctverce(delka_strany=polomer_kruhu*2) * pocet_zasahu/pocet_vystrelu\n",
        "\n",
        "\n",
        "def ziskej_vstupni_data() -> Tuple[int, float]:\n",
        "    pocet_vystrelu = int(input(\"Zadej počet výstřelů: \"))\n",
        "    polomer_kruhu = float(input(\"Zadej poloměr kruhu: \"))\n",
        "    return pocet_vystrelu, polomer_kruhu\n",
        "\n",
        "\n",
        "def vytiskni_vysledek(polomer_kruhu: float, obsah_kruhu: float) -> None:\n",
        "    print(f\"Obsah kruhu s poloměřem {polomer_kruhu} je {obsah_kruhu}.\")\n",
        "\n",
        "\n",
        "def main():\n",
        "    pocet_vystrelu, polomer_kruhu = ziskej_vstupni_data()\n",
        "    obsah_kruhu = vypocti_obsah_metodouMC(pocet_vystrelu, polomer_kruhu)\n",
        "    vytiskni_vysledek(polomer_kruhu, obsah_kruhu)\n",
        "\n",
        "\n",
        "if __name__ == \"__main__\":\n",
        "    main()"
      ]
    },
    {
      "cell_type": "markdown",
      "metadata": {},
      "source": [
        "Zajímavostí je to, že pro kruh s poloměrem jedna by nám mělo vyjít číslo PI. Pokud je obsah kruhu S = PI * polomer**2, tak pro poloměr jedna bude S = PI. Čím více výstřelů zvolím, tím blíže budeme číslu PI, avšak budeme o to déle čekat na výpočet."
      ]
    },
    {
      "cell_type": "code",
      "execution_count": 17,
      "metadata": {},
      "outputs": [
        {
          "name": "stdout",
          "output_type": "stream",
          "text": [
            "4.0\n",
            "3.6\n",
            "3.24\n",
            "3.108\n",
            "3.1664\n",
            "3.14524\n",
            "3.142008\n",
            "3.1421096\n"
          ]
        }
      ],
      "source": [
        "print(vypocti_obsah_metodouMC(pocet_vystrelu=1, polomer_kruhu=1))\n",
        "print(vypocti_obsah_metodouMC(pocet_vystrelu=10, polomer_kruhu=1))\n",
        "print(vypocti_obsah_metodouMC(pocet_vystrelu=100, polomer_kruhu=1))\n",
        "print(vypocti_obsah_metodouMC(pocet_vystrelu=1000, polomer_kruhu=1))\n",
        "print(vypocti_obsah_metodouMC(pocet_vystrelu=10000, polomer_kruhu=1))\n",
        "print(vypocti_obsah_metodouMC(pocet_vystrelu=100000, polomer_kruhu=1))\n",
        "print(vypocti_obsah_metodouMC(pocet_vystrelu=1000000, polomer_kruhu=1))\n",
        "print(vypocti_obsah_metodouMC(pocet_vystrelu=10000000, polomer_kruhu=1))"
      ]
    },
    {
      "cell_type": "markdown",
      "metadata": {},
      "source": [
        "Můžeme klidně zkusit vykreslit graf toho, jak se se zvyšujícím se počtem výstřelů blížíme číslu PI. Bohužel Python není příliš přesný v desetinných místech, takže se nemůžeme dostat na vysokou přesnost čísla PI. Pro vykreslení použijeme modul matplotlib, který je nutný si doinstalovat, pokud nepoužíváte Google Colab."
      ]
    },
    {
      "cell_type": "code",
      "execution_count": 19,
      "metadata": {},
      "outputs": [
        {
          "name": "stdout",
          "output_type": "stream",
          "text": [
            "\u001b[33mWARNING: Retrying (Retry(total=4, connect=None, read=None, redirect=None, status=None)) after connection broken by 'NewConnectionError('<pip._vendor.urllib3.connection.HTTPSConnection object at 0x109262ad0>: Failed to establish a new connection: [Errno 8] nodename nor servname provided, or not known')': /simple/matplotlib/\u001b[0m\u001b[33m\n",
            "\u001b[0m\u001b[33mWARNING: Retrying (Retry(total=3, connect=None, read=None, redirect=None, status=None)) after connection broken by 'NewConnectionError('<pip._vendor.urllib3.connection.HTTPSConnection object at 0x10916b5d0>: Failed to establish a new connection: [Errno 8] nodename nor servname provided, or not known')': /simple/matplotlib/\u001b[0m\u001b[33m\n",
            "\u001b[0m\u001b[33mWARNING: Retrying (Retry(total=2, connect=None, read=None, redirect=None, status=None)) after connection broken by 'NewConnectionError('<pip._vendor.urllib3.connection.HTTPSConnection object at 0x1092d4450>: Failed to establish a new connection: [Errno 8] nodename nor servname provided, or not known')': /simple/matplotlib/\u001b[0m\u001b[33m\n",
            "\u001b[0m\u001b[33mWARNING: Retrying (Retry(total=1, connect=None, read=None, redirect=None, status=None)) after connection broken by 'NewConnectionError('<pip._vendor.urllib3.connection.HTTPSConnection object at 0x1092d4d10>: Failed to establish a new connection: [Errno 8] nodename nor servname provided, or not known')': /simple/matplotlib/\u001b[0m\u001b[33m\n",
            "\u001b[0m\u001b[33mWARNING: Retrying (Retry(total=0, connect=None, read=None, redirect=None, status=None)) after connection broken by 'NewConnectionError('<pip._vendor.urllib3.connection.HTTPSConnection object at 0x1092d5710>: Failed to establish a new connection: [Errno 8] nodename nor servname provided, or not known')': /simple/matplotlib/\u001b[0m\u001b[33m\n",
            "\u001b[0m\u001b[31mERROR: Could not find a version that satisfies the requirement matplotlib (from versions: none)\u001b[0m\u001b[31m\n",
            "\u001b[0m\u001b[31mERROR: No matching distribution found for matplotlib\u001b[0m\u001b[31m\n",
            "\u001b[0m"
          ]
        }
      ],
      "source": [
        "#tento příkaz nainstaluje matplotlib. Není nutné spouštět na Google Colab, tam je již nainstalován.\n",
        "!pip install matplotlib"
      ]
    },
    {
      "cell_type": "code",
      "execution_count": 18,
      "metadata": {},
      "outputs": [
        {
          "ename": "ModuleNotFoundError",
          "evalue": "No module named 'matplotlib'",
          "output_type": "error",
          "traceback": [
            "\u001b[0;31m---------------------------------------------------------------------------\u001b[0m",
            "\u001b[0;31mModuleNotFoundError\u001b[0m                       Traceback (most recent call last)",
            "\u001b[1;32m/Users/pberanek91/ws/Vyzkum/korpus_programu_SS/PPSS/lekce6.ipynb buňka 78\u001b[0m line \u001b[0;36m1\n\u001b[0;32m----> <a href='vscode-notebook-cell:/Users/pberanek91/ws/Vyzkum/korpus_programu_SS/PPSS/lekce6.ipynb#Y233sZmlsZQ%3D%3D?line=0'>1</a>\u001b[0m \u001b[39mimport\u001b[39;00m \u001b[39mmatplotlib\u001b[39;00m\u001b[39m.\u001b[39;00m\u001b[39mpyplot\u001b[39;00m \u001b[39mas\u001b[39;00m \u001b[39mplt\u001b[39;00m\n\u001b[1;32m      <a href='vscode-notebook-cell:/Users/pberanek91/ws/Vyzkum/korpus_programu_SS/PPSS/lekce6.ipynb#Y233sZmlsZQ%3D%3D?line=2'>3</a>\u001b[0m data_osa_x \u001b[39m=\u001b[39m []\n\u001b[1;32m      <a href='vscode-notebook-cell:/Users/pberanek91/ws/Vyzkum/korpus_programu_SS/PPSS/lekce6.ipynb#Y233sZmlsZQ%3D%3D?line=3'>4</a>\u001b[0m data_osa_y \u001b[39m=\u001b[39m []\n",
            "\u001b[0;31mModuleNotFoundError\u001b[0m: No module named 'matplotlib'"
          ]
        }
      ],
      "source": [
        "import matplotlib.pyplot as plt\n",
        "\n",
        "data_osa_x = []\n",
        "data_osa_y = []\n",
        "for mocnina in range(15):\n",
        "    pocet_vystrelu = 10**mocnina\n",
        "    obsah = vypocti_obsah_metodouMC(pocet_vystrelu, polomer_kruhu=1)\n",
        "    data_osa_x.append(pocet_vystrelu)\n",
        "    data_osa_y.append(obsah)\n",
        "\n",
        "plt.plot(data_osa_x, data_osa_y, \"ro-\")"
      ]
    },
    {
      "attachments": {},
      "cell_type": "markdown",
      "metadata": {
        "id": "-djbkLOhKp4e"
      },
      "source": [
        "### Domácí Úkoly 6"
      ]
    },
    {
      "attachments": {},
      "cell_type": "markdown",
      "metadata": {
        "id": "eq-2o-KjLHiG"
      },
      "source": [
        "#### Úkol 6.1 Pásky na maturák\n",
        "\n",
        "Napište strukturovaný program, který:\n",
        "1. Načte od uživatele seznam jmen a věků návštěvníků maturitního plesu.\n",
        "2. Pro každý věk určí, zda může pít alkohol nebo nemůže.\n",
        "3. Těm, kteří nemohou, přiřadí červený pásek, v opačném případě zelený.\n",
        "4. Vypíše, kdo má jaký pásek (jméno: barva pásku)."
      ]
    },
    {
      "cell_type": "code",
      "execution_count": null,
      "metadata": {
        "id": "HHzCxwlbLHFM"
      },
      "outputs": [],
      "source": []
    },
    {
      "attachments": {},
      "cell_type": "markdown",
      "metadata": {
        "id": "SAUxDaB9splD"
      },
      "source": [
        "#### Úkol 6.2 Průměrná známka\n",
        "\n",
        "Napište strukturovaný program, který:\n",
        "1. Načte od uživatele seznam známek. Je důležité, že mezi známkami může být i známka N.\n",
        "2. Spočítá průměrnou známku.\n",
        "3. Pokud je počet známek menší jak 4, tak výsledná známka je N.\n",
        "4. Pokud má žák dostatečný počet známek (4 a více), tak spočítá průměrnou známku.\n",
        "5. Program vypíše, jakou dostane žák známku na vysvědčení."
      ]
    },
    {
      "cell_type": "code",
      "execution_count": null,
      "metadata": {
        "id": "a_C7OtW-LEEP"
      },
      "outputs": [],
      "source": []
    },
    {
      "attachments": {},
      "cell_type": "markdown",
      "metadata": {
        "id": "9LNOfEg-LEpM"
      },
      "source": [
        "#### Úkol 6.3 Vizualizace úspor\n",
        "\n",
        "Napište strukturovaný program, který:\n",
        "1. Načte od uživatele prvotní vklad.\n",
        "2. Dokavaď uživatel neukončí program zadáním slova STOP, tak se neustále ptá, kolik dnes uspořil a kolik si dnes z účtu vybral.\n",
        "3. Pokud uživatel dosáhne záporné hodnoty, tak ho program upozorní při každém dalším výběr na to, že dluží peníze bance.\n",
        "4. Až napíše uživatel slovo STOP, tak program vykreslí na obrazovku graf, který zobrazuje stav jeho konta v čase."
      ]
    },
    {
      "cell_type": "code",
      "execution_count": null,
      "metadata": {
        "id": "lqp-k6cssuyv"
      },
      "outputs": [],
      "source": []
    },
    {
      "attachments": {},
      "cell_type": "markdown",
      "metadata": {
        "id": "irOUsZnCssvV"
      },
      "source": [
        "#### Úkol 6.4 Dárky k Vánocům\n",
        "\n",
        "Napište strukturovaný program, který\n",
        "1. načítá od uživatele názvy dárků a jejich cenu do té doby, dokud uživatel nenapíše STOP\n",
        "2. seřadí dárky od nejdražšího k nejlevnějšímu pomocí bublinkového třídění\n",
        "3. nalezne nejlevnější a nejdražší dárek\n",
        "4. v přehledné podobě vypíše na obrazovku jaký dárek je nejlevnější, nejdražší a vypíše všechny dárky seřazené od nejdražšího po nejlevnější"
      ]
    },
    {
      "cell_type": "code",
      "execution_count": null,
      "metadata": {
        "id": "sx12qR5xLJyr"
      },
      "outputs": [],
      "source": []
    },
    {
      "attachments": {},
      "cell_type": "markdown",
      "metadata": {},
      "source": [
        "#### Úkol 6.5 Obsah obdélníku metodou Monte Carlo\n",
        "\n",
        "Přepište program na výpočet obsahu kruhu metodou Monte Carlo tak, aby vypočítal obsah obdélníku, který je obklopen čtvercem. Hlavní změna nastane v úpravě detekce toho, zda jsme se trefili náhodným bodem do obdélníku nebo mimo obdélník."
      ]
    },
    {
      "cell_type": "code",
      "execution_count": null,
      "metadata": {},
      "outputs": [],
      "source": []
    }
  ],
  "metadata": {
    "colab": {
      "authorship_tag": "ABX9TyNbkxQfcyh/00+2I2aycp61",
      "provenance": []
    },
    "kernelspec": {
      "display_name": "Python 3",
      "name": "python3"
    },
    "language_info": {
      "codemirror_mode": {
        "name": "ipython",
        "version": 3
      },
      "file_extension": ".py",
      "mimetype": "text/x-python",
      "name": "python",
      "nbconvert_exporter": "python",
      "pygments_lexer": "ipython3",
      "version": "3.11.3"
    }
  },
  "nbformat": 4,
  "nbformat_minor": 0
}
