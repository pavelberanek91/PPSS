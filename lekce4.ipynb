{
  "cells": [
    {
      "attachments": {},
      "cell_type": "markdown",
      "metadata": {
        "id": "-FueR60PPdhB"
      },
      "source": [
        "# Programování pro střední školy"
      ]
    },
    {
      "attachments": {},
      "cell_type": "markdown",
      "metadata": {
        "id": "A06-0F60KBcr"
      },
      "source": [
        "## Lekce 4: Cyklus\n",
        "\n",
        "V minulé lekci jste používali rozhodování pomocí příkazů if, elif, else pro to, aby program mohl za určitých naplněných okolností vykonat specifické příkazy. V této lekci se naučíte, jak zadat programu příkaz k opakování sekvence příkazů do té doby, dokavaď je splněna podmínka.\n"
      ]
    },
    {
      "attachments": {},
      "cell_type": "markdown",
      "metadata": {
        "id": "Tyn9KoXKPjiV"
      },
      "source": [
        "### Téma 4.1 Cyklus While\n",
        "\n",
        "Nejjednodušším typem cyklu je cyklus While. Tento cyklus vykonává odsazené příkazy ve svém bloku do té doby, dokavaď je podmínka cyklu vyhodnocena jako pravdivá."
      ]
    },
    {
      "cell_type": "code",
      "execution_count": null,
      "metadata": {
        "colab": {
          "base_uri": "https://localhost:8080/"
        },
        "id": "dph1l3T5deaH",
        "outputId": "2fa284e8-22a0-4cf9-cf03-5beeaebb374f"
      },
      "outputs": [],
      "source": [
        "jmeno = input(\"Zadej jmeno: \")\n",
        "while jmeno != \"Milan\":\n",
        "    jmeno = input(\"Ty nejsi Milan! Kdo jsi?: \")\n",
        "print(\"Ahoj Milane\")"
      ]
    },
    {
      "attachments": {},
      "cell_type": "markdown",
      "metadata": {},
      "source": [
        "V předchozím příkladě vidíte nejtypičtější způsob, jak se využívá cyklus while. Dokavaď je splněna podmínka, která v tomto případě říká, že uživatel nezadal do proměnné jmeno hodnotu \"Milan\", tak program opakuje příkaz pro zadávání nového vstupu. Tento program neskončí, dokavaď uživatel nezadá hodnotu Milan do proměnné jmeno. Jakmile to udělá, pak již nebude pravdou, že v proměnné jmeno není hodnota Milan.\n",
        "\n",
        "Proměnná, podle které se ukončuje cyklus, se nazývá řídící proměnná."
      ]
    },
    {
      "attachments": {},
      "cell_type": "markdown",
      "metadata": {
        "id": "ompkHW0Ka0o1"
      },
      "source": [
        "#### Cvičení 4.1.1: Barmana neokecáš\n",
        "\n",
        "Napište program, který nevydá zákazníkovi pivo, dokavaď nezadá, že mu je 18 nebo více let. Program skončí až tehdy, když uživatel zadá 18 nebo více, takže problém řešte cyklem."
      ]
    },
    {
      "cell_type": "code",
      "execution_count": null,
      "metadata": {},
      "outputs": [],
      "source": [
        "vek = int(input(\"Kolik ti je let? \"))\n",
        "while vek < 18:\n",
        "    vek = int(input(\"Musí ti být alespoň 18 let. Kolik ti je let? \"))\n",
        "print(\"Na tady máš pivo\")"
      ]
    },
    {
      "attachments": {},
      "cell_type": "markdown",
      "metadata": {
        "id": "VhviB9XgdtOx"
      },
      "source": [
        "Jelikož podmínka za klíčovým slovem while je obyčejnou podmínkou jako z minulé lekce, tak může obsahovat i složené výrazy, spojené logickými operátory. V následujícím příkladě se bude cyklus opakovat, dokud bude splněna alespoň jedna z dílčích podmínek. Tedy uživatel musí mít uklizeno a zároveň musí mít hotové domácí úkoly, jinak ho aplikace nepustí ven."
      ]
    },
    {
      "cell_type": "code",
      "execution_count": null,
      "metadata": {
        "colab": {
          "base_uri": "https://localhost:8080/",
          "height": 133
        },
        "id": "-oZVEmXFeDgh",
        "outputId": "996ba98a-4236-4389-8be3-8a57cccc7f11"
      },
      "outputs": [],
      "source": [
        "uklizeno = \"ne\"\n",
        "hotove_domaci_ukoly = \"ne\"\n",
        "\n",
        "while uklizeno == \"ne\" or hotove_domaci_ukoly == \"ne\":\n",
        "    print(\"Nepůjdeš ven, dokavaď nemáš hotové domácí úkoly!\")\n",
        "    uklizeno = input(\"Už jsi uklidil?: \")\n",
        "    hotove_domaci_ukoly = input(\"Už máš hotové domácí úkoly?: \")\n",
        "print(\"Teď už můžeš jít ven.\")"
      ]
    },
    {
      "attachments": {},
      "cell_type": "markdown",
      "metadata": {
        "id": "F-I4preIbgJY"
      },
      "source": [
        "#### Cvičení 4.1.2: Přihlášení do systému\n",
        "\n",
        "Dopište následující program, ve kterém je pevně dané přihlašovací jméno (login) a heslo. Dokuď uživatel nezadá na klávesnici správný login a heslo, tak se cyklus opakuje. Po zadání správných údajů ho přivítá."
      ]
    },
    {
      "cell_type": "code",
      "execution_count": null,
      "metadata": {
        "id": "CftXGPdAbwLU"
      },
      "outputs": [],
      "source": [
        "login = \"fik\"\n",
        "heslo = \"maxipes\"\n",
        "\n",
        "#zde doplňte svůj kód\n",
        "zadany_login = input(\"Login: \")\n",
        "zadane_heslo = input(\"Heslo: \")\n",
        "\n",
        "while zadany_login != login or zadane_heslo != heslo:\n",
        "    print(\"Přihlašovací údaje byly nesprávné!\")\n",
        "    zadany_login = input(\"Login: \")\n",
        "    zadane_heslo = input(\"Heslo: \")\n",
        "\n",
        "print(\"Vítej v aplikaci.\")"
      ]
    },
    {
      "attachments": {},
      "cell_type": "markdown",
      "metadata": {},
      "source": [
        "Kromě vyžadování konkrétních hodnot pro ukončení cyklu lze použít cyklus také pro vytváření řady čísel. Následující program vypisuje postupně se zvyšující se číslo na obrazovku. Číslo začne na hodnotě 1 a a skončí na hodnotě 10. Inkrementace (o kolik číslo průběžně zvedáme) je nastavena na 1.\n"
      ]
    },
    {
      "cell_type": "code",
      "execution_count": null,
      "metadata": {},
      "outputs": [],
      "source": [
        "cislo = 1\n",
        "while cislo <= 10:\n",
        "    print(cislo)\n",
        "    cislo += 1"
      ]
    },
    {
      "attachments": {},
      "cell_type": "markdown",
      "metadata": {
        "id": "T1gpLw_rb5R7"
      },
      "source": [
        "#### Cvičení 4.1.3: Uživatel nastavuje cyklus\n",
        "\n",
        "Upravte předchoží program tak, aby si uživatel mohl zvolit na klávesnici, na jaké čísle cyklus začně, na jakém skončí a o kolik se inkrementuje číslo."
      ]
    },
    {
      "cell_type": "code",
      "execution_count": null,
      "metadata": {
        "id": "tCtP9vdDdOfl"
      },
      "outputs": [],
      "source": [
        "cislo = int(input(\"Na jakém čísle chceš začít?: \"))\n",
        "konec = int(input(\"Na jakém čísle chceš skončit?: \"))\n",
        "inkrementace = int(input(\"Jak celká je inkrementace? \"))\n",
        "\n",
        "while cislo <= konec:\n",
        "    print(cislo)\n",
        "    cislo += inkrementace"
      ]
    },
    {
      "attachments": {},
      "cell_type": "markdown",
      "metadata": {},
      "source": [
        "#### Cvičení 4.1.4: Snižující se řada\n",
        "\n",
        "Napište program s cyklem, kde cyklus začíná na čísle 100 a postupně se snižuje o -5 až do hodnoty -50. Tiskněte postupně snižující se číslo na obrazovku."
      ]
    },
    {
      "cell_type": "code",
      "execution_count": null,
      "metadata": {},
      "outputs": [],
      "source": [
        "cislo = 100\n",
        "konec = -50\n",
        "inkrement = -5\n",
        "\n",
        "while cislo >= konec:\n",
        "    print(cislo)\n",
        "    cislo += inkrement"
      ]
    },
    {
      "attachments": {},
      "cell_type": "markdown",
      "metadata": {},
      "source": [
        "Cyklus lze kombinovat i s podmínkou if. Následující příklad vám ukáže, jak vypisovat pouze čísla, která jsou dělitelná 7 bez zbytku."
      ]
    },
    {
      "cell_type": "code",
      "execution_count": null,
      "metadata": {},
      "outputs": [],
      "source": [
        "cislo = 1\n",
        "while cislo <= 50:\n",
        "    if cislo % 7 == 0:\n",
        "        print(f\"Cislo {cislo} je delitelne 7 beze zbytku\")\n",
        "    cislo += 1"
      ]
    },
    {
      "attachments": {},
      "cell_type": "markdown",
      "metadata": {
        "id": "vOst9Mw6tXdQ"
      },
      "source": [
        "#### Cvičení 4.1.5: Sudá a lichá\n",
        "\n",
        "Napište program, který vypíše řadu čísel od 0 do 10. Pro každé číslo navíc vypíše, zda se jedná o liché nebo sudé číslo. Výstup programu by měl vypadat takto:\n",
        "\n",
        "```\n",
        "0 sudé\n",
        "1 liché\n",
        "2 sudé\n",
        "3 liché\n",
        "4 sudé\n",
        "5 liché\n",
        "6 sudé\n",
        "7 liché\n",
        "8 sudé\n",
        "9 liché\n",
        "10 sudé\n",
        "```"
      ]
    },
    {
      "cell_type": "code",
      "execution_count": null,
      "metadata": {
        "id": "fmCWbGMGtsFF"
      },
      "outputs": [],
      "source": [
        "cislo = 0\n",
        "while cislo <= 10:\n",
        "    if cislo % 2 == 0:\n",
        "        print(f\"{cislo} sudé\")\n",
        "    else:\n",
        "        print(f\"{cislo} liché\")\n",
        "    cislo += 1"
      ]
    },
    {
      "attachments": {},
      "cell_type": "markdown",
      "metadata": {
        "id": "Yur2pr53gosw"
      },
      "source": [
        "### Téma 4.2: Cyklus For\n",
        "\n",
        "Na cyklu while je otravných několik věcí:\n",
        "* Musíte dodat počáteční hodnotu v nějaké proměnné.\n",
        "* Nesmíte zapomenout inkrementovat hodnotu řídící proměnné.\n",
        "* Zápis je zdlouhavý\n",
        "\n",
        "Řešení poskytuje cyklus For, který celý zápis zkracuje. Pojďme se podívat na dva stejné programy. Jeden je zapsán pomocí While cyklu a druhý pomocí For cyklu."
      ]
    },
    {
      "cell_type": "code",
      "execution_count": null,
      "metadata": {
        "colab": {
          "base_uri": "https://localhost:8080/"
        },
        "id": "ESQ42O3Bhlro",
        "outputId": "cf532d01-fd2c-4f0e-ce8e-30ecda14861c"
      },
      "outputs": [],
      "source": [
        "cislo = 0\n",
        "while cislo <= 10:\n",
        "    print(cislo)\n",
        "    cislo += 1"
      ]
    },
    {
      "cell_type": "code",
      "execution_count": null,
      "metadata": {},
      "outputs": [],
      "source": [
        "for cislo in range(0, 11, 1):\n",
        "    print(cislo)"
      ]
    },
    {
      "attachments": {},
      "cell_type": "markdown",
      "metadata": {},
      "source": [
        "Tímto kódem v cyklu For říkám: pro číslo, které nabývá hodnot z rozsahu od 0 do 11 (nevčetně) zvyšuj její hodnotu o 1 a během zvýšování prováděj kód. V následujícím příkladě jsou hodnoty uloženy do proměnných, které vyjadřují jejich význam."
      ]
    },
    {
      "cell_type": "code",
      "execution_count": null,
      "metadata": {},
      "outputs": [],
      "source": [
        "pocatecni_hodnota = 0\n",
        "konecna_hodnota = 11\n",
        "krok_zvysovani = 1\n",
        "\n",
        "for cislo in range(pocatecni_hodnota, konecna_hodnota, krok_zvysovani):\n",
        "    print(cislo)"
      ]
    },
    {
      "attachments": {},
      "cell_type": "markdown",
      "metadata": {},
      "source": [
        "Konečná hodnota je vždy nevčetně, takže cyklus skončí, jakmile řídící proměnná dosáhne této hodnoty a kód v těle cyklu se již nevykoná. "
      ]
    },
    {
      "attachments": {},
      "cell_type": "markdown",
      "metadata": {
        "id": "ShArx6Gghzyh"
      },
      "source": [
        "#### Cvičení 4.2.1: Násobilka\n",
        "\n",
        "Napište program, který na obrazovku vypíše čísla od 5 do 50 (včetně) a bude inkrementovat po 5, tedy malou násobilku čísla 5.\n",
        "\n"
      ]
    },
    {
      "cell_type": "code",
      "execution_count": null,
      "metadata": {},
      "outputs": [],
      "source": [
        "for cislo in range(5, 51, 5):\n",
        "    print(cislo)"
      ]
    },
    {
      "attachments": {},
      "cell_type": "markdown",
      "metadata": {},
      "source": [
        "For cyklus je také možné zapsat ve zkráceném zápisu. Pokud neuvedete krok, bude vždy jedna. Zkuste si tyto dva programy a uvidíte, že se chovají zcela stejně."
      ]
    },
    {
      "cell_type": "code",
      "execution_count": null,
      "metadata": {},
      "outputs": [],
      "source": [
        "for cislo in range(0, 11, 1):\n",
        "    print(cislo)"
      ]
    },
    {
      "cell_type": "code",
      "execution_count": null,
      "metadata": {},
      "outputs": [],
      "source": [
        "for cislo in range(0, 11):\n",
        "    print(cislo)"
      ]
    },
    {
      "attachments": {},
      "cell_type": "markdown",
      "metadata": {},
      "source": [
        "Tyto dva programy fungují stejně. Existuje ještě jedna zkratka a to vynechání prvního čísla, tedy počáteční hodnoty. Pokud ji neuvedete, tak program začíná od počáteční hodnoty 0."
      ]
    },
    {
      "cell_type": "code",
      "execution_count": null,
      "metadata": {
        "colab": {
          "base_uri": "https://localhost:8080/"
        },
        "id": "LATH0O3-hwaC",
        "outputId": "098afd02-d100-4ff9-cb47-91b08c6b1ee1"
      },
      "outputs": [],
      "source": [
        "for cislo in range(11):\n",
        "    print(cislo)"
      ]
    },
    {
      "attachments": {},
      "cell_type": "markdown",
      "metadata": {
        "id": "SQdIMH9ci1N_"
      },
      "source": [
        "#### Cvičení 4.2.2: Krátší for cyklus\n",
        "\n",
        "Přepište následující for cyklus tak, aby jeho zápis byl co nejkratší."
      ]
    },
    {
      "cell_type": "code",
      "execution_count": null,
      "metadata": {},
      "outputs": [],
      "source": [
        "for vek in range(20, 60, 3):\n",
        "    print(vek)"
      ]
    },
    {
      "cell_type": "code",
      "execution_count": null,
      "metadata": {
        "id": "qxNRW_HkiW4T"
      },
      "outputs": [],
      "source": [
        "vek = 20\n",
        "while vek < 60:\n",
        "    print(vek)\n",
        "    vek += 3"
      ]
    },
    {
      "attachments": {},
      "cell_type": "markdown",
      "metadata": {},
      "source": [
        "#### Cvičení 4.2.3: For cyklus místo While cyklu\n",
        "\n",
        "Přepište následující while cyklus do for cyklu tak, aby for cyklus byl co nejkratší."
      ]
    },
    {
      "cell_type": "code",
      "execution_count": null,
      "metadata": {},
      "outputs": [],
      "source": [
        "cislo_studenta = 0\n",
        "while cislo_studenta < 20:\n",
        "    print(cislo_studenta)\n",
        "    cislo_studenta += 1"
      ]
    },
    {
      "cell_type": "code",
      "execution_count": null,
      "metadata": {},
      "outputs": [],
      "source": [
        "for cislo_studenta in range(20):\n",
        "    print(cislo_studenta)"
      ]
    },
    {
      "attachments": {},
      "cell_type": "markdown",
      "metadata": {},
      "source": [
        "#### Cvičení 4.2.4: For cyklus místo While cyklu s chytákem\n",
        "\n",
        "Přepište následující while cyklus do for cyklu tak, aby for cyklus byl co nejkratší."
      ]
    },
    {
      "cell_type": "code",
      "execution_count": null,
      "metadata": {},
      "outputs": [],
      "source": [
        "pocet_minci = 0\n",
        "while pocet_minci < 20:\n",
        "    print(pocet_minci)\n",
        "    pocet_minci += 2"
      ]
    },
    {
      "cell_type": "code",
      "execution_count": null,
      "metadata": {},
      "outputs": [],
      "source": [
        "for pocet_minci in range(0, 20, 2):\n",
        "    print(pocet_minci)"
      ]
    },
    {
      "attachments": {},
      "cell_type": "markdown",
      "metadata": {},
      "source": [
        "#### Cvičení 4.2.5: While cyklus místo For cyklu\n",
        "\n",
        "Přepište následující for cyklus do while cyklu."
      ]
    },
    {
      "cell_type": "code",
      "execution_count": null,
      "metadata": {},
      "outputs": [],
      "source": [
        "for inflace in range(10, 50, 4):\n",
        "    print(inflace)"
      ]
    },
    {
      "cell_type": "code",
      "execution_count": null,
      "metadata": {},
      "outputs": [],
      "source": [
        "inflace = 10\n",
        "while inflace < 50:\n",
        "    print(inflace)\n",
        "    inflace += 4"
      ]
    },
    {
      "attachments": {},
      "cell_type": "markdown",
      "metadata": {},
      "source": [
        "\n",
        "Pomocí For cyklu lze také samozřejmě procházet číselnou řadu i pozpátku, tedy od vyšší hodnoty, do menší hodnoty a inkrementovat pomocí záporného kroku, tedy dekrementovat."
      ]
    },
    {
      "cell_type": "code",
      "execution_count": null,
      "metadata": {},
      "outputs": [],
      "source": [
        "for hodnoceni in range(5, -3, -2):\n",
        "    print(hodnoceni)"
      ]
    },
    {
      "attachments": {},
      "cell_type": "markdown",
      "metadata": {},
      "source": [
        "#### Cvičení 4.2.6: Dekrementace\n",
        "\n",
        "Napište for cyklus, který začne na čísle 10000 a bude postupně odečítat 1000 až do hodnoty 0 (včetně)."
      ]
    },
    {
      "cell_type": "code",
      "execution_count": null,
      "metadata": {},
      "outputs": [],
      "source": [
        "for cislo in range(10000, -1, -1000):\n",
        "    print(cislo)"
      ]
    },
    {
      "attachments": {},
      "cell_type": "markdown",
      "metadata": {},
      "source": [
        "#### Cvičení 4.2.6: Dekrementační For na While\n",
        "\n",
        "Přepište následující dekrementační for cyklus na while cyklus."
      ]
    },
    {
      "cell_type": "code",
      "execution_count": null,
      "metadata": {},
      "outputs": [],
      "source": [
        "for milionu_na_ucte in range(50, -10, -5):\n",
        "    print(milionu_na_ucte)"
      ]
    },
    {
      "cell_type": "code",
      "execution_count": null,
      "metadata": {},
      "outputs": [],
      "source": [
        "milionu_na_ucte = 50\n",
        "while milionu_na_ucte > -10:\n",
        "    print(milionu_na_ucte)\n",
        "    milionu_na_ucte -= 5"
      ]
    },
    {
      "attachments": {},
      "cell_type": "markdown",
      "metadata": {},
      "source": [
        "#### Cvičení 4.2.8: Dekrementační While na For\n",
        "\n",
        "Přepište následující dekrementační while cyklus na for cyklus."
      ]
    },
    {
      "cell_type": "code",
      "execution_count": null,
      "metadata": {},
      "outputs": [],
      "source": [
        "pocatecni_hodnota = -5\n",
        "konecna_hodnota = -15\n",
        "dekrementace = -5\n",
        "\n",
        "hodnota = pocatecni_hodnota\n",
        "while hodnota >= konecna_hodnota:\n",
        "    print(hodnota)\n",
        "    hodnota += dekrementace"
      ]
    },
    {
      "cell_type": "code",
      "execution_count": null,
      "metadata": {},
      "outputs": [],
      "source": [
        "for hodnota in range(-5, -16, -5):\n",
        "    print(hodnota)"
      ]
    },
    {
      "attachments": {},
      "cell_type": "markdown",
      "metadata": {
        "id": "vpk7LZEujUYt"
      },
      "source": [
        "### Téma 4.3: Předčasné ukončení a pokračování cyklu\n",
        "\n",
        "Nastanou případy, kdy by se vám hodilo cyklus předčasně ukončit. Tuto dovednost budete se složitějšími úlohami častěji využívat. Teď jí využijeme zřídka, ale je dobré, si ji už teď procvičit. Následující cyklus se předčasně ukončí, pokud nalezne číslo, které je dělitelné 7 beze zbytku. Pokud je cílem programu nalézt určitou první hodnotu splňující podmínku, je zbytečné po nalezení vyhledávat v cyklu nadále."
      ]
    },
    {
      "cell_type": "code",
      "execution_count": null,
      "metadata": {
        "colab": {
          "base_uri": "https://localhost:8080/"
        },
        "id": "QMbJR02SjYHT",
        "outputId": "539254d7-df54-4f85-e953-54580cb4e51c"
      },
      "outputs": [],
      "source": [
        "for cislo in range(10, 21):\n",
        "    if cislo % 7 == 0:\n",
        "        break\n",
        "        \n",
        "print(f\"Našel jsem číslo dělitelné sedmi bezezbytku: {cislo}\")"
      ]
    },
    {
      "attachments": {},
      "cell_type": "markdown",
      "metadata": {},
      "source": [
        "Obdobně lze předčasně ukončit i while cyklus. Následující program hraje s uživatelem hru na hádanou (nevim, jestli taková hra existuje, právě jsem si ten název vymyslel). Hráč má hádat číslo 0 nebo 1. Počítač jedno z těchto čísel generuje. Pokud hráč uhádne alespoň dvakrát z pěti pokusů, tak vyhrál."
      ]
    },
    {
      "cell_type": "code",
      "execution_count": null,
      "metadata": {},
      "outputs": [],
      "source": [
        "import random\n",
        "\n",
        "pocet_vitezstvi = 0\n",
        "celkovy_pocet_kol = 5\n",
        "\n",
        "aktualni_kolo = 1\n",
        "while aktualni_kolo <= celkovy_pocet_kol:\n",
        "    hadane_cislo = random.randint(0, 1)\n",
        "    zadane_cislo = int(input(\"Hádej číslo 0 nebo 1: \"))\n",
        "    \n",
        "    if zadane_cislo == hadane_cislo:\n",
        "        pocet_vitezstvi += 1\n",
        "\n",
        "    if pocet_vitezstvi == 2:\n",
        "        print(\"Hráč vyhrál!\")\n",
        "        break\n",
        "    \n",
        "    aktualni_kolo += 1\n",
        "\n",
        "print(f\"Hra byla ukončena a hráč {'vyhrál' if pocet_vitezstvi == 2 else 'prohrál'}\")"
      ]
    },
    {
      "attachments": {},
      "cell_type": "markdown",
      "metadata": {},
      "source": [
        "Občas uvidíte v kódech na internetu, že autoři využívají break pro ukončení nekonečného cyklu. Nekonečný cyklus je cyklus, jehož podmínka bude vždy vyhodnocena jako pravdivá. Nejjednodušší způsob, jak to zařídit, je zadat do podmínky hodnotu True. True bude vždycky True, což je True :) ... Často to bývá lenost programátorů napsat vhodnou složitou ukončovací podmínu cyklu a přípravu počátečních dat do proměnných."
      ]
    },
    {
      "cell_type": "code",
      "execution_count": null,
      "metadata": {},
      "outputs": [],
      "source": [
        "while True:\n",
        "    tvoje_jmeno = input(\"Zadej jméno: \")\n",
        "    jmeno_otce = input(\"Zadej jméno nejlepšího kamaráda: \")\n",
        "    \n",
        "    if tvoje_jmeno == \"Luke Skywalker\" and jmeno_otce == \"Anakin Skywalker\":\n",
        "        print(\"Ať tě síla provází Luku.\")\n",
        "        break\n",
        "    elif tvoje_jmeno == \"Naruto\" and jmeno_otce == \"Minato\":\n",
        "        print(\"S kterým stínovým klonem se bavim?\")\n",
        "        break"
      ]
    },
    {
      "attachments": {},
      "cell_type": "markdown",
      "metadata": {},
      "source": [
        "Což lze samozřejmě přepsat bez použití break. Jen to vyžaduje nastavit počáteční hodnoty pro rozjezd cyklu."
      ]
    },
    {
      "cell_type": "code",
      "execution_count": null,
      "metadata": {},
      "outputs": [],
      "source": [
        "tvoje_jmeno = None\n",
        "jmeno_otce = None\n",
        "\n",
        "while tvoje_jmeno == \"Luke Skywalker\" and jmeno_otce == \"Anakin Skywalker\" or tvoje_jmeno == \"Naruto\" and jmeno_otce == \"Minato\":\n",
        "    tvoje_jmeno = input(\"Zadej jméno: \")\n",
        "    jmeno_otce = input(\"Zadej jméno nejlepšího kamaráda: \")\n",
        "    \n",
        "    if tvoje_jmeno == \"Luke Skywalker\" and jmeno_otce == \"Anakin Skywalker\":\n",
        "        print(\"Ať tě síla provází Luku.\")\n",
        "        break\n",
        "    elif tvoje_jmeno == \"Naruto\" and jmeno_otce == \"Minato\":\n",
        "        print(\"S kterým stínovým klonem se bavim?\")\n",
        "        break"
      ]
    },
    {
      "attachments": {},
      "cell_type": "markdown",
      "metadata": {},
      "source": [
        "Kromě předčasného ukončení cyklu lze i přeskakovat aktuální iteraci cyklu. K tomu slouží příkaz continue, který ukončí aktuální tělo cyklu předčasně (nedojede tedy na poslední příkazy těla cyklu) a skočí hned na hlavičku cyklu. Tato technika je užitečná zejména tehdy, když provádíte fyzikálně-chemické simulace látek. Pro výpočet potenciální energie látky (což je důležitá informace) potřebujete spočítat vzdálenost částic látky od sebe. Pokud procházíte všechny částice a počítáte od každé vzdálenost ke každé další částici, dojdete k situaci, kdy částice měří svou vzdálenost sama od sebe, což je 0. Pokud si vzpomenete na gravitační nebo elektrostatickou sílu (z ní se počítá energie), tak ve vzorcích se vyskytuje děleno vzdálenost na druhou. To by způsobilo chybu dělení a proto takovou situaci přeskočíme.\n",
        "\n",
        "Takto složitý příklad zde ukazovat nebudu. Místo toho ukážu situaci, kdy uživatel má zadat určitý počet lichých čísel. Pokud nezadá liché číslo, tak nemá smysl v kódu dále pokračovat a rovnou jdeme na další zadávání. Tato situace by se dala nahodit konstrukcí IF-ELSE, avšak v praktických příkladech by kód v ELSE bloku mohl být zbytečně dlouhý a nebylo by hezké, aby byl zbytečně zanořený."
      ]
    },
    {
      "cell_type": "code",
      "execution_count": null,
      "metadata": {},
      "outputs": [],
      "source": [
        "soucet = 0\n",
        "pocet_cisel = 10\n",
        "for iterace in range(pocet_cisel):\n",
        "    vstup = input(f\"Zadej celé liché číslo ({iterace}/{pocet_cisel}): \")\n",
        "    if vstup % 2 == 0: \n",
        "        continue\n",
        "    soucet += int(vstup)\n",
        "    print(f\"Aktuální hodnota součtu lichých čísel: {soucet}\")"
      ]
    },
    {
      "attachments": {},
      "cell_type": "markdown",
      "metadata": {
        "id": "htFJyFKQm9_g"
      },
      "source": [
        "#### Cvičení 4.3.1: Ukonči cyklus předčasně\n",
        "\n",
        "Nech zadávat uživatele čísla v cyklu neomezeně dlouho. Za každé zadané liché číslo ho pochvalte. Pokud však zadá sudé číslo, pak cyklus předčasně ukončete a vypište, kolik celkem lichých čísel zvládl zadat než to pokazil sudým číslem."
      ]
    },
    {
      "cell_type": "code",
      "execution_count": null,
      "metadata": {},
      "outputs": [],
      "source": [
        "pocet_lichych = 0\n",
        "while True:\n",
        "    if int(input(\"Zadej liché číslo: \")) % 2 == 0:\n",
        "        break\n",
        "    pocet_lichych += 1\n",
        "    print(\"Super! Zvládl jsi zadat liché číslo. Jsi úžasná a krásná bytost.\")\n",
        "        \n",
        "print(f\"Zvládl jsi zadat celkem {pocet_lichych} lichých čísel.\")"
      ]
    },
    {
      "attachments": {},
      "cell_type": "markdown",
      "metadata": {},
      "source": [
        "#### Cvičení 4.3.2: Vynech v cyklu\n",
        "\n",
        "Napište kód, který vypíše na obrazovku funkční hodnoty fukce y = 1/x. Začněte s x na hodnotě -5, skončete na hodnotě +5 a inkrementujte o 1. Jelikož tato funkce není definována pro hodnotu x = 0, tak tuto hodnotu přeskočte příkazem continue."
      ]
    },
    {
      "cell_type": "code",
      "execution_count": null,
      "metadata": {},
      "outputs": [],
      "source": [
        "for x in range(-5, 6):\n",
        "    if x == 0:\n",
        "        continue\n",
        "    print(1/x)"
      ]
    },
    {
      "attachments": {},
      "cell_type": "markdown",
      "metadata": {},
      "source": [
        "Zajímavostí jazyka Python je to, že příkaz ELSE lze přiřadit i k cyklu FOR. Mechanismus fungování je následující. Pokud se cyklus vykoná a nebude předčasně ukončen, pak se zavolá kód ELSE bloku. Jedná se fakticky poslední iteraci, která může mít unikátní kód."
      ]
    },
    {
      "cell_type": "code",
      "execution_count": null,
      "metadata": {},
      "outputs": [],
      "source": [
        "for i in range(10):\n",
        "    if input(\"Zadej jakékoliv ovoce (kromě švestky): \") == \"švestka\":\n",
        "        print(\"Neměl jsi zadávat švestku!\")\n",
        "        break\n",
        "else:\n",
        "    print(\"Ani jedna ze zadaných hodnot nebyla švestka. Super!\")"
      ]
    },
    {
      "attachments": {},
      "cell_type": "markdown",
      "metadata": {},
      "source": [
        "Zajímavostí je, že autor jazyka Python nepovažuje tuto techniku za příliš vhodnou a údajně lituje toho, že jí do jazyka Python dodal."
      ]
    },
    {
      "attachments": {},
      "cell_type": "markdown",
      "metadata": {
        "id": "B91DlVktkksl"
      },
      "source": [
        "#### Cvičení 4.3.3: Pokud cyklus není předčasně ukončen\n",
        "\n",
        "Napište kód, který bude žádat uživatele o jména. Cyklus požádá celkem 5x. Pokud uživatel zadá prázdný řetězec, pak se cyklus předčasně ukončí. Po skončení cyklu a všechna zadaná jména se vytisknou na obrazovku a budou od sebe oddělená čárkou. Pokud uživatel zadá všech pět jmen v cyklu a cyklus se tak předčasně neukončí, tak na obrazovku se vypíše hláška: \"Všechna jména byla zadána. Ukončuji zadávání.\""
      ]
    },
    {
      "cell_type": "code",
      "execution_count": null,
      "metadata": {},
      "outputs": [],
      "source": [
        "jmena = \"\"\n",
        "for i in range(5):\n",
        "    jmeno = input(\"Zadej jméno nebo nic nezadávej pro ukončení: \")\n",
        "    if not jmeno:\n",
        "        break\n",
        "    else:\n",
        "        jmena += \",\"\n",
        "else:\n",
        "    print(\"Všechna jména byla zadána. Ukončuji zadávání.\")\n",
        "print(jmena)"
      ]
    },
    {
      "attachments": {},
      "cell_type": "markdown",
      "metadata": {},
      "source": [
        "#### Cvičení 4.3.4: Eso v karetní hře \"Prší\"\n",
        "\n",
        "Je čas na pořádný challenge na cykly a podmínky. Toto zadání lze vyřešit různým způsobem.\n",
        "\n",
        "Napište nekonečný cyklus, ve kterém se střídají dva hráči, kteří hrajou hru prší. Oba hráči budou lidští hráči. Karty mají jen číslo a nemají \"barvu\". Karty se zadávají na klávesnici (pro jednoduchost), takže je možné zadávat relativně blbosti (například 5x za sebou eso). Hra bude mít následující pravidla:\n",
        "1. Každý hráč má pět karet (obecně libovolných).\n",
        "2. Hráči se střídají na tahu.\n",
        "3. Hodnoty karet jsou: 7, 8, 9, 10, měnič, královna, král, eso.\n",
        "4. Jakoukoliv kartu lze pokládat na jakoukoliv kartu.\n",
        "5. Pokud hráč položí kartu 7, pak druhý hráč bere 2 karty.\n",
        "6. Pokud hráč položí eso, pak druhý hráč následující kolo stojí\n",
        "7. Hra končí, pokud některý z hráčů vynese všechny své karty\n"
      ]
    },
    {
      "cell_type": "code",
      "execution_count": null,
      "metadata": {},
      "outputs": [],
      "source": [
        "karty_hrac1 = 5\n",
        "karty_hrac2 = 5\n",
        "\n",
        "hrac_jedna_stoji = False\n",
        "hrac_dva_stoji = False\n",
        "\n",
        "while True:\n",
        "\n",
        "    if not hrac_jedna_stoji:\n",
        "        hrac_dva_stoji = False\n",
        "        karta = input(f\"Na tahu je hráč 1 a má {karty_hrac1} karet. Vynes kartu: \")\n",
        "        \n",
        "        if karta == \"eso\":\n",
        "            hrac_dva_stoji = True\n",
        "        elif karta == \"7\":\n",
        "            karty_hrac2 += 2\n",
        "        karty_hrac1 -= 1\n",
        "\n",
        "        if karty_hrac1 == 0:\n",
        "            print(\"Vyhral hráč 1.\")\n",
        "            break\n",
        "\n",
        "    if not hrac_dva_stoji:\n",
        "        hrac_jedna_stoji = False\n",
        "        karta = input(f\"Na tahu je hráč 2 a má {karty_hrac2} karet. Vynes kartu: \")\n",
        "        \n",
        "        if karta == \"eso\":\n",
        "            hrac_jedna_stoji = True\n",
        "        elif karta == \"7\":\n",
        "            karty_hrac1 += 2\n",
        "        karty_hrac2 -= 1\n",
        "\n",
        "        if karty_hrac2 == 0:\n",
        "            print(\"Vyhral hráč 2.\")\n",
        "            break\n",
        "    "
      ]
    },
    {
      "attachments": {},
      "cell_type": "markdown",
      "metadata": {},
      "source": [
        "#### Cvičení 4.3.5: Karetní hra 21\n",
        "\n",
        "Další karetní výzva. Napište program, který simuluje upravenou karetní hru 21. Zadání je následující:\n",
        "1. Hraje lidský hráč proti 3 počítačům.\n",
        "2. Lidský hráč žádá program o karty, program mu vrací náhodné karty s čísly v rozmezí od 1 do 12.\n",
        "3. Hráč začíná s jednou náhodnou kartou v rozmezí 1 až 11.\n",
        "4. Hráč má možnost požádat opakovaně žádat o karty nebo přestat žádat.\n",
        "5. Pokud přestane žádat, tak hráč i počítače odkryjí součet hodnot svých karet.\n",
        "6. Pokud hráč přesáhne hodnotu 21, tak automaticky prohrál.\n",
        "7. Pokud hráč má ze všech oponentů výsledek nejblíže 21, tak vyhrál\n",
        "8. Ve všech ostatních případech hráč prohrál (i v případě remízy).\n",
        "9. Nevypisujte, který z počítačů případně prohrál. To by bylo příliš mnoho podmínek. \n",
        "10. Počítačům rovnou generujte výsledný součet karet v rozmezí od 1 do 31.\n",
        "11. Pokud má více hráčů stejný nejbližší součet karet číslu 21, pak nastavává remíza."
      ]
    },
    {
      "cell_type": "code",
      "execution_count": null,
      "metadata": {},
      "outputs": [],
      "source": [
        "import random\n",
        "\n",
        "pc1 = random.randint(1, 31)\n",
        "pc2 = random.randint(1, 31)\n",
        "pc3 = random.randint(1, 31)\n",
        "hrac = random.randint(1, 11)\n",
        "\n",
        "ukonceno = False\n",
        "while not ukonceno:\n",
        "    if input(f\"Součet karet v ruce: {hrac}. Chceš další kartu? [A/N]: \").upper()[0] == \"A\":\n",
        "        hrac += random.randint(1, 11)\n",
        "    else:\n",
        "        ukonceno = True\n",
        "\n",
        "if hrac > 21:\n",
        "    print(\"Prohrál jsi\")\n",
        "elif hrac > pc1 and hrac > pc2 and hrac > pc3:\n",
        "    print(\"Vyhrál jsi!\")"
      ]
    },
    {
      "attachments": {},
      "cell_type": "markdown",
      "metadata": {
        "id": "OAevD9Q4g5F5"
      },
      "source": [
        "### Téma 4.4: Zanořené cykly\n",
        "\n",
        "Cykly mohou mít v sobě také cykly. Tato schopnost pro vás bude užitečná v následujících lekcích, až budete procházet matice, neboli seznamy seznamů. Obrázky jsou například reprezentované jako matice. V této sekci si zatím vyzkoušíte zanořený cyklus bez hlubší aplikace. Následující kód se skládá s vnějšího cyklu, jehož řídící proměnná je \"i\". Ten v sobě obsahuje vnitřní cyklus, jehož řídící proměnná je \"j\"."
      ]
    },
    {
      "cell_type": "code",
      "execution_count": null,
      "metadata": {
        "colab": {
          "base_uri": "https://localhost:8080/"
        },
        "id": "DBVvgGSFg9BM",
        "outputId": "1eabe45e-7462-49a9-989a-d73ddf4223b7"
      },
      "outputs": [],
      "source": [
        "for i in range(5):\n",
        "    for j in range(3):\n",
        "        print(i, j)"
      ]
    },
    {
      "attachments": {},
      "cell_type": "markdown",
      "metadata": {},
      "source": [
        "Cykly mohou být v sobě zanořené až do jakého řádu chcete a může se jich nacházet více vedle sebe. Mohou také obsahovat svůj složitý kód s podmínkami."
      ]
    },
    {
      "cell_type": "code",
      "execution_count": null,
      "metadata": {},
      "outputs": [],
      "source": [
        "for i in range(10):\n",
        "    for j in range(20):\n",
        "        for k in range(5):\n",
        "            if k % 2 == 0:\n",
        "                print(f\"i={i}, j={j}, k={l} je sudé\")\n",
        "        for l in range(10):\n",
        "            if l % 2 != 0:\n",
        "                print(f\"i={i}, j={j}, l={l} je sudé\")\n",
        "        if j % 3 == 0:\n",
        "            print(f\"i={i}, j={j}, j je dělitelné 3 beze zbytku\")"
      ]
    },
    {
      "attachments": {},
      "cell_type": "markdown",
      "metadata": {},
      "source": [
        "#### Cvičení 4.4.1: Dekrementační dvojný cyklus\n",
        "\n",
        "Napište kód, který na obrazovku vypíše celkem 5x řadu čísel od 10 do -10 (včetně) s dekrementací -1. Využijte k tomu dvojný cyklus."
      ]
    },
    {
      "cell_type": "code",
      "execution_count": null,
      "metadata": {},
      "outputs": [],
      "source": [
        "for i in range(5):\n",
        "    for j in range(10, -11, -1):\n",
        "        print(j)"
      ]
    },
    {
      "attachments": {},
      "cell_type": "markdown",
      "metadata": {},
      "source": [
        "#### Cvičení 4.4.2: Dvojný cyklus pomocí While\n",
        "\n",
        "Napište kód, který na obrazovku vypíše celkem 10x řadu čísel od 0 do 10 (včetně) s inkrementací +2. Využijte k tomu dvojný cyklus. Cykly proveďte pomocí příkazu WHILE."
      ]
    },
    {
      "cell_type": "code",
      "execution_count": null,
      "metadata": {},
      "outputs": [],
      "source": [
        "i = 0\n",
        "while i < 10:\n",
        "    j = 0\n",
        "    while j <= 10:\n",
        "        print(j)\n",
        "        j += 2\n",
        "    i += 1"
      ]
    },
    {
      "attachments": {},
      "cell_type": "markdown",
      "metadata": {},
      "source": [
        "### Téma 4.5: Úlohy na cyklus\n",
        "\n",
        "V této sekci si procvičíte algoritmizaci na komplexních úlohách, které simulují reálné příklady toho, s jakým typem problémů se programátor setkává. Cílem je využít vaše doposud získané znalosti a aplikovat je pro vyřešení problémů. Bude to náročné, ale věřím, že to zvládnete :)."
      ]
    },
    {
      "attachments": {},
      "cell_type": "markdown",
      "metadata": {},
      "source": [
        "#### Cvičení 4.5.1: Faktoriál\n",
        "\n",
        "Faktoriál zadaného čísla N je definován jako ```N*(N-1)*(N-2)* ...* 1```. Například faktoriál čísla 5 spočítáme jako 5 * 4 * 3 * 2 * 1, což je 120. Faktoriál čísla 3 je 3 * 2 * 1 = 6.\n",
        "\n",
        "Napište program, do kterého uživatel zadá číslo N a program vrátí hodnotu jeho faktoriálu. Existuje na to příkaz v knihovně math, ale vy to zkuste napsat svépomocí pomocí cyklu.\n",
        "\n",
        "Nápověda: do nějaké proměnné si budete postupně ukládat výsledek faktoriálu. Výsledek získáte tím, že pomocí cyklu budete snižovat hodnotu proměnné N až do 1 a aktuální hodnotu v N použijete pro výpočet hodnoty faktoriálu."
      ]
    },
    {
      "cell_type": "code",
      "execution_count": null,
      "metadata": {},
      "outputs": [],
      "source": [
        "N = int(input(\"Zadej číslo, jehož faktoriál chceš spočítat: \"))\n",
        "\n",
        "faktorial = N\n",
        "for cislo in range(N-1, 1, -1):\n",
        "    faktorial *= cislo\n",
        "print(\"Faktoriál čísla {N} je {N}! = {faktorial}\")"
      ]
    },
    {
      "attachments": {},
      "cell_type": "markdown",
      "metadata": {},
      "source": [
        "#### Cvičení 4.5.2: Opakované připojování do řetězce\n",
        "\n",
        "Napište program, který neustále žádá uživatele o zadávání slov. Tato slova jsou pomocí operace připojování na řetězci (operátor +) připojována do jednoho řetězce. Připojovaná slova budou oddělena čárkou. Pokud uživatel napíše slovo STOP, tak program přestane uživatele žádat o vstupy. Na konci se vypíše řetězec se všemi vstupy od uživatele (tedy ten, do kterého se celou dobu připojovalo)."
      ]
    },
    {
      "cell_type": "code",
      "execution_count": null,
      "metadata": {},
      "outputs": [],
      "source": [
        "stop_slovo = \"STOP\"\n",
        "tvoreny_retezec = \"\"\n",
        "\n",
        "while True:\n",
        "    zadane_slovo = input(\"Zadej slovo, ktere chces pripojit do retezce nebo napis STOP pro ukonceni: \")\n",
        "    if zadane_slovo == stop_slovo:\n",
        "        break\n",
        "    else:\n",
        "        tvoreny_retezec += zadane_slovo + \",\"\n",
        "    \n",
        "print(tvoreny_retezec)"
      ]
    },
    {
      "attachments": {},
      "cell_type": "markdown",
      "metadata": {},
      "source": [
        "#### Cvičení 4.5.3: Hádej číslo\n",
        "\n",
        "Vaším úkolem je napsat program, který má následující zadání:\n",
        "\n",
        "1. Program na začátku uloží do proměnné maxcislo hodnotu 2 a do proměnné pocet_zivotu hodnotu 3.\n",
        "2. Program náhodně vylosuje číslo v rozmezí 1 až maxcislo.\n",
        "3. Program vyzve hráče, aby hádal číslo v rozmezí 1 a maxcislo.\n",
        "4. Pokud hráč uhádne vylosované číslo, pak se mu zvedne počet životů o 1 a zvýší se maximální číslo, které se losuje a hráč hádá.\n",
        "5. Pokud hráč neuhádne vylosované číslo, pak mu klesne počet životů o 1 a maximální číslo, které se losuje a hráč hádá se nemění.\n",
        "6. Program se opakuje od bodu 2 v tomto zadání, dokud hráčovi nedojdou životy.\n",
        "7. Na konci se vytiskne, kolik hráč uhádl čísel.\n"
      ]
    },
    {
      "cell_type": "code",
      "execution_count": null,
      "metadata": {},
      "outputs": [],
      "source": [
        "import random\n",
        "\n",
        "maxcislo = 2\n",
        "pocet_zivotu = 3\n",
        "pocet_uhadnutych_cisel = 0\n",
        "\n",
        "while pocet_zivotu > 0:\n",
        "    hadane_cislo = random.randint(1, maxcislo)\n",
        "    zadane_cislo = int(input(f\"Zbyva {pocet_zivotu} zivotu. Zadej cislo v rozmezi {1, maxcislo}: \"))\n",
        "    if zadane_cislo == hadane_cislo:\n",
        "        pocet_zivotu += 1\n",
        "        pocet_uhadnutych_cisel += 1\n",
        "        print(\"Uhadl jsi!\")\n",
        "    else:\n",
        "        pocet_zivotu -= 1\n",
        "        print(f\"Neuhadl jsi. Bylo to cislo {hadane_cislo}\")\n",
        "\n",
        "print(f\"Počet uhádnutých čísel je: {pocet_uhadnutych_cisel}\")"
      ]
    },
    {
      "attachments": {},
      "cell_type": "markdown",
      "metadata": {},
      "source": [
        "#### Cvičení 4.5.4: Člověče nezlob se s jednou figurkou\n",
        "\n",
        "Napište program, který realizuje hru Člověče nezlob se s jednou figurkou. Kostka bude realizována náhodným generátorem čísel a počet políček herního plánu je na vás.\n",
        "\n",
        "1. Na začátku musí hráč hodit 6, aby vyšel ze startovní pozice, tedy začal se vůbec pohybovat po políčkách herního plánu. Velikost herního plánu (tedy počet políček) si sami zvolte.\n",
        "2. Poté hází kostkou a posouvá se po poli o hodnotu, která na kostce padla. Pokud padne 6, tak hází znovu a posouvá se o celkový součet hodů. Například padne-li 6 a poté 5, pak se posune celkem o 11 pozic. Padne-li 6, 6 a poté 3, posouvá se o 15 pozic.\n",
        "3. Poslední 4 políčka jsou tzv. cílový domeček. V této verzi musíte umístit figurku na poslední políčko v cílovém domečku. Toto číslo nesmíte přehodit, jinak se figurka neposouvá. Musíte se tedy přímo trefit na poslední políčko herního plánu."
      ]
    },
    {
      "cell_type": "code",
      "execution_count": null,
      "metadata": {},
      "outputs": [],
      "source": [
        "import random\n",
        "\n",
        "#nastavení hry\n",
        "pocet_policek = 20\n",
        "pocet_sten_kostky = 6\n",
        "\n",
        "#počáteční hodnoty proměnných řídících ukončení hry\n",
        "aktualni_policko = \"startovni pozice\"\n",
        "konec_hry = False\n",
        "\n",
        "#herní smyčka\n",
        "while not konec_hry:\n",
        "\n",
        "    #pokud je na startovní pozici, musí se nejprve dostat pryč\n",
        "    if aktualni_policko == \"startovni pozice\":\n",
        "        while kostka != 6:\n",
        "            input(\"Stiskni klávesu ENTER pro hod kostkou.\")\n",
        "            kostka = random.randint(1, pocet_sten_kostky)\n",
        "            aktualni_policko = 1\n",
        "    \n",
        "    #pokud neni na startovni pozici, pak normalne postupuje po hernim poli\n",
        "    kostka = int(input(\"Jsi na políčku: {aktualni_policko}. Stiskni klávesu ENTER pro hod kostkou\"))\n",
        "    if kostka == 6:\n",
        "        kostka += int(input(\"Padla 6. Házíš znovu. Stiskni klávesu ENTER pro hod kostkou\"))\n",
        "\n",
        "    #pokud se nachazi 6 policek pred koncem, musi se presne trefit aby neprekrocil cilovy domecek\n",
        "    if pocet_policek - aktualni_policko + kostka >= pocet_sten_kostky:\n",
        "        print(f\"Přeskočil jsi domeček. Musí ti padnou číslo v rozmezí: {1, pocet_policek - aktualni_policko}\")\n",
        "    #jinak se hod přičte\n",
        "    else:\n",
        "        aktualni_policko += kostka\n",
        "\n",
        "    #pokud jsme na konci herního plánu, tak herní smyčku ukončíme\n",
        "    if aktualni_policko == pocet_policek:\n",
        "        konec_hry = True\n",
        "\n",
        "print(\"Gratuluji. Dosáhl jsi domečku se svou osamělou figurkou.\")"
      ]
    },
    {
      "attachments": {},
      "cell_type": "markdown",
      "metadata": {},
      "source": [
        "#### Cvičení 4.5.5: Collatzovo domněnka\n",
        "\n",
        "Collatzovo domněnka je jeden z nejsložitějších problémů matematiky. Domněnka zni následovně: \"Vezměme jakékoliv kladné celé číslo n. Pokud je n sudým číslem, vydělíme je dvěma. Pokud je n lichým číslem, vynásobí se třemi a přičte se jednička. Tento postup opakujeme a číslo tak neustále mění hodnotu. Domněnka je taková, že nehledě na to, jaké počáteční číslo n je zvoleno, tak výsledná posloupnost vždy dojde k číslu 1.\"\n",
        "\n",
        "Tento problém zatím nikdo pomocí matematického důkazu nepotrvrdil nebo nevyvrátil. Pomocí počítačů bylo vyzkoumáno, že tato domněnka platí pro čísla až do řádu na 10 na 60, tedy bylo vyzkoušeno strašně moc čísel, ale domněnka pro všechny stále platila. Nejsme si však jisti, zda neexistuje ještě nějaké strašlivě vysoké číslo, pro které domněnka neplatí.\n",
        "\n",
        "Vašim úkolem je napsat program, který tuto domněnku pro zadané číslo n vyzkouší. Pokud byste přišli na nějaké číslo n, pro které domněnka nebude splněna, pak pravděpodobně získáte jedno z nejvyšších ocenění pro matematiky a nehynoucí slávu."
      ]
    },
    {
      "cell_type": "code",
      "execution_count": null,
      "metadata": {},
      "outputs": [],
      "source": [
        "n = int(input(\"Zadej libovolné celé číslo: \"))\n",
        "\n",
        "while n != 0:\n",
        "    if n % 2 == 0:\n",
        "        n //= 2\n",
        "    else:\n",
        "        n = 3*n + 1\n",
        "    print(n)\n",
        "print(\"Číslo dosáhlo hodnoty 0. Domněnka nebyla vyvrácena.\")"
      ]
    },
    {
      "attachments": {},
      "cell_type": "markdown",
      "metadata": {
        "id": "-djbkLOhKp4e"
      },
      "source": [
        "### Domácí Úkoly 4"
      ]
    },
    {
      "attachments": {},
      "cell_type": "markdown",
      "metadata": {
        "id": "eq-2o-KjLHiG"
      },
      "source": [
        "#### Úkol 4.1 Musíš zadat pravoúhlý trojúhelník\n",
        "\n",
        "Napište program, který nutí uživatele zadávat délky stran trojúhelníka do té doby, dokavaď netvoří zadané hodnoty pravoúhlý trojúhelník."
      ]
    },
    {
      "cell_type": "code",
      "execution_count": null,
      "metadata": {
        "id": "HHzCxwlbLHFM"
      },
      "outputs": [],
      "source": [
        "pravouhly = False\n",
        "while not pravouhly:\n",
        "    print(\"Zadejte délky strany pravoúhlého trojúhelníku.\")\n",
        "    a = float(input(\"Zadej délku 1. odvěsny: \"))\n",
        "    c = float(input(\"Zadej délku 2. odvěsny: \"))\n",
        "    b = float(input(\"Zadej délku přepony: \"))\n",
        "    pravouhly = a**2 + b**2 == c**2\n",
        "print(\"Zadaný trojúhelník je pravoúhlý\")\n"
      ]
    },
    {
      "attachments": {},
      "cell_type": "markdown",
      "metadata": {
        "id": "SAUxDaB9splD"
      },
      "source": [
        "#### Úkol 4.2 Telefonní PIN\n",
        "\n",
        "Napište program, který požadá uživatele o zadání správného PINu telefonní čísla. Uživatel má na zadání jen 3 pokusy. PIN bude pevně dán."
      ]
    },
    {
      "cell_type": "code",
      "execution_count": null,
      "metadata": {
        "id": "a_C7OtW-LEEP"
      },
      "outputs": [],
      "source": [
        "PIN = 1234\n",
        "pocet_pokusu = 3\n",
        "\n",
        "while pocet_pokusu > 0:\n",
        "    zadany_PIN = input(\"Zadej PIN: \")\n",
        "    if zadany_PIN == PIN:\n",
        "        break\n",
        "    else:\n",
        "        pocet_pokusu -= 1\n",
        "        print(f\"Zadany PIN nebyl spravný. Zbývá {pocet_pokusu} pokusů.\")\n",
        "\n",
        "if pocet_pokusu > 0:\n",
        "    print(\"PIN byl úspěšně zadán. Jste přihlášen.\")\n",
        "else:\n",
        "    print(\"Počet pokusů došel. Vaše SIM karta bude zablokována.\")\n"
      ]
    },
    {
      "attachments": {},
      "cell_type": "markdown",
      "metadata": {
        "id": "irOUsZnCssvV"
      },
      "source": [
        "#### Úkol 4.3 Fibonacciho posloupnost\n",
        "\n",
        "Napište program, který vypíše Fibonacciho posloupnost pro zadané číslo. Fibonacciho posloupnost je posloupnost čísel, kde následující číslo je součtem dvou následně předchozích, tedy: ```Fn = Fn-1 + Fn-2```. První člen a druhý člen posloupnosit je pevně dán a je to ```F1 = 0``` a ```F2 = 2```. Například 6. člen Fibonacciho posloupnosti se spočítá jako:\n",
        "\n",
        "```\n",
        "F1 = 0\n",
        "F2 = 1\n",
        "F3 = F2 + F1 = 1 + 0 = 1\n",
        "F4 = F3 + F2 = 1 + 1 = 2\n",
        "F5 = F4 + F3 = 2 + 1 = 3\n",
        "F6 = F5 + F4 = 3 + 2 = 5\n",
        "```\n",
        "\n",
        "Vaším úkolem je napsat kód, který přijme od uživatele, jaký člen posloupnosti chce spočítat. Program následně pomocí cyklu spočítá hodnotu zadaného členu Fibonacciho posloupnosti a vypíše ji na obrazovku."
      ]
    },
    {
      "cell_type": "code",
      "execution_count": null,
      "metadata": {
        "id": "sx12qR5xLJyr"
      },
      "outputs": [],
      "source": [
        "N = int(input(\"Zadej člen posloupnosti, který chceš spočítat: \"))\n",
        "\n",
        "F_minus_2 = 0\n",
        "F_minus_1 = 1\n",
        "for poradi_clenu in range(N+1):\n",
        "    clen = F_minus_2 + F_minus_1\n",
        "    print(clen)\n",
        "    F_minus_2 = F_minus_1\n",
        "    F_minus_1 = clen\n",
        "print(\"{N}. člen Fibonacciho posloupnosti má hodnotu: {clen}\")"
      ]
    },
    {
      "attachments": {},
      "cell_type": "markdown",
      "metadata": {},
      "source": [
        "#### Úkol 4.4 Kámen-nůžky-papír na 3 vítězná\n",
        "\n",
        "Napište kód pro hru kámen-nůžky-papír, kde hráč vybírá na klávesnici symboly (K, N, P). Hru lze hrát proti počítači (primitivní AI, která náhodně losuje symboly) nebo proti živému hráči. Hra se následně opakuje, dokud jeden z hráčů nebo AI nezíská tři vítězné body.\n",
        "\n",
        "Postup:\n",
        "\n",
        "1. Hráč si na počátku zvolí, jestli chce hrát proti jinému hráči nebo proti umělé inteligenci.\n",
        "2. Hra se opakuje do té doby, dokud nemá jeden hráčů/ai 3 vítězství, takže je musíte někam ukládat.\n",
        "3. Hra průběžně hlásí na obrazovku stav hry - kdo vyhrál dané kolo a kolik vítězství kdo zatím získal.\n",
        "4. Po dosažení 3 vítězných bodů se hra ukončí a vypíše na obrazovku gratulaci hráčovi.\n"
      ]
    },
    {
      "cell_type": "code",
      "execution_count": null,
      "metadata": {},
      "outputs": [],
      "source": [
        "import random\n",
        "\n",
        "symboly = [\"K\", \"N\", \"P\"]\n",
        "pocet_vitezstvi_hrac = 0\n",
        "pocet_vitezstvi_protihrac = 0\n",
        "\n",
        "zivy_protihrac = input(\"Chceš hrát s jiným živým hráčem? [ANO/NE]: \").lower()\n",
        "\n",
        "while pocet_vitezstvi_hrac != 3 or pocet_vitezstvi_protihrac != 3:\n",
        "    hrac_symbol =  input(\"Hraje hrac. Vyber jeden ze symbolu: {symboly}: \").upper()\n",
        "    \n",
        "    #pokud je protihracem zivy hrac, tak ho hra pozada o symbol, jinak pocitac nahodne losuje\n",
        "    if zivy_protihrac == \"ano\":\n",
        "        protihrac_symbol =  input(\"Hraje protihrac. Vyber jeden ze symbolu: {symboly}: \").upper()\n",
        "    else:\n",
        "        protihrac_symbol = random.choice(symboly)\n",
        "    \n",
        "    #pricteme vitezstvi tomu, kdo vyhral (následující kód je napsán pro kratší formu výsledného kódu)\n",
        "    retezec_voleb = hrac_symbol + protihrac_symbol\n",
        "    if hrac_symbol == protihrac_symbol:\n",
        "        print(\"Kolo skončilo remízou.\")\n",
        "    elif retezec_voleb == \"KN\" or retezec_voleb == \"NP\" or retezec_voleb == \"PK\":\n",
        "        print(f\"Hrac: {hrac_symbol}, Protihrac: {protihrac_symbol}. Vyhral hrac\")\n",
        "        pocet_vitezstvi_hrac += 1\n",
        "    else:\n",
        "        print(f\"Hrac: {hrac_symbol}, Protihrac: {protihrac_symbol}. Vyhral protihrac\")\n",
        "        pocet_vitezstvi_protihrac += 1\n",
        "\n",
        "if pocet_vitezstvi_hrac > pocet_vitezstvi_protihrac:\n",
        "    print(f\"Vyhral hrac {pocet_vitezstvi_hrac}:{pocet_vitezstvi_protihrac}\"\n",
        "else:\n",
        "    print(f\"Vyhral protihrac {pocet_vitezstvi_protihrac}:{pocet_vitezstvi_hrac}\"\n",
        "\n",
        "\n"
      ]
    },
    {
      "attachments": {},
      "cell_type": "markdown",
      "metadata": {
        "id": "9LNOfEg-LEpM"
      },
      "source": [
        "#### Úkol 4.5 Prvočísla\n",
        "\n",
        "Napište program, do kterého zadáte počáteční a konečné číslo číselné řady. Program vypíše na obrazovku všechna prvočísla, která se nachází v této číselné řadě, tedy od zadaného počátečního čísla do konečného čísla. Zda je konkrétní číslo prvočíslem zjistíte tak, že není dělitelné ničím jiným, než číslem 1 a samosebou bezezbytku.\n",
        "\n",
        "Nápověda: použijte dvojný cyklus, kdy pro každé aktuální číslo, které je na řadě, spustíte ještě jeden vnitřní cyklus, který projede všechna čísla od 2 do daného číslo - 1. Pokud nebude žádným z čísel ve vnitřním cyklu dělitelným bezezbytku, pak se jedná o prvočíslo. Zda je číslo dělitelné bezezbytku zjistíte pomocí operace modulu."
      ]
    },
    {
      "cell_type": "code",
      "execution_count": null,
      "metadata": {},
      "outputs": [],
      "source": [
        "min_cislo = int(input(\"Zadej od jakého čísla chceš hledat prvočísla: \"))\n",
        "max_cislo = int(input(\"Zadej do jakého čísla chceš hledat prvočísla: \"))\n",
        "\n",
        "for cislo in range(min_cislo, max_cislo + 1):\n",
        "    for delitel in range(min_cislo + 1, cislo):\n",
        "        if cislo % delitel == 0:\n",
        "            break\n",
        "    else:\n",
        "        print(f\"Nalezeno prvočíslo: {cislo}\")"
      ]
    }
  ],
  "metadata": {
    "colab": {
      "authorship_tag": "ABX9TyNbkxQfcyh/00+2I2aycp61",
      "provenance": []
    },
    "kernelspec": {
      "display_name": "Python 3",
      "name": "python3"
    },
    "language_info": {
      "name": "python"
    }
  },
  "nbformat": 4,
  "nbformat_minor": 0
}
