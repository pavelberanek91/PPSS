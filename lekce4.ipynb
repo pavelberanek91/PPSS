{
  "cells": [
    {
      "attachments": {},
      "cell_type": "markdown",
      "metadata": {
        "id": "-FueR60PPdhB"
      },
      "source": [
        "# Programování pro střední školy"
      ]
    },
    {
      "attachments": {},
      "cell_type": "markdown",
      "metadata": {
        "id": "A06-0F60KBcr"
      },
      "source": [
        "## Lekce 4: Cyklus\n",
        "\n",
        "V minulé lekci jste používali rozhodování pomocí příkazů if, elif, else pro to, aby program mohl za určitých naplněných okolností vykonat specifické příkazy. V této lekci se naučíte, jak zadat programu příkaz k opakování sekvence příkazů do té doby, dokavaď je splněna podmínka.\n"
      ]
    },
    {
      "attachments": {},
      "cell_type": "markdown",
      "metadata": {
        "id": "Tyn9KoXKPjiV"
      },
      "source": [
        "### Téma 4.1 Cyklus While\n",
        "\n",
        "Nejjednodušším typem cyklu je cyklus While. Tento cyklus vykonává odsazené příkazy ve svém bloku do té doby, dokavaď je podmínka cyklu vyhodnocena jako pravdivá."
      ]
    },
    {
      "cell_type": "code",
      "execution_count": null,
      "metadata": {
        "colab": {
          "base_uri": "https://localhost:8080/"
        },
        "id": "dph1l3T5deaH",
        "outputId": "2fa284e8-22a0-4cf9-cf03-5beeaebb374f"
      },
      "outputs": [],
      "source": [
        "jmeno = input(\"Zadej jmeno: \")\n",
        "while jmeno != \"Milan\":\n",
        "    jmeno = input(\"Ty nejsi Milan! Kdo jsi?: \")\n",
        "print(\"Ahoj Milane\")"
      ]
    },
    {
      "attachments": {},
      "cell_type": "markdown",
      "metadata": {},
      "source": [
        "V předchozím příkladě vidíte nejtypičtější způsob, jak se využívá cyklus while. Dokavaď je splněna podmínka, která v tomto případě říká, že uživatel nezadal do proměnné jmeno hodnotu \"Milan\", tak program opakuje příkaz pro zadávání nového vstupu. Tento program neskončí, dokavaď uživatel nezadá hodnotu Milan do proměnné jmeno. Jakmile to udělá, pak již nebude pravdou, že v proměnné jmeno není hodnota Milan.\n",
        "\n",
        "Proměnná, podle které se ukončuje cyklus, se nazývá řídící proměnná."
      ]
    },
    {
      "attachments": {},
      "cell_type": "markdown",
      "metadata": {
        "id": "ompkHW0Ka0o1"
      },
      "source": [
        "#### Cvičení 4.1.1: Barmana neokecáš\n",
        "\n",
        "Napište program, který nevydá zákazníkovi pivo, dokavaď nezadá, že mu je 18 nebo více let. Program skončí až tehdy, když uživatel zadá 18 nebo více, takže problém řešte cyklem."
      ]
    },
    {
      "cell_type": "code",
      "execution_count": null,
      "metadata": {},
      "outputs": [],
      "source": [
        "vek = int(input(\"Kolik ti je let? \"))\n",
        "while vek < 18:\n",
        "    vek = int(input(\"Musí ti být alespoň 18 let. Kolik ti je let? \"))\n",
        "print(\"Na tady máš pivo\")"
      ]
    },
    {
      "attachments": {},
      "cell_type": "markdown",
      "metadata": {
        "id": "VhviB9XgdtOx"
      },
      "source": [
        "Jelikož podmínka za klíčovým slovem while je obyčejnou podmínkou jako z minulé lekce, tak může obsahovat i složené výrazy, spojené logickými operátory. V následujícím příkladě se bude cyklus opakovat, dokud bude splněna alespoň jedna z dílčích podmínek. Tedy uživatel musí mít uklizeno a zároveň musí mít hotové domácí úkoly, jinak ho aplikace nepustí ven."
      ]
    },
    {
      "cell_type": "code",
      "execution_count": null,
      "metadata": {
        "colab": {
          "base_uri": "https://localhost:8080/",
          "height": 133
        },
        "id": "-oZVEmXFeDgh",
        "outputId": "996ba98a-4236-4389-8be3-8a57cccc7f11"
      },
      "outputs": [],
      "source": [
        "uklizeno = \"ne\"\n",
        "hotove_domaci_ukoly = \"ne\"\n",
        "\n",
        "while uklizeno == \"ne\" or hotove_domaci_ukoly == \"ne\":\n",
        "    print(\"Nepůjdeš ven, dokavaď nemáš hotové domácí úkoly!\")\n",
        "    uklizeno = input(\"Už jsi uklidil?: \")\n",
        "    hotove_domaci_ukoly = input(\"Už máš hotové domácí úkoly?: \")\n",
        "print(\"Teď už můžeš jít ven.\")"
      ]
    },
    {
      "attachments": {},
      "cell_type": "markdown",
      "metadata": {
        "id": "F-I4preIbgJY"
      },
      "source": [
        "#### Cvičení 4.1.2: Přihlášení do systému\n",
        "\n",
        "Dopište následující program, ve kterém je pevně dané přihlašovací jméno (login) a heslo. Dokuď uživatel nezadá na klávesnici správný login a heslo, tak se cyklus opakuje. Po zadání správných údajů ho přivítá."
      ]
    },
    {
      "cell_type": "code",
      "execution_count": null,
      "metadata": {
        "id": "CftXGPdAbwLU"
      },
      "outputs": [],
      "source": [
        "login = \"fik\"\n",
        "heslo = \"maxipes\"\n",
        "\n",
        "#zde doplňte svůj kód\n",
        "zadany_login = input(\"Login: \")\n",
        "zadane_heslo = input(\"Heslo: \")\n",
        "\n",
        "while zadany_login != login or zadane_heslo != heslo:\n",
        "    print(\"Přihlašovací údaje byly nesprávné!\")\n",
        "    zadany_login = input(\"Login: \")\n",
        "    zadane_heslo = input(\"Heslo: \")\n",
        "\n",
        "print(\"Vítej v aplikaci.\")"
      ]
    },
    {
      "attachments": {},
      "cell_type": "markdown",
      "metadata": {},
      "source": [
        "Kromě vyžadování konkrétních hodnot pro ukončení cyklu lze použít cyklus také pro vytváření řady čísel. Následující program vypisuje postupně se zvyšující se číslo na obrazovku. Číslo začne na hodnotě 1 a a skončí na hodnotě 10. Inkrementace (o kolik číslo průběžně zvedáme) je nastavena na 1.\n"
      ]
    },
    {
      "cell_type": "code",
      "execution_count": null,
      "metadata": {},
      "outputs": [],
      "source": [
        "cislo = 1\n",
        "while cislo <= 10:\n",
        "    print(cislo)\n",
        "    cislo += 1"
      ]
    },
    {
      "attachments": {},
      "cell_type": "markdown",
      "metadata": {
        "id": "T1gpLw_rb5R7"
      },
      "source": [
        "#### Cvičení 4.1.3: Uživatel nastavuje cyklus\n",
        "\n",
        "Upravte předchoží program tak, aby si uživatel mohl zvolit na klávesnici, na jaké čísle cyklus začně, na jakém skončí a o kolik se inkrementuje číslo."
      ]
    },
    {
      "cell_type": "code",
      "execution_count": null,
      "metadata": {
        "id": "tCtP9vdDdOfl"
      },
      "outputs": [],
      "source": [
        "cislo = int(input(\"Na jakém čísle chceš začít?: \"))\n",
        "konec = int(input(\"Na jakém čísle chceš skončit?: \"))\n",
        "inkrementace = int(input(\"Jak celká je inkrementace? \"))\n",
        "\n",
        "while cislo <= konec:\n",
        "    print(cislo)\n",
        "    cislo += inkrementace"
      ]
    },
    {
      "attachments": {},
      "cell_type": "markdown",
      "metadata": {},
      "source": [
        "#### Cvičení 4.1.4: Snižující se řada\n",
        "\n",
        "Napište program s cyklem, kde cyklus začíná na čísle 100 a postupně se snižuje o -5 až do hodnoty -50. Tiskněte postupně snižující se číslo na obrazovku."
      ]
    },
    {
      "cell_type": "code",
      "execution_count": null,
      "metadata": {},
      "outputs": [],
      "source": [
        "cislo = 100\n",
        "konec = -50\n",
        "inkrement = -5\n",
        "\n",
        "while cislo >= konec:\n",
        "    print(cislo)\n",
        "    cislo += inkrement"
      ]
    },
    {
      "attachments": {},
      "cell_type": "markdown",
      "metadata": {},
      "source": [
        "Cyklus lze kombinovat i s podmínkou if. Následující příklad vám ukáže, jak vypisovat pouze čísla, která jsou dělitelná 7 bez zbytku."
      ]
    },
    {
      "cell_type": "code",
      "execution_count": null,
      "metadata": {},
      "outputs": [],
      "source": [
        "cislo = 1\n",
        "while cislo <= 50:\n",
        "    if cislo % 7 == 0:\n",
        "        print(f\"Cislo {cislo} je delitelne 7 beze zbytku\")\n",
        "    cislo += 1"
      ]
    },
    {
      "attachments": {},
      "cell_type": "markdown",
      "metadata": {
        "id": "vOst9Mw6tXdQ"
      },
      "source": [
        "#### Cvičení 4.1.5: Sudá a lichá\n",
        "\n",
        "Napište program, který vypíše řadu čísel od 0 do 10. Pro každé číslo navíc vypíše, zda se jedná o liché nebo sudé číslo. Výstup programu by měl vypadat takto:\n",
        "\n",
        "```\n",
        "0 sudé\n",
        "1 liché\n",
        "2 sudé\n",
        "3 liché\n",
        "4 sudé\n",
        "5 liché\n",
        "6 sudé\n",
        "7 liché\n",
        "8 sudé\n",
        "9 liché\n",
        "10 sudé\n",
        "```"
      ]
    },
    {
      "cell_type": "code",
      "execution_count": null,
      "metadata": {
        "id": "fmCWbGMGtsFF"
      },
      "outputs": [],
      "source": [
        "cislo = 0\n",
        "while cislo <= 10:\n",
        "    if cislo % 2 == 0:\n",
        "        print(f\"{cislo} sudé\")\n",
        "    else:\n",
        "        print(f\"{cislo} liché\")\n",
        "    cislo += 1"
      ]
    },
    {
      "attachments": {},
      "cell_type": "markdown",
      "metadata": {
        "id": "Yur2pr53gosw"
      },
      "source": [
        "### Téma 4.2: Cyklus For\n",
        "\n",
        "Na cyklu while je otravných několik věcí:\n",
        "* Musíte dodat počáteční hodnotu v nějaké proměnné.\n",
        "* Nesmíte zapomenout inkrementovat hodnotu řídící proměnné.\n",
        "* Zápis je zdlouhavý\n",
        "\n",
        "Řešení poskytuje cyklus For, který celý zápis zkracuje. Pojďme se podívat na dva stejné programy. Jeden je zapsán pomocí While cyklu a druhý pomocí For cyklu."
      ]
    },
    {
      "cell_type": "code",
      "execution_count": null,
      "metadata": {
        "colab": {
          "base_uri": "https://localhost:8080/"
        },
        "id": "ESQ42O3Bhlro",
        "outputId": "cf532d01-fd2c-4f0e-ce8e-30ecda14861c"
      },
      "outputs": [],
      "source": [
        "cislo = 0\n",
        "while cislo <= 10:\n",
        "    print(cislo)\n",
        "    cislo += 1"
      ]
    },
    {
      "cell_type": "code",
      "execution_count": null,
      "metadata": {},
      "outputs": [],
      "source": [
        "for cislo in range(0, 11, 1):\n",
        "    print(cislo)"
      ]
    },
    {
      "attachments": {},
      "cell_type": "markdown",
      "metadata": {},
      "source": [
        "Tímto kódem v cyklu For říkám: pro číslo, které nabývá hodnot z rozsahu od 0 do 11 (nevčetně) zvyšuj její hodnotu o 1 a během zvýšování prováděj kód. V následujícím příkladě jsou hodnoty uloženy do proměnných, které vyjadřují jejich význam."
      ]
    },
    {
      "cell_type": "code",
      "execution_count": null,
      "metadata": {},
      "outputs": [],
      "source": [
        "pocatecni_hodnota = 0\n",
        "konecna_hodnota = 11\n",
        "krok_zvysovani = 1\n",
        "\n",
        "for cislo in range(pocatecni_hodnota, konecna_hodnota, krok_zvysovani):\n",
        "    print(cislo)"
      ]
    },
    {
      "attachments": {},
      "cell_type": "markdown",
      "metadata": {},
      "source": [
        "Konečná hodnota je vždy nevčetně, takže cyklus skončí, jakmile řídící proměnná dosáhne této hodnoty a kód v těle cyklu se již nevykoná. "
      ]
    },
    {
      "attachments": {},
      "cell_type": "markdown",
      "metadata": {
        "id": "ShArx6Gghzyh"
      },
      "source": [
        "#### Cvičení 4.2.1: Násobilka\n",
        "\n",
        "Napište program, který na obrazovku vypíše čísla od 5 do 50 (včetně) a bude inkrementovat po 5, tedy malou násobilku čísla 5.\n",
        "\n"
      ]
    },
    {
      "cell_type": "code",
      "execution_count": null,
      "metadata": {},
      "outputs": [],
      "source": [
        "for cislo in range(5, 51, 5):\n",
        "    print(cislo)"
      ]
    },
    {
      "attachments": {},
      "cell_type": "markdown",
      "metadata": {},
      "source": [
        "For cyklus je také možné zapsat ve zkráceném zápisu. Pokud neuvedete krok, bude vždy jedna. Zkuste si tyto dva programy a uvidíte, že se chovají zcela stejně."
      ]
    },
    {
      "cell_type": "code",
      "execution_count": null,
      "metadata": {},
      "outputs": [],
      "source": [
        "for cislo in range(0, 11, 1):\n",
        "    print(cislo)"
      ]
    },
    {
      "cell_type": "code",
      "execution_count": null,
      "metadata": {},
      "outputs": [],
      "source": [
        "for cislo in range(0, 11):\n",
        "    print(cislo)"
      ]
    },
    {
      "attachments": {},
      "cell_type": "markdown",
      "metadata": {},
      "source": [
        "Tyto dva programy fungují stejně. Existuje ještě jedna zkratka a to vynechání prvního čísla, tedy počáteční hodnoty. Pokud ji neuvedete, tak program začíná od počáteční hodnoty 0."
      ]
    },
    {
      "cell_type": "code",
      "execution_count": null,
      "metadata": {
        "colab": {
          "base_uri": "https://localhost:8080/"
        },
        "id": "LATH0O3-hwaC",
        "outputId": "098afd02-d100-4ff9-cb47-91b08c6b1ee1"
      },
      "outputs": [],
      "source": [
        "for cislo in range(11):\n",
        "    print(cislo)"
      ]
    },
    {
      "attachments": {},
      "cell_type": "markdown",
      "metadata": {
        "id": "SQdIMH9ci1N_"
      },
      "source": [
        "#### Cvičení 4.2.2: Krátší for cyklus\n",
        "\n",
        "Přepište následující for cyklus tak, aby jeho zápis byl co nejkratší."
      ]
    },
    {
      "cell_type": "code",
      "execution_count": null,
      "metadata": {},
      "outputs": [],
      "source": [
        "for vek in range(20, 60, 3):\n",
        "    print(vek)"
      ]
    },
    {
      "cell_type": "code",
      "execution_count": null,
      "metadata": {
        "id": "qxNRW_HkiW4T"
      },
      "outputs": [],
      "source": [
        "vek = 20\n",
        "while vek < 60:\n",
        "    print(vek)\n",
        "    vek += 3"
      ]
    },
    {
      "attachments": {},
      "cell_type": "markdown",
      "metadata": {},
      "source": [
        "#### Cvičení 4.2.3: For cyklus místo While cyklu\n",
        "\n",
        "Přepište následující while cyklus do for cyklu tak, aby for cyklus byl co nejkratší."
      ]
    },
    {
      "cell_type": "code",
      "execution_count": null,
      "metadata": {},
      "outputs": [],
      "source": [
        "cislo_studenta = 0\n",
        "while cislo_studenta < 20:\n",
        "    print(cislo_studenta)\n",
        "    cislo_studenta += 1"
      ]
    },
    {
      "cell_type": "code",
      "execution_count": null,
      "metadata": {},
      "outputs": [],
      "source": [
        "for cislo_studenta in range(20):\n",
        "    print(cislo_studenta)"
      ]
    },
    {
      "attachments": {},
      "cell_type": "markdown",
      "metadata": {},
      "source": [
        "#### Cvičení 4.2.4: For cyklus místo While cyklu s chytákem\n",
        "\n",
        "Přepište následující while cyklus do for cyklu tak, aby for cyklus byl co nejkratší."
      ]
    },
    {
      "cell_type": "code",
      "execution_count": null,
      "metadata": {},
      "outputs": [],
      "source": [
        "pocet_minci = 0\n",
        "while pocet_minci < 20:\n",
        "    print(pocet_minci)\n",
        "    pocet_minci += 2"
      ]
    },
    {
      "cell_type": "code",
      "execution_count": null,
      "metadata": {},
      "outputs": [],
      "source": [
        "for pocet_minci in range(0, 20, 2):\n",
        "    print(pocet_minci)"
      ]
    },
    {
      "attachments": {},
      "cell_type": "markdown",
      "metadata": {},
      "source": [
        "#### Cvičení 4.2.5: While cyklus místo For cyklu\n",
        "\n",
        "Přepište následující for cyklus do while cyklu."
      ]
    },
    {
      "cell_type": "code",
      "execution_count": null,
      "metadata": {},
      "outputs": [],
      "source": [
        "for inflace in range(10, 50, 4):\n",
        "    print(inflace)"
      ]
    },
    {
      "cell_type": "code",
      "execution_count": null,
      "metadata": {},
      "outputs": [],
      "source": [
        "inflace = 10\n",
        "while inflace < 50:\n",
        "    print(inflace)\n",
        "    inflace += 4"
      ]
    },
    {
      "attachments": {},
      "cell_type": "markdown",
      "metadata": {},
      "source": [
        "\n",
        "Pomocí For cyklu lze také samozřejmě procházet číselnou řadu i pozpátku, tedy od vyšší hodnoty, do menší hodnoty a inkrementovat pomocí záporného kroku, tedy dekrementovat."
      ]
    },
    {
      "cell_type": "code",
      "execution_count": null,
      "metadata": {},
      "outputs": [],
      "source": [
        "for hodnoceni in range(5, -3, -2):\n",
        "    print(hodnoceni)"
      ]
    },
    {
      "attachments": {},
      "cell_type": "markdown",
      "metadata": {},
      "source": [
        "#### Cvičení 4.2.6: Dekrementace\n",
        "\n",
        "Napište for cyklus, který začne na čísle 10000 a bude postupně odečítat 1000 až do hodnoty 0 (včetně)."
      ]
    },
    {
      "cell_type": "code",
      "execution_count": null,
      "metadata": {},
      "outputs": [],
      "source": [
        "for cislo in range(10000, -1, -1000):\n",
        "    print(cislo)"
      ]
    },
    {
      "attachments": {},
      "cell_type": "markdown",
      "metadata": {},
      "source": [
        "#### Cvičení 4.2.6: Dekrementační For na While\n",
        "\n",
        "Přepište následující dekrementační for cyklus na while cyklus."
      ]
    },
    {
      "cell_type": "code",
      "execution_count": null,
      "metadata": {},
      "outputs": [],
      "source": [
        "for milionu_na_ucte in range(50, -10, -5):\n",
        "    print(milionu_na_ucte)"
      ]
    },
    {
      "cell_type": "code",
      "execution_count": null,
      "metadata": {},
      "outputs": [],
      "source": [
        "milionu_na_ucte = 50\n",
        "while milionu_na_ucte > -10:\n",
        "    print(milionu_na_ucte)\n",
        "    milionu_na_ucte -= 5"
      ]
    },
    {
      "attachments": {},
      "cell_type": "markdown",
      "metadata": {},
      "source": [
        "#### Cvičení 4.2.8: Dekrementační While na For\n",
        "\n",
        "Přepište následující dekrementační while cyklus na for cyklus."
      ]
    },
    {
      "cell_type": "code",
      "execution_count": null,
      "metadata": {},
      "outputs": [],
      "source": [
        "pocatecni_hodnota = -5\n",
        "konecna_hodnota = -15\n",
        "dekrementace = -5\n",
        "\n",
        "hodnota = pocatecni_hodnota\n",
        "while pocatecni_hodnota >= konecna_hodnota:\n",
        "    print(hodnota)\n",
        "    hodnota += dekrementace"
      ]
    },
    {
      "cell_type": "code",
      "execution_count": null,
      "metadata": {},
      "outputs": [],
      "source": [
        "for hodnota in range(-5, -16, -5):\n",
        "    print(hodnota)"
      ]
    },
    {
      "attachments": {},
      "cell_type": "markdown",
      "metadata": {
        "id": "vpk7LZEujUYt"
      },
      "source": [
        "### Téma 4.3: Předčasné ukončení a pokračování cyklu\n",
        "\n",
        "lorem"
      ]
    },
    {
      "cell_type": "code",
      "execution_count": null,
      "metadata": {
        "colab": {
          "base_uri": "https://localhost:8080/"
        },
        "id": "QMbJR02SjYHT",
        "outputId": "539254d7-df54-4f85-e953-54580cb4e51c"
      },
      "outputs": [],
      "source": []
    },
    {
      "attachments": {},
      "cell_type": "markdown",
      "metadata": {},
      "source": [
        "lorem"
      ]
    },
    {
      "cell_type": "code",
      "execution_count": null,
      "metadata": {},
      "outputs": [],
      "source": []
    },
    {
      "attachments": {},
      "cell_type": "markdown",
      "metadata": {},
      "source": [
        "lorem"
      ]
    },
    {
      "cell_type": "code",
      "execution_count": null,
      "metadata": {},
      "outputs": [],
      "source": []
    },
    {
      "attachments": {},
      "cell_type": "markdown",
      "metadata": {
        "id": "htFJyFKQm9_g"
      },
      "source": [
        "#### Cvičení 4.3.1: Lorem\n",
        "\n",
        "lorem"
      ]
    },
    {
      "cell_type": "code",
      "execution_count": null,
      "metadata": {},
      "outputs": [],
      "source": []
    },
    {
      "attachments": {},
      "cell_type": "markdown",
      "metadata": {},
      "source": [
        "#### Cvičení 4.3.2: Lorem\n",
        "\n",
        "lorem"
      ]
    },
    {
      "cell_type": "code",
      "execution_count": null,
      "metadata": {},
      "outputs": [],
      "source": []
    },
    {
      "attachments": {},
      "cell_type": "markdown",
      "metadata": {},
      "source": [
        "Lorem"
      ]
    },
    {
      "cell_type": "code",
      "execution_count": null,
      "metadata": {},
      "outputs": [],
      "source": []
    },
    {
      "attachments": {},
      "cell_type": "markdown",
      "metadata": {},
      "source": [
        "Lorem"
      ]
    },
    {
      "attachments": {},
      "cell_type": "markdown",
      "metadata": {
        "id": "B91DlVktkksl"
      },
      "source": [
        "#### Cvičení 4.3.3: Lorem\n",
        "\n",
        "lorem"
      ]
    },
    {
      "cell_type": "code",
      "execution_count": null,
      "metadata": {},
      "outputs": [],
      "source": []
    },
    {
      "attachments": {},
      "cell_type": "markdown",
      "metadata": {},
      "source": [
        "#### Cvičení 4.3.4: Lorem\n",
        "\n",
        "lorem"
      ]
    },
    {
      "cell_type": "code",
      "execution_count": null,
      "metadata": {},
      "outputs": [],
      "source": []
    },
    {
      "attachments": {},
      "cell_type": "markdown",
      "metadata": {},
      "source": [
        "#### Cvičení 4.3.5: Lorem\n",
        "\n",
        "lorem"
      ]
    },
    {
      "cell_type": "code",
      "execution_count": null,
      "metadata": {},
      "outputs": [],
      "source": []
    },
    {
      "attachments": {},
      "cell_type": "markdown",
      "metadata": {
        "id": "OAevD9Q4g5F5"
      },
      "source": [
        "### Téma 4.4: Zanořené cykly\n",
        "\n",
        "lorem"
      ]
    },
    {
      "cell_type": "code",
      "execution_count": null,
      "metadata": {
        "colab": {
          "base_uri": "https://localhost:8080/"
        },
        "id": "DBVvgGSFg9BM",
        "outputId": "1eabe45e-7462-49a9-989a-d73ddf4223b7"
      },
      "outputs": [],
      "source": []
    },
    {
      "attachments": {},
      "cell_type": "markdown",
      "metadata": {},
      "source": [
        "lorem"
      ]
    },
    {
      "cell_type": "code",
      "execution_count": null,
      "metadata": {},
      "outputs": [],
      "source": []
    },
    {
      "attachments": {},
      "cell_type": "markdown",
      "metadata": {},
      "source": [
        "#### Cvičení 4.4.1: Lorem\n",
        "\n",
        "lorem"
      ]
    },
    {
      "cell_type": "code",
      "execution_count": null,
      "metadata": {},
      "outputs": [],
      "source": []
    },
    {
      "attachments": {},
      "cell_type": "markdown",
      "metadata": {},
      "source": [
        "#### Cvičení 4.4.2: Lorem\n",
        "\n",
        "lorem"
      ]
    },
    {
      "cell_type": "code",
      "execution_count": null,
      "metadata": {},
      "outputs": [],
      "source": []
    },
    {
      "attachments": {},
      "cell_type": "markdown",
      "metadata": {},
      "source": [
        "### Téma 4.4: Úlohy na cyklus\n",
        "\n",
        "V této sekci si procvičíte algoritmizaci na komplexních úlohách, které simulují reálné příklady toho, s jakým typem problémů se programátor setkává. Cílem je využít vaše doposud získané znalosti a aplikovat je pro vyřešení problémů. Bude to náročné, ale věřím, že to zvládnete :)."
      ]
    },
    {
      "attachments": {},
      "cell_type": "markdown",
      "metadata": {},
      "source": [
        "#### Cvičení 4.4.1: Faktoriál\n",
        "\n",
        "Faktoriál zadaného čísla N je definován jako ```N*(N-1)*(N-2)* ...* 1```. Například faktoriál čísla 5 spočítáme jako 5 * 4 * 3 * 2 * 1, což je 120. Faktoriál čísla 3 je 3 * 2 * 1 = 6.\n",
        "\n",
        "Napište program, do kterého uživatel zadá číslo N a program vrátí hodnotu jeho faktoriálu. Existuje na to příkaz v knihovně math, ale vy to zkuste napsat svépomocí pomocí cyklu.\n",
        "\n",
        "Nápověda: do nějaké proměnné si budete postupně ukládat výsledek faktoriálu. Výsledek získáte tím, že pomocí cyklu budete snižovat hodnotu proměnné N až do 1 a aktuální hodnotu v N použijete pro výpočet hodnoty faktoriálu."
      ]
    },
    {
      "cell_type": "code",
      "execution_count": null,
      "metadata": {},
      "outputs": [],
      "source": [
        "N = int(input(\"Zadej číslo, jehož faktoriál chceš spočítat: \"))\n",
        "\n",
        "faktorial = N\n",
        "for cislo in range(N-1, 1, -1):\n",
        "    faktorial *= cislo\n",
        "print(\"Faktoriál čísla {N} je {N}! = {faktorial}\")"
      ]
    },
    {
      "attachments": {},
      "cell_type": "markdown",
      "metadata": {},
      "source": [
        "#### Cvičení 4.4.2: Opakované připojování do řetězce\n",
        "\n",
        "Napište program, který neustále žádá uživatele o zadávání slov. Tato slova jsou pomocí operace připojování na řetězci (operátor +) připojována do jednoho řetězce. Připojovaná slova budou oddělena čárkou. Pokud uživatel napíše slovo STOP, tak program přestane uživatele žádat o vstupy. Na konci se vypíše řetězec se všemi vstupy od uživatele (tedy ten, do kterého se celou dobu připojovalo)."
      ]
    },
    {
      "cell_type": "code",
      "execution_count": null,
      "metadata": {},
      "outputs": [],
      "source": [
        "stop_slovo = \"STOP\"\n",
        "tvoreny_retezec = \"\"\n",
        "\n",
        "while True:\n",
        "    zadane_slovo = input(\"Zadej slovo, ktere chces pripojit do retezce nebo napis STOP pro ukonceni: \")\n",
        "    if zadane_slovo == stop_slovo:\n",
        "        break\n",
        "    else:\n",
        "        tvoreny_retezec += zadane_slovo + \",\"\n",
        "    \n",
        "print(tvoreny_retezec)"
      ]
    },
    {
      "attachments": {},
      "cell_type": "markdown",
      "metadata": {},
      "source": [
        "#### Cvičení 4.4.3: Hádej číslo\n",
        "\n",
        "Vaším úkolem je napsat program, který má následující zadání:\n",
        "\n",
        "1. Program na začátku uloží do proměnné maxcislo hodnotu 2 a do proměnné pocet_zivotu hodnotu 3.\n",
        "2. Program náhodně vylosuje číslo v rozmezí 1 až maxcislo.\n",
        "3. Program vyzve hráče, aby hádal číslo v rozmezí 1 a maxcislo.\n",
        "4. Pokud hráč uhádne vylosované číslo, pak se mu zvedne počet životů o 1 a zvýší se maximální číslo, které se losuje a hráč hádá.\n",
        "5. Pokud hráč neuhádne vylosované číslo, pak mu klesne počet životů o 1 a maximální číslo, které se losuje a hráč hádá se nemění.\n",
        "6. Program se opakuje od bodu 2 v tomto zadání, dokud hráčovi nedojdou životy.\n",
        "7. Na konci se vytiskne, kolik hráč uhádl čísel.\n"
      ]
    },
    {
      "cell_type": "code",
      "execution_count": null,
      "metadata": {},
      "outputs": [],
      "source": [
        "import random\n",
        "\n",
        "maxcislo = 2\n",
        "pocet_zivotu = 3\n",
        "pocet_uhadnutych_cisel = 0\n",
        "\n",
        "while pocet_zivotu > 0:\n",
        "    hadane_cislo = random.randint(1, maxcislo)\n",
        "    zadane_cislo = int(input(f\"Zbyva {pocet_zivotu} zivotu. Zadej cislo v rozmezi {1, maxcislo}: \"))\n",
        "    if zadane_cislo == hadane_cislo:\n",
        "        pocet_zivotu += 1\n",
        "        pocet_uhadnutych_cisel += 1\n",
        "        print(\"Uhadl jsi!\")\n",
        "    else:\n",
        "        pocet_zivotu -= 1\n",
        "        print(f\"Neuhadl jsi. Bylo to cislo {hadane_cislo}\")\n",
        "\n",
        "print(f\"Počet uhádnutých čísel je: {pocet_uhadnutych_cisel}\")"
      ]
    },
    {
      "attachments": {},
      "cell_type": "markdown",
      "metadata": {},
      "source": [
        "#### Cvičení 4.4.4: Člověče nezlob se s jednou figurkou\n",
        "\n",
        "Napište program, který realizuje hru Člověče nezlob se s jednou figurkou. Kostka bude realizována náhodným generátorem čísel a počet políček herního plánu je na vás.\n",
        "\n",
        "1. Na začátku musí hráč hodit 6, aby vyšel ze startovní pozice, tedy začal se vůbec pohybovat po políčkách herního plánu. Velikost herního plánu (tedy počet políček) si sami zvolte.\n",
        "2. Poté hází kostkou a posouvá se po poli o hodnotu, která na kostce padla. Pokud padne 6, tak hází znovu a posouvá se o celkový součet hodů. Například padne-li 6 a poté 5, pak se posune celkem o 11 pozic. Padne-li 6, 6 a poté 3, posouvá se o 15 pozic.\n",
        "3. Poslední 4 políčka jsou tzv. cílový domeček. V této verzi musíte umístit figurku na poslední políčko v cílovém domečku. Toto číslo nesmíte přehodit, jinak se figurka neposouvá. Musíte se tedy přímo trefit na poslední políčko herního plánu."
      ]
    },
    {
      "cell_type": "code",
      "execution_count": null,
      "metadata": {},
      "outputs": [],
      "source": [
        "import random\n",
        "\n",
        "#nastavení hry\n",
        "pocet_policek = 20\n",
        "pocet_sten_kostky = 6\n",
        "\n",
        "#počáteční hodnoty proměnných řídících ukončení hry\n",
        "aktualni_policko = \"startovni pozice\"\n",
        "konec_hry = False\n",
        "\n",
        "#herní smyčka\n",
        "while not konec_hry:\n",
        "\n",
        "    #pokud je na startovní pozici, musí se nejprve dostat pryč\n",
        "    if aktualni_policko == \"startovni pozice\":\n",
        "        while kostka != 6:\n",
        "            input(\"Stiskni klávesu ENTER pro hod kostkou.\")\n",
        "            kostka = random.randint(1, pocet_sten_kostky)\n",
        "            aktualni_policko = 1\n",
        "    \n",
        "    #pokud neni na startovni pozici, pak normalne postupuje po hernim poli\n",
        "    kostka = int(input(\"Jsi na políčku: {aktualni_policko}. Stiskni klávesu ENTER pro hod kostkou\"))\n",
        "    if kostka == 6:\n",
        "        kostka += int(input(\"Padla 6. Házíš znovu. Stiskni klávesu ENTER pro hod kostkou\"))\n",
        "\n",
        "    #pokud se nachazi 6 policek pred koncem, musi se presne trefit aby neprekrocil cilovy domecek\n",
        "    if pocet_policek - aktualni_policko + kostka >= pocet_sten_kostky:\n",
        "        print(f\"Přeskočil jsi domeček. Musí ti padnou číslo v rozmezí: {1, pocet_policek - aktualni_policko}\")\n",
        "    #jinak se hod přičte\n",
        "    else:\n",
        "        aktualni_policko += kostka\n",
        "\n",
        "    #pokud jsme na konci herního plánu, tak herní smyčku ukončíme\n",
        "    if aktualni_pozice == pocet_policek:\n",
        "        konec_hry = True\n",
        "\n",
        "print(\"Gratuluji. Dosáhl jsi domečku se svou osamělou figurkou.\")"
      ]
    },
    {
      "attachments": {},
      "cell_type": "markdown",
      "metadata": {},
      "source": [
        "#### Cvičení 4.4.5: Collatzovo domněnka\n",
        "\n",
        "Collatzovo domněnka je jeden z nejsložitějších problémů matematiky. Domněnka zni následovně: \"Vezměme jakékoliv kladné celé číslo n. Pokud je n sudým číslem, vydělíme je dvěma. Pokud je n lichým číslem, vynásobí se třemi a přičte se jednička. Tento postup opakujeme a číslo tak neustále mění hodnotu. Domněnka je taková, že nehledě na to, jaké počáteční číslo n je zvoleno, tak výsledná posloupnost vždy dojde k číslu 1.\"\n",
        "\n",
        "Tento problém zatím nikdo pomocí matematického důkazu nepotrvrdil nebo nevyvrátil. Pomocí počítačů bylo vyzkoumáno, že tato domněnka platí pro čísla až do řádu na 10 na 60, tedy bylo vyzkoušeno strašně moc čísel, ale domněnka pro všechny stále platila. Nejsme si však jisti, zda neexistuje ještě nějaké strašlivě vysoké číslo, pro které domněnka neplatí.\n",
        "\n",
        "Vašim úkolem je napsat program, který tuto domněnku pro zadané číslo n vyzkouší. Pokud byste přišli na nějaké číslo n, pro které domněnka nebude splněna, pak pravděpodobně získáte jedno z nejvyšších ocenění pro matematiky a nehynoucí slávu."
      ]
    },
    {
      "cell_type": "code",
      "execution_count": null,
      "metadata": {},
      "outputs": [],
      "source": [
        "n = int(input(\"Zadej libovolné celé číslo: \"))\n",
        "\n",
        "while n != 0:\n",
        "    if n % 2 == 0:\n",
        "        n //= 2\n",
        "    else:\n",
        "        n = 3*n + 1\n",
        "    print(n)\n",
        "print(\"Číslo dosáhlo hodnoty 0. Domněnka nebyla vyvrácena.\")"
      ]
    },
    {
      "attachments": {},
      "cell_type": "markdown",
      "metadata": {
        "id": "-djbkLOhKp4e"
      },
      "source": [
        "### Domácí Úkoly 4"
      ]
    },
    {
      "attachments": {},
      "cell_type": "markdown",
      "metadata": {
        "id": "eq-2o-KjLHiG"
      },
      "source": [
        "#### Úkol 4.1 Musíš zadat pravoúhlý trojúhelník\n",
        "\n",
        "Napište program, který nutí uživatele zadávat délky stran trojúhelníka do té doby, dokavaď netvoří zadané hodnoty pravoúhlý trojúhelník."
      ]
    },
    {
      "cell_type": "code",
      "execution_count": null,
      "metadata": {
        "id": "HHzCxwlbLHFM"
      },
      "outputs": [],
      "source": [
        "pravouhly = False\n",
        "while not pravouhly:\n",
        "    print(\"Zadejte délky strany pravoúhlého trojúhelníku.\")\n",
        "    a = float(input(\"Zadej délku 1. odvěsny: \"))\n",
        "    c = float(input(\"Zadej délku 2. odvěsny: \"))\n",
        "    b = float(input(\"Zadej délku přepony: \"))\n",
        "    pravouhly = a**2 + b**2 == c**2\n",
        "print(\"Zadaný trojúhelník je pravoúhlý\")\n"
      ]
    },
    {
      "attachments": {},
      "cell_type": "markdown",
      "metadata": {
        "id": "SAUxDaB9splD"
      },
      "source": [
        "#### Úkol 4.2 Telefonní PIN\n",
        "\n",
        "Napište program, který požadá uživatele o zadání správného PINu telefonní čísla. Uživatel má na zadání jen 3 pokusy. PIN bude pevně dán."
      ]
    },
    {
      "cell_type": "code",
      "execution_count": null,
      "metadata": {
        "id": "a_C7OtW-LEEP"
      },
      "outputs": [],
      "source": [
        "PIN = 1234"
      ]
    },
    {
      "attachments": {},
      "cell_type": "markdown",
      "metadata": {
        "id": "irOUsZnCssvV"
      },
      "source": [
        "#### Úkol 4.3 Fibonacciho posloupnost\n",
        "\n",
        "lorem"
      ]
    },
    {
      "cell_type": "code",
      "execution_count": null,
      "metadata": {
        "id": "sx12qR5xLJyr"
      },
      "outputs": [],
      "source": []
    },
    {
      "attachments": {},
      "cell_type": "markdown",
      "metadata": {},
      "source": [
        "#### Úkol 4.4 Kámen-nůžky-papír na 3 vítězná\n",
        "\n",
        "Napište kód pro hru kámen-nůžky-papír, kde hráč vybírá na klávesnici symboly (K, N, P). Hru lze hrát proti počítači (primitivní AI, která náhodně losuje symboly) nebo proti živému hráči. Hra se následně opakuje, dokud jeden z hráčů nebo AI nezíská tři vítězné body.\n",
        "\n",
        "Postup:\n",
        "\n",
        "1. Hráč si na počátku zvolí, jestli chce hrát proti jinému hráči nebo proti umělé inteligenci.\n",
        "2. Hra se opakuje do té doby, dokud nemá jeden hráčů/ai 3 vítězství, takže je musíte někam ukládat.\n",
        "3. Hra průběžně hlásí na obrazovku stav hry - kdo vyhrál dané kolo a kolik vítězství kdo zatím získal.\n",
        "4. Po dosažení 3 vítězných bodů se hra ukončí a vypíše na obrazovku gratulaci hráčovi.\n"
      ]
    },
    {
      "cell_type": "code",
      "execution_count": null,
      "metadata": {},
      "outputs": [],
      "source": []
    },
    {
      "attachments": {},
      "cell_type": "markdown",
      "metadata": {
        "id": "9LNOfEg-LEpM"
      },
      "source": [
        "#### Úkol 4.5 Prvočísla\n",
        "\n",
        "Napište program, do kterého zadáte počáteční a konečné číslo číselné řady. Program vypíše na obrazovku všechna prvočísla, která se nachází v této číselné řadě, tedy od zadaného počátečního čísla do konečného čísla. Zda je konkrétní číslo prvočíslem zjistíte tak, že není dělitelné ničím jiným, než číslem 1 a samosebou bezezbytku.\n",
        "\n",
        "Nápověda: použijte dvojný cyklus, kdy pro každé aktuální číslo, které je na řadě, spustíte ještě jeden vnitřní cyklus, který projede všechna čísla od 2 do daného číslo - 1. Pokud nebude žádným z čísel ve vnitřním cyklu dělitelným bezezbytku, pak se jedná o prvočíslo. Zda je číslo dělitelné bezezbytku zjistíte pomocí operace modulu."
      ]
    },
    {
      "cell_type": "code",
      "execution_count": null,
      "metadata": {},
      "outputs": [],
      "source": []
    }
  ],
  "metadata": {
    "colab": {
      "authorship_tag": "ABX9TyNbkxQfcyh/00+2I2aycp61",
      "provenance": []
    },
    "kernelspec": {
      "display_name": "Python 3",
      "name": "python3"
    },
    "language_info": {
      "name": "python"
    }
  },
  "nbformat": 4,
  "nbformat_minor": 0
}
