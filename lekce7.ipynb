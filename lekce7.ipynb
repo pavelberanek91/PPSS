{
  "cells": [
    {
      "attachments": {},
      "cell_type": "markdown",
      "metadata": {
        "id": "-FueR60PPdhB"
      },
      "source": [
        "# Programování pro střední školy"
      ]
    },
    {
      "attachments": {},
      "cell_type": "markdown",
      "metadata": {
        "id": "A06-0F60KBcr"
      },
      "source": [
        "## Lekce 7: Strukturované programování\n",
        "\n",
        "V minulé lekci jste procházeli pomocí podprogramů (funkce nebo procedury) vytvářeli opakovatelné jednotky chování, které lze spojovat za účelem komplexního chování programů. V této lekci se podíváme na to, jak organizovat typický program pomocí podprogramů, který čte data ze souboru, zpracuje je a vykreslí na obrazovku grafický výstup v podobě grafu. Tím byste měli být plně gramotní v základech programování a používat tyto dovednosti pro řešení problémů z oblasti techniky a vědy po dobu Vašeho studi.\n"
      ]
    },
    {
      "attachments": {},
      "cell_type": "markdown",
      "metadata": {
        "id": "Tyn9KoXKPjiV"
      },
      "source": [
        "### Téma 7.1 Čtení ze souboru\n",
        "\n",
        "Pro čtení ze souboru používáme konstrukci `with open(název_souboru, mód) as ukazatel_na_soubor`. `with` je příkaz, který Vám umožní snadnou práci se souborem. Bez něj bychom museli řešit situace jako uzavření souboru, smazání dat z mezipaměti a podobné nepříjemné záležitosti. \n",
        "\n",
        "Příkaz `open` otevírá datový soubor s uvedeným názvem. Název může být absolutní cesta k souboru (např.: C:ProgramFiles/...) nebo relativní cesta od sešitu s kódem (např.: ../../data/data.txt, což znamená o dvě složky výše v adresáři data nalezneš soubor data.txt). V našem případě budeme pracovat s nejjednodušší varianout a to je jen uvedení názvu souboru, který se musí nacházet vedle našeho sešitu se zdrojovým kódem.\n",
        "\n",
        "Za uvedením cesty k souboru je nutné napsat tzv. mód přístupu k souboru. Zde se pomocí písmenek uvádí, zda chceme ze souboru číst, zapisovat nebo připisovat. Pro čtení se použije písmenko `\"r\"`. \n",
        "\n",
        "Po ukončení příkazu open následuje příkaz `as ukazatel_na_soubor`, kde `ukazatel_na_soubor` je námi libovolně zvolný validní název proměnné. Tato speciální proměnná nám umožňuje komunikaci s otevřeným soubore a skrze ní budeme provádět operace jako zápis nebo čtení. Proměnná nám vlastně soubor zastupuje (ukazuje na něj, proto ukazatel).\n",
        "\n",
        "Po vytvoření ukazatele následuje dvojtečka, kde odsazeně píšeme příkazy, které se dějou v rámci toho, kdy je soubor otevřen. Nejčastěji zde načteme celý obsah souboru do proměnné. Po ukončení odsazení (konec bloku) se soubor uzavře a již s ním nemůžeme komunikovat. Museli bychom ho znovu otevřít celou sekvencí příkazu with.\n",
        "\n",
        "Vytvořte si prázdný soubor známky.txt ve stejném adresáři, jako máte tento sešit, a vložte do něj následující text (nezapomeňte soubor uložit). Pokud pracujete v Google Colab prostředí, tak soubor musíte nahrát do adresáře, jehož ikonku naleznete po levé straně. Po otevření ikonky adresáře je nutné kliknout ještě na ikonku souboru se šipkou v horní části s nápovědou při najetí: \"nahrát do úložiště relace\".\n",
        "\n",
        "```\n",
        "Petr:1,2,1,1,2\n",
        "Jana:1,3,2,2,1\n",
        "Michal:4,3,1,1,3\n",
        "```\n",
        "\n",
        "Následující kód soubor otevře a načte jeho obsah do proměnné `text_souboru`. Poté pomocí `for` cyklu projde každý řádek souboru (rozdělené znakem pro nový řádek `\\n`) a vypíše ho na obrazovku."
      ]
    },
    {
      "cell_type": "code",
      "execution_count": 1,
      "metadata": {
        "colab": {
          "base_uri": "https://localhost:8080/"
        },
        "id": "dph1l3T5deaH",
        "outputId": "2fa284e8-22a0-4cf9-cf03-5beeaebb374f"
      },
      "outputs": [
        {
          "name": "stdout",
          "output_type": "stream",
          "text": [
            "Petr:1,2,1,1,2\n",
            "Jana:1,3,2,2,1\n",
            "Michal:4,3,1,1,3\n"
          ]
        }
      ],
      "source": [
        "with open(\"známky.txt\", \"r\") as soubor:\n",
        "    text_souboru = soubor.read()\n",
        "\n",
        "for radek in text_souboru.split(\"\\n\"):\n",
        "    print(radek)"
      ]
    },
    {
      "cell_type": "markdown",
      "metadata": {},
      "source": [
        "Pokud bych potřeboval (a často potřebuji) data na řádcích dále dělit, tak mohu během procházení řádků dále dělit sepátorem."
      ]
    },
    {
      "cell_type": "code",
      "execution_count": 2,
      "metadata": {},
      "outputs": [
        {
          "name": "stdout",
          "output_type": "stream",
          "text": [
            "jmeno='Petr', znamky='1,2,1,1,2'\n",
            "jmeno='Jana', znamky='1,3,2,2,1'\n",
            "jmeno='Michal', znamky='4,3,1,1,3'\n"
          ]
        }
      ],
      "source": [
        "with open(\"známky.txt\", \"r\") as soubor:\n",
        "    text_souboru = soubor.read()\n",
        "\n",
        "for radek in text_souboru.split(\"\\n\"):\n",
        "    rozdeleny_radek = radek.split(\":\")\n",
        "    jmeno = rozdeleny_radek[0]\n",
        "    znamky = rozdeleny_radek[1]\n",
        "    print(f\"{jmeno=}, {znamky=}\")\n"
      ]
    },
    {
      "cell_type": "markdown",
      "metadata": {},
      "source": [
        "Data ze souboru pak typicky ukládáme do nějakých vhodnách datových typů v jazyce Python. Nejčastěji různé kolekce (vy však umíte pracovat jen se seznamem). Ukážeme si, jak bychom mohli uložit data do nové kolekce, která se jmenuje slovník. Slovník se chová podobně jako seznam, avšak klíčem nemusí být jen číselný index, ale může jim být například i řetězec. Slovník poznáte podle složených závorek."
      ]
    },
    {
      "cell_type": "code",
      "execution_count": 3,
      "metadata": {},
      "outputs": [
        {
          "name": "stdout",
          "output_type": "stream",
          "text": [
            "{'Petr': '1,2,1,1,2', 'Jana': '1,3,2,2,1', 'Michal': '4,3,1,1,3'}\n"
          ]
        }
      ],
      "source": [
        "znamky_tridy = {}\n",
        "\n",
        "with open(\"známky.txt\", \"r\") as soubor:\n",
        "    text_souboru = soubor.read()\n",
        "\n",
        "for radek in text_souboru.split(\"\\n\"):\n",
        "    rozdeleny_radek = radek.split(\":\")\n",
        "    jmeno = rozdeleny_radek[0]\n",
        "    znamky = rozdeleny_radek[1]\n",
        "    znamky_tridy[jmeno] = znamky #zde se vytvoří nová dvojice hodnot do slovníku (klíčem k výběru je jméno)\n",
        "\n",
        "print(znamky_tridy)"
      ]
    },
    {
      "cell_type": "markdown",
      "metadata": {},
      "source": [
        "Pokud bych chtěl ze slovníku vypsat konkrétní položku, pak uvedu klíč do hranatých závorek a vrátí se mi uložená hodnota."
      ]
    },
    {
      "cell_type": "code",
      "execution_count": 4,
      "metadata": {},
      "outputs": [
        {
          "name": "stdout",
          "output_type": "stream",
          "text": [
            "1,3,2,2,1\n"
          ]
        }
      ],
      "source": [
        "print(znamky_tridy[\"Jana\"])"
      ]
    },
    {
      "cell_type": "markdown",
      "metadata": {},
      "source": [
        "Pokud chcete projít celý slovník, pak je výhodné použít metodu slovníku s názvem items. Ten vrací pro všechny záznamy ve slovníku klíč a hodnotu."
      ]
    },
    {
      "cell_type": "code",
      "execution_count": 5,
      "metadata": {},
      "outputs": [
        {
          "name": "stdout",
          "output_type": "stream",
          "text": [
            "Petr má znamky 1,2,1,1,2\n",
            "Jana má znamky 1,3,2,2,1\n",
            "Michal má znamky 4,3,1,1,3\n"
          ]
        }
      ],
      "source": [
        "#   klic   hodnota\n",
        "for jmeno, znamky in znamky_tridy.items():\n",
        "    print(f\"{jmeno} má znamky {znamky}\")"
      ]
    },
    {
      "cell_type": "markdown",
      "metadata": {},
      "source": [
        "Pamatujte si jedno pravidlo! Klíč se musí nacházet ve slovníku právě jednu. Pokud by se nacházel víckrát, pak Python neví, jakou hodnotu vrátit."
      ]
    },
    {
      "cell_type": "code",
      "execution_count": 9,
      "metadata": {},
      "outputs": [
        {
          "name": "stdout",
          "output_type": "stream",
          "text": [
            "[1, 3, 2]\n"
          ]
        }
      ],
      "source": [
        "znamky_tridy = {}\n",
        "znamky_tridy[\"Pavel\"] = [5,5,4]\n",
        "znamky_tridy[\"Pavel\"] = [1,3,2]\n",
        "\n",
        "print(znamky_tridy[\"Pavel\"]) # ted je chaos v tom, jestli se má vrátít [5,5,4] nebo [1,3,2]"
      ]
    },
    {
      "attachments": {},
      "cell_type": "markdown",
      "metadata": {
        "id": "ompkHW0Ka0o1"
      },
      "source": [
        "#### Cvičení 7.1.1: Načtení řádků souboru\n",
        "\n",
        "Mějme následující vstupní soubor do našeho programu:\n",
        "```\n",
        "Skupina1-Pavel,Michal,Richard\n",
        "Skupina2-Alena,Jana,Martin\n",
        "Skupina3-Jaroslav,Martina,Anna\n",
        "```\n",
        "\n",
        "Vaším úkolem je soubor otevřít, přečíst řádky a vypsat je na obrazovku."
      ]
    },
    {
      "cell_type": "code",
      "execution_count": null,
      "metadata": {
        "id": "cc9TWDQpbH1t"
      },
      "outputs": [],
      "source": []
    },
    {
      "cell_type": "markdown",
      "metadata": {},
      "source": [
        "#### Cvičení 7.1.2: Získání konkrétních řádků\n",
        "\n",
        "Mějme následující vstupní soubor do našeho programu:\n",
        "```\n",
        "Skupina1-Pavel,Michal,Richard\n",
        "Skupina2-Alena,Jana,Martin\n",
        "Skupina3-Jaroslav,Martina,Anna\n",
        "```\n",
        "\n",
        "Vaším úkolem je soubor otevřít, přečíst řádky a vypsat jen řádek se skupinou 2."
      ]
    },
    {
      "attachments": {},
      "cell_type": "markdown",
      "metadata": {
        "id": "F-I4preIbgJY"
      },
      "source": [
        "#### Cvičení 7.1.3: Načtení tabulkových dat\n",
        "\n",
        "Mějme následující vstupní soubor do našeho programu:\n",
        "```\n",
        "Skupina1,Skupina2,Skupina3\n",
        "Pavel,Alena,Jaroslav\n",
        "Michal,Jana,Martina\n",
        "Richard,Martin,Anna\n",
        "```\n",
        "\n",
        "Takový formát dat se nachází v souborech s příponou .CSV (comma-separated values) a představuje způsob, jak ukládáme tabulková data, která se nachází v tabulkových procesorech jako je např.: Microsoft Excel nebo Google Tabulky. První řádek představuje nadpisy sloupců. Ostatní řádky obsahují samotná data tabulky. Například první sloupec má název Skupina1 a obsahuje v sobě data Pavel, Michal, Richard.\n",
        "  \n",
        "Vaším úkolem je soubor otevřít a najít v jakém řádku a sloupci se nachází Martina. Musíte na to přijít algoritmem."
      ]
    },
    {
      "cell_type": "code",
      "execution_count": null,
      "metadata": {
        "id": "CftXGPdAbwLU"
      },
      "outputs": [],
      "source": []
    },
    {
      "attachments": {},
      "cell_type": "markdown",
      "metadata": {
        "id": "T1gpLw_rb5R7"
      },
      "source": [
        "#### Cvičení 7.1.4: Načtení tabulkových dat v .csv formátu\n",
        "\n",
        "Vytvořte si v Excelu nějakou jednoduchou tabulku, exportujte si ji do .CSV formátu a otevřete si ji v Pythonu. Tabulku vyplňte následujícími hodnotami:\n",
        "```\n",
        "Hra,2.A, 2.B, 3.C\n",
        "Rocket League,1,2,3\n",
        "Valorant,2,1,3\n",
        "League of Legeneds,3,2,1\n",
        "Fifa,1,3,2\n",
        "```\n",
        "\n",
        "Jedná se o tabulku umístění v turnaji pro jednotlivé třídy. Tabulku v Pythonu zpracujte a vypište na obrazovku následující informace:\n",
        "1. Která třída byla první v Rocket League?\n",
        "2. Která třída byla první ve Valorantu?\n",
        "3. Která třída byla první v League of Legends?\n",
        "4. která tříd abyla první ve Fifě?"
      ]
    },
    {
      "cell_type": "code",
      "execution_count": null,
      "metadata": {
        "id": "tCtP9vdDdOfl"
      },
      "outputs": [],
      "source": []
    },
    {
      "attachments": {},
      "cell_type": "markdown",
      "metadata": {
        "id": "Yur2pr53gosw"
      },
      "source": [
        "### Téma 7.2: Zápis do souboru\n",
        "\n",
        "Pro zápis do souboru používáme opět stejnou konstrukci `with open(název_souboru, mód) as ukazatel_na_soubor`. Rozdíl bude v tom, že modifikátorem přístupu pro psaní je tentokrát písmenko `\"w\"`. Pokud soubor se zadaným názvem neexistuje, tak ho příkaz write vytvoří. Pozor! Pokud soubor již existuje, tak bude přepsán.\n",
        "\n",
        "Pojďme si ukázat, jak zapsat do souboru dva seznamy slov."
      ]
    },
    {
      "cell_type": "code",
      "execution_count": 1,
      "metadata": {
        "colab": {
          "base_uri": "https://localhost:8080/"
        },
        "id": "ESQ42O3Bhlro",
        "outputId": "cf532d01-fd2c-4f0e-ce8e-30ecda14861c"
      },
      "outputs": [],
      "source": [
        "mesta = [\"Praha\", \"Brno\", \"Ostrava\", \"Ústí nad Labem\", \"Litoměřice\"]\n",
        "pokrmy = [\"Svíčková\", \"Guláš\", \"Smažený sýr\", \"Kuře na smetaně\", \"Fazole v chilli omáčce\"]\n",
        "\n",
        "with open(\"data.txt\", \"w\") as soubor:\n",
        "    soubor.write(\"Města: \")\n",
        "    for mesto in mesta:\n",
        "        soubor.write(mesto + \" \")\n",
        "    soubor.write(\"\\n\") #prázdný řádek pro oddělení\n",
        "    soubor.write(\"Pokrmy: \")\n",
        "    for pokrm in pokrmy:\n",
        "        soubor.write(pokrm + \" \")"
      ]
    },
    {
      "attachments": {},
      "cell_type": "markdown",
      "metadata": {},
      "source": [
        "Pokud bychom chtěli připsat data do existujícího souboru, pak využijeme modifikátor `\"a\"`. Pokud by soubor neexistoval, tak bude také vytvořen jako v případě modifikátoru `\"a\"`. Modifikátor `\"a\"` samozřejmě původní soubor nemaže, to by ani nešlo připisovat.\n",
        "\n",
        "Vytvořte si textový soubor s následujícím obsahem (název soubor bude např.: moje_info.txt):\n",
        "```\n",
        "Jméno: Jan\n",
        "Příjmení: Novák\n",
        "Věk: 18\n",
        "Email: novjan@czmail.com\n",
        "```\n",
        "\n",
        "Následující program do něj připíše nový řádek aniž by původní soubor smazal. Speciální symbol \\n je tam z toho důvodu, aby se text nezapsal na poslední řádek, ale na nový řádek za posledním (\\n je symbol pro zalomení na nový řádek)."
      ]
    },
    {
      "cell_type": "code",
      "execution_count": 2,
      "metadata": {},
      "outputs": [],
      "source": [
        "with open(\"moje_info.txt\", \"a\") as soubor:\n",
        "    soubor.write(\"\\nTel: 123456789\")"
      ]
    },
    {
      "attachments": {},
      "cell_type": "markdown",
      "metadata": {},
      "source": [
        "V následujícím kódu otevřu již existující soubor, přečtu z něj všechna data a připíšu je do jiného souboru."
      ]
    },
    {
      "cell_type": "code",
      "execution_count": null,
      "metadata": {
        "colab": {
          "base_uri": "https://localhost:8080/"
        },
        "id": "LATH0O3-hwaC",
        "outputId": "098afd02-d100-4ff9-cb47-91b08c6b1ee1"
      },
      "outputs": [],
      "source": [
        "with open(\"data.txt\", \"r\") as soubor:\n",
        "    text = soubor.read()\n",
        "\n",
        "with open(\"moje_info.txt\", \"a\") as soubor:\n",
        "    soubor.write(\"\\n\")\n",
        "    soubor.write(text) "
      ]
    },
    {
      "attachments": {},
      "cell_type": "markdown",
      "metadata": {
        "id": "ShArx6Gghzyh"
      },
      "source": [
        "#### Cvičení 7.2.1: Zápis dat na jeden řádek do souboru\n",
        "\n",
        "Vytvořte si následující kolekci jmen:\n",
        "```\n",
        "jmena = [\"Jana\", \"Petr\", \"Alex\", \"Jarmila\", \"Martin\"]\n",
        "```\n",
        "\n",
        "Do souboru s názvem \"jmena.txt\" uložte všechna jmena ze seznamu na jeden řádek oddělená čárkou.\n",
        "\n"
      ]
    },
    {
      "cell_type": "code",
      "execution_count": null,
      "metadata": {
        "id": "qxNRW_HkiW4T"
      },
      "outputs": [],
      "source": []
    },
    {
      "attachments": {},
      "cell_type": "markdown",
      "metadata": {
        "id": "SQdIMH9ci1N_"
      },
      "source": [
        "#### Cvičení 7.2.2: Zápis dat do řádků\n",
        "\n",
        "Vytvořte si následující kolekci jmen:\n",
        "```\n",
        "jmena = [\"Jana\", \"Petr\", \"Alex\", \"Jarmila\", \"Martin\"]\n",
        "```\n",
        "\n",
        "Do souboru s názvem \"jmena2.txt\" uložte všechna jmena ze seznamu zvlášť každé na nový řádek."
      ]
    },
    {
      "cell_type": "code",
      "execution_count": null,
      "metadata": {
        "id": "rkcJhjhgjJ5E"
      },
      "outputs": [],
      "source": []
    },
    {
      "attachments": {},
      "cell_type": "markdown",
      "metadata": {},
      "source": [
        "#### Cvičení 7.2.3: Zápis dat v tabulkovém formátu\n",
        "\n",
        "Vytvořte si následující kolekci jmen:\n",
        "```\n",
        "jmena = [\"Jana\", \"Petr\", \"Alex\", \"Jarmila\", \"Martin\"]\n",
        "```\n",
        "\n",
        "Do souboru s názvem \"jmena.csv\" uložte všechna jmena ze seznamu jako tabulku. Tabulka bude mít 2 sloupce - pořadí jména a jméno. Výsledek by měl vypadat takto:\n",
        "```\n",
        "Pořadí,Jméno\n",
        "1,Jana\n",
        "2,Petr\n",
        "3,Alex\n",
        "4,Jarmila\n",
        "5,Martin\n",
        "```"
      ]
    },
    {
      "cell_type": "code",
      "execution_count": null,
      "metadata": {},
      "outputs": [],
      "source": []
    },
    {
      "attachments": {},
      "cell_type": "markdown",
      "metadata": {},
      "source": [
        "#### Cvičení 7.2.4: Připisování dat do souboru\n",
        "\n",
        "Pokud se Vám podařilo vyřešit předchozí cvičení, tak do Vámio vytvořeného souboru \"jmena.csv\" připište dva nové řádky:\n",
        "```\n",
        "6,Richard\n",
        "7,Lucie\n",
        "```\n",
        "\n",
        "Otevřete si následně Vámi vytvořený soubor s tabulkovém procesu Microsoft Excel nebo Google Tabulky a zobrazte si ho."
      ]
    },
    {
      "cell_type": "code",
      "execution_count": null,
      "metadata": {},
      "outputs": [],
      "source": []
    },
    {
      "attachments": {},
      "cell_type": "markdown",
      "metadata": {
        "id": "vpk7LZEujUYt"
      },
      "source": [
        "### Téma 7.3: Vykreslování dat\n",
        "\n",
        "Další užitečnou schopností je umět vykreslovat data ze souboru do grafů. Uložte si do souboru data.txt následující obsah:\n",
        "```\n",
        "čas,teplota včera, teplota dnes\n",
        "0,5,5\n",
        "1,6,7\n",
        "2,6,7\n",
        "3,7,7\n",
        "4,8,8\n",
        "5,8,9\n",
        "6,10,11\n",
        "7,12,13\n",
        "8,14,15\n",
        "9,16,18\n",
        "10,17,19\n",
        "11,17,20\n",
        "12,18,21\n",
        "13,17,20\n",
        "14,18,20\n",
        "15,17,21\n",
        "16,15,20\n",
        "17,13,19\n",
        "18,13,17\n",
        "19,12,16\n",
        "20,9,15\n",
        "21,7,12\n",
        "22,6,10\n",
        "23,6,7\n",
        "```\n",
        "\n",
        "Tato dat si nejprve načteme do kolekce. Poté si naimportujeme si modul matplotlib.pyplot pod zkrácenou přezdívkou (aliasem) plt. Poté zavoláme příkaz plot, kde zadáme, jaká data chceme na osu x a y a zvolíme barvičku se stylem. Pokud tvoříme více liniových grafů, tak je voláme za sebou. Příkazem show zobrazíme výsledný graf s liniemi."
      ]
    },
    {
      "cell_type": "code",
      "execution_count": null,
      "metadata": {},
      "outputs": [],
      "source": [
        "!pip install matplotlib # tenhle příkaz spusťte jen v případě, že nepracujete v Google Colab. Raději si zavolejte učitele pro asistenci."
      ]
    },
    {
      "cell_type": "code",
      "execution_count": 7,
      "metadata": {
        "colab": {
          "base_uri": "https://localhost:8080/"
        },
        "id": "QMbJR02SjYHT",
        "outputId": "539254d7-df54-4f85-e953-54580cb4e51c"
      },
      "outputs": [
        {
          "data": {
            "image/png": "[encoded data removed]",
            "text/plain": [
              "<Figure size 640x480 with 1 Axes>"
            ]
          },
          "metadata": {},
          "output_type": "display_data"
        }
      ],
      "source": [
        "import matplotlib.pyplot as plt #import knihovny pro vykreslování grafů pod aliasem plt\n",
        "\n",
        "teplota_vcera = []\n",
        "teplota_dnes = []\n",
        "casy = []\n",
        "\n",
        "with open(\"data.txt\", \"r\") as soubor:\n",
        "    text = soubor.read()\n",
        "\n",
        "#prikaz enumerate vraci dve hodnoty - cislo radku a obsah radku\n",
        "for iradek, radek in enumerate(text.split(\"\\n\")):\n",
        "    if iradek == 0: #prvni radek chceme preskocit, jelikoz obsahuje nadpisy a ne data\n",
        "        continue\n",
        "    cas, teplota1, teplot2 = radek.split(\",\") #na radku jsou tri hodnoty oddelene carkou\n",
        "    casy.append(int(cas))\n",
        "    teplota_vcera.append(int(teplota1))\n",
        "    teplota_dnes.append(int(teplot2))\n",
        "\n",
        "plt.title(\"Teplota za poslední dva dny\") #nadpis grafu\n",
        "plt.xlabel(\"Hodina\") #popisek osy x\n",
        "plt.ylabel(\"Teplota [°C]\") #popisek osy y\n",
        "plt.plot(casy, teplota_vcera, \"r--\", label=\"Včera\") #vykresleni grafu\n",
        "plt.plot(casy, teplota_dnes, \"bo-\", label=\"Dnes\") #vykresleni grafu\n",
        "plt.legend() #zobrazeni legendy\n",
        "plt.show() #zobrazeni grafu"
      ]
    },
    {
      "attachments": {},
      "cell_type": "markdown",
      "metadata": {},
      "source": [
        "Matplotlib má spousty dalších předpřipravených grafů, které můžete využít. Příkladem je scatter plot, ve kterém je snadno vidět korelace (souvislost) dat."
      ]
    },
    {
      "cell_type": "code",
      "execution_count": 10,
      "metadata": {},
      "outputs": [
        {
          "data": {
            "image/png": "[encoded data removed]",
            "text/plain": [
              "<Figure size 640x480 with 1 Axes>"
            ]
          },
          "metadata": {},
          "output_type": "display_data"
        }
      ],
      "source": [
        "with open(\"vyska_vaha.csv\", \"r\") as soubor:\n",
        "    text = soubor.read()\n",
        "\n",
        "vyska = []\n",
        "vaha = []\n",
        "\n",
        "for iradek, radek in enumerate(text.split(\"\\n\")):\n",
        "    if iradek == 0:\n",
        "        continue\n",
        "    rozdeleny_radek = radek.split(\",\")\n",
        "    vyska.append(float(rozdeleny_radek[1]))\n",
        "    vaha.append(float(rozdeleny_radek[2]))\n",
        "\n",
        "plt.title(\"Výška a váha studentů\") #nadpis grafu\n",
        "plt.xlabel(\"Výška [cm]\") #popisek osy x\n",
        "plt.ylabel(\"Váha [kg]\") #popisek osy y\n",
        "plt.scatter(vyska, vaha) #vykresleni grafu\n",
        "plt.show() #zobrazeni grafu"
      ]
    },
    {
      "attachments": {},
      "cell_type": "markdown",
      "metadata": {},
      "source": [
        "lorem"
      ]
    },
    {
      "cell_type": "code",
      "execution_count": null,
      "metadata": {},
      "outputs": [],
      "source": []
    },
    {
      "attachments": {},
      "cell_type": "markdown",
      "metadata": {
        "id": "htFJyFKQm9_g"
      },
      "source": [
        "#### Cvičení 7.3.1: Vykreslení spojnicového grafu\n",
        "\n",
        "lorem"
      ]
    },
    {
      "cell_type": "code",
      "execution_count": null,
      "metadata": {},
      "outputs": [],
      "source": []
    },
    {
      "attachments": {},
      "cell_type": "markdown",
      "metadata": {},
      "source": [
        "#### Cvičení 7.3.2: Vykreslení histogramu\n",
        "\n",
        "lorem"
      ]
    },
    {
      "cell_type": "code",
      "execution_count": null,
      "metadata": {},
      "outputs": [],
      "source": []
    },
    {
      "attachments": {},
      "cell_type": "markdown",
      "metadata": {
        "id": "B91DlVktkksl"
      },
      "source": [
        "#### Cvičení 7.3.3: Vykreslení bodového grafu\n",
        "\n",
        "lorem"
      ]
    },
    {
      "cell_type": "code",
      "execution_count": null,
      "metadata": {},
      "outputs": [],
      "source": []
    },
    {
      "attachments": {},
      "cell_type": "markdown",
      "metadata": {},
      "source": [
        "#### Cvičení 7.3.4: Vykreslení koláčového grafu\n",
        "\n",
        "lorem"
      ]
    },
    {
      "cell_type": "code",
      "execution_count": null,
      "metadata": {},
      "outputs": [],
      "source": []
    },
    {
      "attachments": {},
      "cell_type": "markdown",
      "metadata": {},
      "source": [
        "#### Cvičení 7.3.5: Vykreslení grafu ze souboru\n",
        "\n",
        "lorem"
      ]
    },
    {
      "cell_type": "code",
      "execution_count": null,
      "metadata": {},
      "outputs": [],
      "source": []
    },
    {
      "attachments": {},
      "cell_type": "markdown",
      "metadata": {
        "id": "OAevD9Q4g5F5"
      },
      "source": [
        "### Téma 7.4: Strukturování programu\n",
        "\n"
      ]
    },
    {
      "cell_type": "code",
      "execution_count": 2,
      "metadata": {
        "colab": {
          "base_uri": "https://localhost:8080/"
        },
        "id": "DBVvgGSFg9BM",
        "outputId": "1eabe45e-7462-49a9-989a-d73ddf4223b7"
      },
      "outputs": [],
      "source": []
    },
    {
      "attachments": {},
      "cell_type": "markdown",
      "metadata": {},
      "source": [
        "lorem"
      ]
    },
    {
      "cell_type": "code",
      "execution_count": null,
      "metadata": {},
      "outputs": [],
      "source": []
    },
    {
      "attachments": {},
      "cell_type": "markdown",
      "metadata": {},
      "source": [
        "#### Cvičení 7.4.1: Lorem\n",
        "\n",
        "lorem"
      ]
    },
    {
      "cell_type": "code",
      "execution_count": null,
      "metadata": {},
      "outputs": [],
      "source": []
    },
    {
      "attachments": {},
      "cell_type": "markdown",
      "metadata": {},
      "source": [
        "#### Cvičení 7.4.2: Lorem\n",
        "\n",
        "lorem"
      ]
    },
    {
      "cell_type": "code",
      "execution_count": null,
      "metadata": {},
      "outputs": [],
      "source": []
    },
    {
      "attachments": {},
      "cell_type": "markdown",
      "metadata": {
        "id": "-djbkLOhKp4e"
      },
      "source": [
        "### Domácí Úkoly 7 - Příprava na závěrečný projekt\n",
        "\n",
        "V této přípravě vidíte několik vyřešených úloh tak, jak bych je vyřešil s Vaší úrovní znalostí já. Nemusíte se toho držet a klidně si úkoly vyřešte ve svém stylu pokud na to máte čas. Pokud čas nemáte, tak si úlohy a mé řešení alespoň řádně prostudujte."
      ]
    },
    {
      "attachments": {},
      "cell_type": "markdown",
      "metadata": {
        "id": "eq-2o-KjLHiG"
      },
      "source": [
        "#### Úkol 7.1 Načti matici, ulož matici\n",
        "\n",
        "Mějme textový soubor s následujícím obsahem:\n",
        "\n",
        "```\n",
        "1 5 6\n",
        "2 7 9\n",
        "9 0 2\n",
        "```\n",
        "\n",
        "Vaším úkolem je načíst všechna čísla ze souboru, vynásobit je zvolený číslem a zapsat zpátky do původního souboru."
      ]
    },
    {
      "cell_type": "code",
      "execution_count": 14,
      "metadata": {
        "id": "HHzCxwlbLHFM"
      },
      "outputs": [],
      "source": [
        "!echo \"1 5 6\" > ukol1.txt\n",
        "!echo \"2 7 9\" >> ukol1.txt\n",
        "!echo \"9 0 2\" >> ukol1.txt"
      ]
    },
    {
      "cell_type": "code",
      "execution_count": 15,
      "metadata": {},
      "outputs": [],
      "source": [
        "from typing import List\n",
        "\n",
        "\n",
        "def nacti_cisla(cesta: str) -> List[List[int]]:\n",
        "    with open(cesta, \"r\") as soubor:\n",
        "        text = soubor.read().strip()\n",
        "    matice_cisel = []\n",
        "    for cisla in text.split(\"\\n\"):\n",
        "        matice_cisel.append(list(map(int, cisla.split(\" \"))))\n",
        "    return matice_cisel\n",
        "\n",
        "\n",
        "def vynasob_matici_cislem(matice: List[List[int]], cislo: float) -> List[List[int]]:\n",
        "    for radek in matice:\n",
        "        for iprvek in range(len(radek)):\n",
        "            radek[iprvek] *= cislo\n",
        "    return matice\n",
        "\n",
        "\n",
        "def zapis_matici_do_souboru(matice: List[List[int]], cesta: str) -> None:\n",
        "    with open(cesta, \"w\") as soubor:\n",
        "        for radek in matice:\n",
        "            for cislo in radek:\n",
        "                soubor.write(str(cislo) + \" \")\n",
        "            soubor.write(\"\\n\")\n",
        "\n",
        "\n",
        "def main():\n",
        "    matice_cisel = nacti_cisla(\"ukol1.txt\")\n",
        "    matice_cisel = vynasob_matici_cislem(matice_cisel, cislo=5)\n",
        "    zapis_matici_do_souboru(matice_cisel, cesta=\"ukol1.txt\")\n",
        "\n",
        "\n",
        "main()"
      ]
    },
    {
      "attachments": {},
      "cell_type": "markdown",
      "metadata": {
        "id": "SAUxDaB9splD"
      },
      "source": [
        "#### Úkol 7.2 Odděl psy od koček\n",
        "\n",
        "Mějme textový soubor s následujícím obsahem:\n",
        "\n",
        "```\n",
        "rex,micka,ronald,natálka,jonatán,zoltán\n",
        "azor,kulička,ocásek,fousek,strašpytel,zimík\n",
        "simona,maňas,nána,otakar,jeliman,krávoslav\n",
        "```\n",
        "\n",
        "V souboru se nachází jména koček a psů. Psa od kočky poznáte podle počátečního písmena jména.\n",
        "\n",
        "* Psi začínají písmenem: `a, j, k, o, z`.\n",
        "* Kočky začínají písmenem: `f, m, n, r, s`.\n",
        "\n",
        "Vaším úkolem je načíst text ze souboru a získat z nich jména psů a koček. Vytvořte si pro každý typ zvířete seznam jmen, do kterých budete jména postupně přidávat. Tyto seznamy pak zvlášť zapíšete do souborů. Každý typ zvířete bude mít vlastní soubor se jmény."
      ]
    },
    {
      "cell_type": "code",
      "execution_count": 16,
      "metadata": {
        "id": "a_C7OtW-LEEP"
      },
      "outputs": [],
      "source": [
        "!echo \"rex,micka,ronald,natálka,jonatán,zoltán\" > ukol2.txt\n",
        "!echo \"azor,kulička,ocásek,fousek,strašpytel,zimík\" >> ukol2.txt\n",
        "!echo \"simona,maňas,nána,otakar,jeliman,krávoslav\" >> ukol2.txt"
      ]
    },
    {
      "cell_type": "code",
      "execution_count": null,
      "metadata": {},
      "outputs": [],
      "source": [
        "from typing import List, Tuple\n",
        "\n",
        "def nacti_jmena_ze_souboru(cesta: str) -> List[str]:\n",
        "    jmena = []\n",
        "    with open(cesta, \"r\") as soubor:\n",
        "        for radek in soubor.split(\"\\n\"):\n",
        "            for jmeno in radek.split(\",\"):\n",
        "                jmena.append(jmeno)\n",
        "    return jmena\n",
        "\n",
        "\n",
        "def roztrid_jmena(jmena: List[str], pismena_psu: List[str], pismena_kocek: List[str]) -> Tuple[List[str]]:\n",
        "    psi = []\n",
        "    kocky = []\n",
        "    for jmeno in jmena:\n",
        "        if jmeno[0] in pismena_psu:\n",
        "            psi.append(jmeno)\n",
        "        elif jmeno[0] in pismena_kocek:\n",
        "            kocky.append(jmeno)\n",
        "    return psi, kocky\n",
        "\n",
        "\n",
        "def zapis_jmena_do_souboru(cesta_psi: str, cesta_kocky: str, jmena_psu: List[str], jmena_kocek: List[str]) -> None:\n",
        "    with open(cesta_psi, \"w\") as soubor:\n",
        "        for jmeno in jmena_psu:\n",
        "            soubor.write(jmeno + \",\")\n",
        "\n",
        "    with open(cesta_kocky, \"w\") as soubor:\n",
        "        for jmeno in jmena_kocek:\n",
        "            soubor.write(jmeno + \" \")\n",
        "\n",
        "\n",
        "def main():\n",
        "    jmena_zvirat = nacti_jmena_ze_souboru(cesta=\"ukol2.txt\")\n",
        "    jmena_psu, jmena_kocek = roztrid_jmena(jmena_zvirat, pismena_psu=[\"\",\"\",\"\",\"\"], pismena_kocek=[])\n"
      ]
    },
    {
      "attachments": {},
      "cell_type": "markdown",
      "metadata": {
        "id": "9LNOfEg-LEpM"
      },
      "source": [
        "#### Úkol 7.3 \n",
        "\n",
        "lorem"
      ]
    },
    {
      "cell_type": "code",
      "execution_count": null,
      "metadata": {
        "id": "lqp-k6cssuyv"
      },
      "outputs": [],
      "source": []
    },
    {
      "attachments": {},
      "cell_type": "markdown",
      "metadata": {
        "id": "irOUsZnCssvV"
      },
      "source": [
        "#### Úkol 7.4 lorem\n",
        "\n",
        "lorem"
      ]
    },
    {
      "cell_type": "code",
      "execution_count": null,
      "metadata": {
        "id": "sx12qR5xLJyr"
      },
      "outputs": [],
      "source": []
    },
    {
      "attachments": {},
      "cell_type": "markdown",
      "metadata": {},
      "source": [
        "#### Úkol 7.5 lorem\n",
        "\n",
        "lorem"
      ]
    },
    {
      "cell_type": "code",
      "execution_count": null,
      "metadata": {},
      "outputs": [],
      "source": []
    }
  ],
  "metadata": {
    "colab": {
      "authorship_tag": "ABX9TyNbkxQfcyh/00+2I2aycp61",
      "provenance": []
    },
    "kernelspec": {
      "display_name": "Python 3",
      "name": "python3"
    },
    "language_info": {
      "codemirror_mode": {
        "name": "ipython",
        "version": 3
      },
      "file_extension": ".py",
      "mimetype": "text/x-python",
      "name": "python",
      "nbconvert_exporter": "python",
      "pygments_lexer": "ipython3",
      "version": "3.11.3"
    }
  },
  "nbformat": 4,
  "nbformat_minor": 0
}
