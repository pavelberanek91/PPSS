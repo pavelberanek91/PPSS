{
  "cells": [
    {
      "attachments": {},
      "cell_type": "markdown",
      "metadata": {
        "id": "-FueR60PPdhB"
      },
      "source": [
        "# Programování pro střední školy"
      ]
    },
    {
      "attachments": {},
      "cell_type": "markdown",
      "metadata": {
        "id": "A06-0F60KBcr"
      },
      "source": [
        "## Lekce 3: Rozhodování\n",
        "\n",
        "V minulé lekci jste používali programovací jazyk Python pro výpočty s tím, že uživatel si mohl zadat vstupní data a mohl ve formátované podobě vypsat výsledek výpočtu na obrazovku. V této lekci se naučít rozhodovat i o výpočetním algoritmu, který se má provést v případě splnění podmínky. Program se tedy bude umět rozhodovat (do umělé inteligence to má však daleko).\n"
      ]
    },
    {
      "attachments": {},
      "cell_type": "markdown",
      "metadata": {
        "id": "Tyn9KoXKPjiV"
      },
      "source": [
        "### Téma 3.1 Binární rozhodování\n",
        "\n",
        "Rozhodování o tom, zda se vykoná nějaká sekvence spolu souvisejících příkazů (blok), se zapisuje do programu pomocí klíčového slova ```if```. Za tímto klíčovým slovem se nachází logický výraz, jehož výsledek po vyhodnocení bude buď pravda (True) nebo nepravda (False). Pokud bude výraz vhodnocen jako pravdivý, pak se vykoná přidružený blok kódu."
      ]
    },
    {
      "cell_type": "code",
      "execution_count": null,
      "metadata": {
        "colab": {
          "base_uri": "https://localhost:8080/"
        },
        "id": "dph1l3T5deaH",
        "outputId": "2fa284e8-22a0-4cf9-cf03-5beeaebb374f"
      },
      "outputs": [],
      "source": [
        "vek = 18\n",
        "if vek == 18:\n",
        "    print(\"Tady máte Cuba Libre\")"
      ]
    },
    {
      "attachments": {},
      "cell_type": "markdown",
      "metadata": {},
      "source": [
        "V ukázkovém kód vidíte, že kód, který se vykoná při splnění podmínky, je zleva odsazen mezerami. Tomuto odsazení se říká vytváření bloku a Python právě spouští kód v bloku, pokud je podmínka vyhodnocena jako pravdivá. Doporučené je použít 2 nebo 4 mezery. Vývojová prostředí zarovnávají při stisku klávesy tab na nastavený počet mezer."
      ]
    },
    {
      "cell_type": "code",
      "execution_count": null,
      "metadata": {},
      "outputs": [],
      "source": [
        "# 2 mezery\n",
        "vek = 18\n",
        "if vek == 18:\n",
        "  print(\"Tady máte Cuba Libre\")"
      ]
    },
    {
      "cell_type": "code",
      "execution_count": null,
      "metadata": {},
      "outputs": [],
      "source": [
        "# 4 mezery \n",
        "vek = 18\n",
        "if vek == 18:\n",
        "    print(\"Tady máte Cuba Libre\")"
      ]
    },
    {
      "attachments": {},
      "cell_type": "markdown",
      "metadata": {
        "id": "VhviB9XgdtOx"
      },
      "source": [
        "Pro vyhodnocení pravdivosti musíme použít dvě rovnítka, jelikož jedno rovnítko je použito pro přiřazování."
      ]
    },
    {
      "cell_type": "code",
      "execution_count": null,
      "metadata": {
        "colab": {
          "base_uri": "https://localhost:8080/",
          "height": 133
        },
        "id": "-oZVEmXFeDgh",
        "outputId": "996ba98a-4236-4389-8be3-8a57cccc7f11"
      },
      "outputs": [],
      "source": [
        "#přiřazení hodnoty 5 do proměnné x\n",
        "x = 5\n",
        "\n",
        "#ptaní se na to, zda je cv proměnné x hodnota 5\n",
        "x == 5"
      ]
    },
    {
      "attachments": {},
      "cell_type": "markdown",
      "metadata": {
        "id": "ompkHW0Ka0o1"
      },
      "source": [
        "#### Cvičení 3.1.1: Je to Honza?\n",
        "\n",
        "Napište program, který se optá uživatele na jméno. Pokud bude jeho jméno Honza, pak program vypíše řetězec \"Ahoj Honzo!\"."
      ]
    },
    {
      "cell_type": "code",
      "execution_count": null,
      "metadata": {
        "id": "cc9TWDQpbH1t"
      },
      "outputs": [],
      "source": []
    },
    {
      "attachments": {},
      "cell_type": "markdown",
      "metadata": {},
      "source": [
        "Úplně obdobně jako na rovnost se můžeme ptát i na další tzv. matematické relace. Relace je vztah mezi dvěma prvky. Vztahy mohou být:\n",
        "* **A < B:**    A je menší než B\n",
        "* **A <= B:**   A je menší nebo rovno B\n",
        "* **A > B:**    A je větší než B\n",
        "* **A >= B:**   A je větší nebo rovno B\n",
        "* **A == B:**   A je rovno B\n",
        "* **A != B:**   A není rovno B"
      ]
    },
    {
      "cell_type": "code",
      "execution_count": null,
      "metadata": {
        "id": "qVz1Vcb8bRQO"
      },
      "outputs": [],
      "source": [
        "petr = 15\n",
        "jana = 17\n",
        "\n",
        "if jana > petr:\n",
        "    print(\"Jana je starší než Petr\")"
      ]
    },
    {
      "attachments": {},
      "cell_type": "markdown",
      "metadata": {},
      "source": [
        "Bloky mohou obsahovat kolik příkazů chcete. Podmínkou je, že všechny příkazy musí být stejně zarovnané."
      ]
    },
    {
      "cell_type": "code",
      "execution_count": null,
      "metadata": {
        "id": "Ink9Ak9pbSPk"
      },
      "outputs": [],
      "source": [
        "#správně\n",
        "petr = 15\n",
        "jana = 17\n",
        "\n",
        "if jana > petr:\n",
        "    print(\"Jana je starší než Petr\")\n",
        "    print(\"Petr je mladší než Jana \")\n",
        "    print(\"Tohle se také vytiskne, pokud je podmínka splněna\")"
      ]
    },
    {
      "cell_type": "code",
      "execution_count": null,
      "metadata": {},
      "outputs": [],
      "source": [
        "#špatně - příkazy v bloku (printy) nejsou stejně zarovnané a netvoří tak 1 celistvý blok\n",
        "petr = 15\n",
        "jana = 17\n",
        "\n",
        "if jana > petr:\n",
        "    print(\"Jana je starší než Petr\")\n",
        "  print(\"Petr je mladší než Jana \")\n",
        "    print(\"Tohle se také vytiskne, pokud je podmínka splněna\")"
      ]
    },
    {
      "attachments": {},
      "cell_type": "markdown",
      "metadata": {},
      "source": [
        "Po vykonání všech příkazů v odsazeném bloku program pokračuje následným prvním neodsazeným příkazem."
      ]
    },
    {
      "cell_type": "code",
      "execution_count": null,
      "metadata": {
        "id": "lFJiYdQ1bT4e"
      },
      "outputs": [],
      "source": [
        "petr = 15\n",
        "jana = 17\n",
        "\n",
        "if jana > petr:\n",
        "    print(\"Jana je starší než Petr\")\n",
        "    print(\"Petr je mladší než Jana \")\n",
        "    print(\"Tohle se také vytiskne, pokud je podmínka splněna\")\n",
        "\n",
        "print(\"At uz byla podminka pravda nebo ne, tohle uvidite vzdy\")\n",
        "print(\"A tohle taky\")"
      ]
    },
    {
      "attachments": {},
      "cell_type": "markdown",
      "metadata": {
        "id": "F-I4preIbgJY"
      },
      "source": [
        "#### Cvičení 3.1.2: Překonání rekordu\n",
        "\n",
        "Napište program, který přijme od uživatele čas zaběhnutí běhu na 1500 m. Program bude mít v sobě napevno uloženou hodnotu nejlepšího zaběhnutého času (můžete třeba nalézt na internetu světový rekord). Pokud zadaný čas bude lepší než nejlepší zaběhnutý čas, tak program vypíše na obrazovku hlášku o gratulaci."
      ]
    },
    {
      "cell_type": "code",
      "execution_count": null,
      "metadata": {
        "id": "CftXGPdAbwLU"
      },
      "outputs": [],
      "source": []
    },
    {
      "attachments": {},
      "cell_type": "markdown",
      "metadata": {},
      "source": [
        "Po ukončení bloku se vykonají další neodsazené příkazy. Může tedy následovat klidně i další podmínka."
      ]
    },
    {
      "cell_type": "code",
      "execution_count": null,
      "metadata": {},
      "outputs": [],
      "source": [
        "hlad = \"velký\"\n",
        "zizen = \"střední\"\n",
        "\n",
        "if hlad == \"velký\":\n",
        "    print(\"Na, dej si pizzu\")\n",
        "\n",
        "if hlad == \"střední\":\n",
        "    print(\"Na, dej si Snickers\")\n",
        "\n",
        "if zizen == \"velká\":\n",
        "    print(\"Na, dej si studnu\")\n",
        "\n",
        "if zizen == \"střední\":\n",
        "    print(\"Na, dej si Fantu\")"
      ]
    },
    {
      "attachments": {},
      "cell_type": "markdown",
      "metadata": {
        "id": "T1gpLw_rb5R7"
      },
      "source": [
        "#### Cvičení 3.1.3: Lepší hráč\n",
        "\n",
        "Napište program, který přijme od dvou hráčů videohry jméno a dosažené skóre. Pokud je skóre prvního hráče lepší jak skóre druhého, tak mu hra pogratuluje a ve výpisu uvede jeho jméno. Pokud je skóre prvního hráče horší jak druhého, tak hra pogratuluje druhému hráčovi. "
      ]
    },
    {
      "cell_type": "code",
      "execution_count": null,
      "metadata": {
        "id": "tCtP9vdDdOfl"
      },
      "outputs": [],
      "source": []
    },
    {
      "attachments": {},
      "cell_type": "markdown",
      "metadata": {},
      "source": [
        "Logické výrazy je možné v Pythonu značně zkrátit. Nemusíte se vždy ptát, zda je výraz pravdivý, což jsme již doposud vynechávali u relace. Samotné hodnoty v proměnných mají v podmínce přiřazenu pravdivostní hodnotu."
      ]
    },
    {
      "cell_type": "code",
      "execution_count": null,
      "metadata": {},
      "outputs": [],
      "source": [
        "if 5:\n",
        "    print(\"Vykonám se, kladná celá čísla = True\")\n",
        "if 0:\n",
        "    print(\"Nevykonám se, nula = False\")\n",
        "if -2:\n",
        "    print(\"Vykonám se, záporná celá čísla = True\")\n",
        "if 2.3:\n",
        "    print(\"Vykonám se, platí stejná pravidla jako u celých čísel\")\n",
        "if \"Ahoj\":\n",
        "    print(\"Vykonám se, neprázdný řetězec = True\")\n",
        "if \"\":\n",
        "    print(\"Nevykonám se, prázdný řetězec = False\")\n",
        "if True:\n",
        "    print(\"Vykonám se, pravdivnostní hodnota True je True sama o sobě\")\n",
        "if False:\n",
        "    print(\"Nevykonám se, pravdivnostní hodnota False je False sama o sobě\")"
      ]
    },
    {
      "attachments": {},
      "cell_type": "markdown",
      "metadata": {},
      "source": [
        "Toho lze využít pro zkrácení zápisů, kde se nachází aritmetický výraz v podmínce."
      ]
    },
    {
      "cell_type": "code",
      "execution_count": null,
      "metadata": {},
      "outputs": [],
      "source": [
        "a = 5\n",
        "b = 3\n",
        "c = -2\n",
        "if a - b + c:\n",
        "    print(\"Výsledej je nula. Všechno se požralo.\")"
      ]
    },
    {
      "attachments": {},
      "cell_type": "markdown",
      "metadata": {},
      "source": [
        "#### Cvičení 3.1.4: Je trojúhelník pravoúhlý?\n",
        "\n",
        "Napište program, který přijme délky stran trojúhelníka a vypíše na obrazovku, zda je trojúhelník pravoúhlý nebo není."
      ]
    },
    {
      "cell_type": "code",
      "execution_count": null,
      "metadata": {},
      "outputs": [],
      "source": []
    },
    {
      "attachments": {},
      "cell_type": "markdown",
      "metadata": {},
      "source": [
        "Občas potřebujete využít podmínky, která testuje, zda hodnota proměnné se nachází v určitém rozmezí. Toho můžete docílit následujícím zápisem.\n"
      ]
    },
    {
      "cell_type": "code",
      "execution_count": null,
      "metadata": {},
      "outputs": [],
      "source": [
        "x = 5\n",
        "\n",
        "if 2 < x <= 8:\n",
        "    print(\"Hodnota v rozmezí 2 nevčetně až 8 včetně\")"
      ]
    },
    {
      "attachments": {},
      "cell_type": "markdown",
      "metadata": {
        "id": "vOst9Mw6tXdQ"
      },
      "source": [
        "#### Cvičení 3.1.5: BMI klasifikátor\n",
        "\n",
        "Napište program, do kterého uživatel zadá výšku a hmotnost a program mu vypíše na obrazovku správnou BMI kategorii. Kategorie BMI naleznete na tomto odkaze: [ZDE](https://cs.wikipedia.org/wiki/Index_t%C4%9Blesn%C3%A9_hmotnosti)"
      ]
    },
    {
      "cell_type": "code",
      "execution_count": null,
      "metadata": {
        "id": "fmCWbGMGtsFF"
      },
      "outputs": [],
      "source": []
    },
    {
      "attachments": {},
      "cell_type": "markdown",
      "metadata": {
        "id": "Yur2pr53gosw"
      },
      "source": [
        "### Téma 3.2: Logické výrazy\n",
        "\n",
        "Podmínky v rozhodování mohou být velice složité. Pomocí logických operátorů, které znáte z matematické logiky (snad :) ...) můžete vytvořit velice komplexní vzorce pro rozhodování. Mezi logické operátory patří:\n",
        "* and (a zároveň) = všechny logické podvýrazy výrazu musí být vyhodnoceny jako pravda aby byl výraz pravdou\n",
        "* or (nebo) = pokud je alespoň jeden podvýraz z výrazu vyhodnocen jako pravda, tak je celý výraz pravda\n",
        "* not (opak) = obrací pravdivý výraz na nepravdivý a naopak\n",
        "\n",
        "Pokud jste se učili v matematické logice další logické operace, tak ty lze vyjádřit složením těchto zmíněných základních operací. Příklady takových operací jsou:\n",
        "* nxor (totožnost)\n",
        "* xor (různoznačnost)\n",
        "* implikace\n",
        "* inhibice\n",
        "\n",
        "V následujícím příkladu vidíte složený výraz, kde musí všechny podvýrazy být pravdivé, aby se výraz vyhodnotil jako pravda."
      ]
    },
    {
      "cell_type": "code",
      "execution_count": null,
      "metadata": {
        "colab": {
          "base_uri": "https://localhost:8080/"
        },
        "id": "ESQ42O3Bhlro",
        "outputId": "cf532d01-fd2c-4f0e-ce8e-30ecda14861c"
      },
      "outputs": [],
      "source": [
        "vek = 18\n",
        "vyska = 185\n",
        "bmi = 20\n",
        "jmeno = \"Jaroslav\"\n",
        "nemam_rada_jmeno = \"Svatopluk\"\n",
        "\n",
        "\n",
        "if 18 <= vek <= 25 and vyska > 180 and 18.5 <= bmi <= 25 and jmeno != nemam_rada_jmeno:\n",
        "    print(\"Ahoj. Nezajdem na rande?\")"
      ]
    },
    {
      "attachments": {},
      "cell_type": "markdown",
      "metadata": {},
      "source": [
        "V následujícím příkladu vidíte složený výraz, kde musí být alespoň jeden podvýraz být pravdivý, aby se výraz vyhodnotil jako pravda."
      ]
    },
    {
      "cell_type": "code",
      "execution_count": null,
      "metadata": {},
      "outputs": [],
      "source": [
        "zadne_povinnosti = True\n",
        "znamka_ve_skole = 4\n",
        "pritel_ma_cas = False\n",
        "\n",
        "if zadne_povinnosti or znamka_ve_skole <= 2 or pritel_ma_cas:\n",
        "    print(\"Dneska je fajn den :)\")"
      ]
    },
    {
      "attachments": {},
      "cell_type": "markdown",
      "metadata": {},
      "source": [
        "V tomto příkladu vidíte, jak operace not obrací výsledek logického výrazu."
      ]
    },
    {
      "cell_type": "code",
      "execution_count": null,
      "metadata": {},
      "outputs": [],
      "source": [
        "povoleno_pit = 18\n",
        "\n",
        "if not vek >= povoleno_pit:\n",
        "    print(\"V tomto klubu ti nenalijeme alkohol!\")"
      ]
    },
    {
      "attachments": {},
      "cell_type": "markdown",
      "metadata": {},
      "source": [
        "Logické operace můžeme v jednom výrazu samozřejmě kombinovat a závorkovat si je."
      ]
    },
    {
      "cell_type": "code",
      "execution_count": null,
      "metadata": {
        "colab": {
          "base_uri": "https://localhost:8080/"
        },
        "id": "LATH0O3-hwaC",
        "outputId": "098afd02-d100-4ff9-cb47-91b08c6b1ee1"
      },
      "outputs": [],
      "source": [
        "znamka = 3\n",
        "uklizeno = True\n",
        "nalada_rodicu = \":)\"\n",
        "\n",
        "if znamka <= 3 and (nalada_rodicu == \":)\" or uklizeno == True):\n",
        "    print(\"Můžeš jít ven\")"
      ]
    },
    {
      "attachments": {},
      "cell_type": "markdown",
      "metadata": {},
      "source": [
        "Výrazy je doporučené závorkovat pokud si nejste jisti předností logických operátorů. Operátory mají přednost v následujícím pořadí od nejpřednější po \"nejméně přednější\":\n",
        "* logická negace ```not```\n",
        "* logický součin ```and```\n",
        "* logický součet ```or```\n",
        "* relační operátory: ```<, <=, >, >=, ==, !=```"
      ]
    },
    {
      "attachments": {},
      "cell_type": "markdown",
      "metadata": {
        "id": "ShArx6Gghzyh"
      },
      "source": [
        "#### Cvičení 3.2.1: Vyloučení ze školy\n",
        "\n",
        "Napište program, který rozhodne, zda bude student vyloučen ze studia. Vyloučen bude tehdy, když bude pravdivá alespoň jedna z dílčích podmínek:\n",
        "* student má ze dvou předmětů za 5 \n",
        "* student má závažným způsobem porušil školní řád\n",
        "* student má ze tří předmětů za N"
      ]
    },
    {
      "cell_type": "code",
      "execution_count": null,
      "metadata": {
        "id": "qxNRW_HkiW4T"
      },
      "outputs": [],
      "source": [
        "matematika = input(\"Jakou známku získal student z matematiky? \")\n",
        "cestina = input(\"Jakou známku získal student z češtiny? \")\n",
        "fyzika =  = input(\"Jakou známku získal student z fyziky? \")\n",
        "dejepis = input(\"Jakou známku získal student z dějepisu? \")\n",
        "poruseni_radu = input(\"Porušil žák závažně školná řád? \")\n",
        "\n",
        "#sem dopište kód\n"
      ]
    },
    {
      "attachments": {},
      "cell_type": "markdown",
      "metadata": {
        "id": "SQdIMH9ci1N_"
      },
      "source": [
        "#### Cvičení 3.2.2: Pochvala třídního učitele\n",
        "\n",
        "Napište program, který rozhodne, zda bude obdrží student pochvalu třídního učitele. Pochvalu získá tehdy, když bude pravdivá alespoň jedna z dílčích podmínek:\n",
        "* student má ze všech předmětů za 1\n",
        "* student pomáhal na školní akci\n",
        "* student se jmenuje Hujer"
      ]
    },
    {
      "cell_type": "code",
      "execution_count": null,
      "metadata": {
        "id": "rkcJhjhgjJ5E"
      },
      "outputs": [],
      "source": [
        "matematika = input(\"Jakou známku získal student z matematiky? \")\n",
        "cestina = input(\"Jakou známku získal student z cestiny? \")\n",
        "fyzika =  = input(\"Jakou známku získal student z fyziky? \")\n",
        "dejepis = input(\"Jakou známku získal student z dejepisu? \")\n",
        "pomahal = input(\"Pomáhal student na nějaké školní akci? \")\n",
        "student = input(\"Jméno studenta? \")\n",
        "\n",
        "#zde doplňte svůj kód\n"
      ]
    },
    {
      "attachments": {},
      "cell_type": "markdown",
      "metadata": {},
      "source": [
        "#### Cvičení 3.2.3: Idempotence\n",
        "\n",
        "Následující podmínku v rozhodování dvakrát znegujte pomocí příkazu not. Měli byste vidět, že podmínka se provede, jako kdyby k žádné negaci vůbec nedošlo."
      ]
    },
    {
      "cell_type": "code",
      "execution_count": null,
      "metadata": {},
      "outputs": [],
      "source": [
        "x = 5\n",
        "\n",
        "#tuto podmínku dvakrát znegujte\n",
        "if x == 5:\n",
        "    print(\"Provedlo se\")"
      ]
    },
    {
      "attachments": {},
      "cell_type": "markdown",
      "metadata": {},
      "source": [
        "#### Cvičení 3.2.4: Vyhodnotí se?\n",
        "\n",
        "Upravte hodnoty v proměnných tak, aby se výraz vyhodnotil jako pravdivý a viděli jste na obrazovce vytisklou větu."
      ]
    },
    {
      "cell_type": "code",
      "execution_count": null,
      "metadata": {},
      "outputs": [],
      "source": [
        "a = 5\n",
        "b = \"pepa\"\n",
        "c = 2.5\n",
        "d = False\n",
        "e = not d\n",
        "f = not not e\n",
        "\n",
        "if (a or not b) and (c > 6 or d) and e or f:\n",
        "    print(\"Gratuluji k výpisu\")"
      ]
    },
    {
      "attachments": {},
      "cell_type": "markdown",
      "metadata": {},
      "source": [
        "#### Cvičení 3.2.5: De Morganovy zákony\n",
        "\n",
        "Ověřte, že platí tzv. De Morganovy zákony [ZDE](https://cs.wikipedia.org/wiki/De_Morganovy_z%C3%A1kony). Tedy:\n",
        "* negace logického součtu výrazů je rovna součinu negací výrazů\n",
        "* negace logického součinu výrazů je rovna součtu negací výrazů\n",
        "\n",
        "I když to vypadá strašidelně po prvním přečtení, je to jednoduché :)."
      ]
    },
    {
      "cell_type": "code",
      "execution_count": null,
      "metadata": {},
      "outputs": [],
      "source": []
    },
    {
      "attachments": {},
      "cell_type": "markdown",
      "metadata": {
        "id": "vpk7LZEujUYt"
      },
      "source": [
        "### Téma 3.3: Větev rozhodování\n",
        "\n",
        "Podívejme se na následující příklad, který obsahuje jeden velký problém."
      ]
    },
    {
      "cell_type": "code",
      "execution_count": null,
      "metadata": {
        "colab": {
          "base_uri": "https://localhost:8080/"
        },
        "id": "QMbJR02SjYHT",
        "outputId": "539254d7-df54-4f85-e953-54580cb4e51c"
      },
      "outputs": [],
      "source": [
        "jmeno = \"Pavel\"\n",
        "\n",
        "if jmeno == \"Pavel\":\n",
        "    print(\"Ahoj Pavle!\")\n",
        "\n",
        "if jmeno != \"Pavel\":\n",
        "    print(\"Ahoj někdo jiný než Pavle\")"
      ]
    },
    {
      "attachments": {},
      "cell_type": "markdown",
      "metadata": {},
      "source": [
        "V programu vidíte, že pokud se vyhodnotí jmeno jako Pavel, pak již není nutné kontrolat druhou podmínku, jelikož nemůže být splněna. Stejně tak pokud jmeno nebude Pavel, pak není nutné druhou podmínku vyhodnocovat a rovnou vykonat její kód, protože bude stoprocentně splněna. Kontrolou navíc zatěžujeme centrální procesorovou jednotku našeho počítače. I když v tomto případě je to zcela bezvýznamné zpoždění, tak v případech složitých počítačových simulací, například z oblasti fyzikální chemie, to může být velký problém.\n",
        "\n",
        "Z tohoto důvodu existuje způsob, jak podmínky spojit příkazem ```else```. Pokud není podmínka ```if``` vykonaná, pak není nutné již testovat druhou podmínku s ní logicky spojenou a vykonáme rovnou tělo pro opačný typ vyhodnocení."
      ]
    },
    {
      "cell_type": "code",
      "execution_count": null,
      "metadata": {},
      "outputs": [],
      "source": [
        "jmeno = \"Pavel\"\n",
        "\n",
        "if jmeno == \"Pavel\":\n",
        "    print(\"Ahoj Pavle!\")\n",
        "else:\n",
        "    print(\"Ahoj někdo jiný než Pavle\")"
      ]
    },
    {
      "attachments": {},
      "cell_type": "markdown",
      "metadata": {},
      "source": [
        "Příkaz ```else``` nemůže být nikdy v programu sám o sobě, jelikož neobsahuje ani žádnou podmínku. Musí být vždy navázán na nějaký příkaz ```if```."
      ]
    },
    {
      "cell_type": "code",
      "execution_count": null,
      "metadata": {},
      "outputs": [],
      "source": [
        "cislo = 5\n",
        "\n",
        "#tohle nedává smysl, jelikož chybí prvotní podmínka if\n",
        "else:\n",
        "    print(\"Cislo není 5\")"
      ]
    },
    {
      "attachments": {},
      "cell_type": "markdown",
      "metadata": {
        "id": "htFJyFKQm9_g"
      },
      "source": [
        "#### Cvičení 3.3.1: Hra a platforma\n",
        "\n",
        "Napište program, který obsahuje dvě podmínky.\n",
        "\n",
        "První podmínka:\n",
        "* Program se zeptá, zda chce hráč hrát online nebo offline videohru\n",
        "* Pokud uživatel zadá na klávesnici, že chce hrát online hru, pak mu program vytiskne na obrazovku: \"Měl by sis zahrát League of Legends\".\n",
        "* Pokud uživatel zadá offline hru nebo cokoliv jiného, pak mu program vytiskne na obrazovku: \"Měl by sis zahrát Zaklínače 3\".\n",
        "\n",
        "Druhá podmínka:\n",
        "* Program se zeptá, zda chce hráč hru streamovat.\n",
        "* Pokud uživatel zadá na klávesnici, že chce hru streamovat, pak mu program vytiskne na obrazovku: \"Doporučuji použít Twitch.tv\".\n",
        "* Pokud uživatel zadá cokoliv jiného, pak program nic nevypíše."
      ]
    },
    {
      "cell_type": "code",
      "execution_count": null,
      "metadata": {},
      "outputs": [],
      "source": []
    },
    {
      "attachments": {},
      "cell_type": "markdown",
      "metadata": {},
      "source": [
        "#### Cvičení 3.3.2: Obvod a obsah kružnice\n",
        "\n",
        "Napište program, který přijme poloměr kružnice jako desetinné číslo. Následně se zeptá uživatele, zda chce vypsat obvod nebo obsah kružnice. Podle volby program vypočítá a vypíše na obrazovku příslušnou informaci."
      ]
    },
    {
      "cell_type": "code",
      "execution_count": null,
      "metadata": {},
      "outputs": [],
      "source": []
    },
    {
      "attachments": {},
      "cell_type": "markdown",
      "metadata": {},
      "source": [
        "Kromě konstrukce ```else``` můžete používat i konstrukci ```elif```. Elif se používá pro další možnosti s podmínkou. Elif musí být součástí konstrukce if a větev rozhodování může těchto konstrukcí obsahovat kolik jen chcete."
      ]
    },
    {
      "cell_type": "code",
      "execution_count": null,
      "metadata": {},
      "outputs": [],
      "source": [
        "oblibeny_zanr = \"horor\"\n",
        "\n",
        "if oblibeny_zanr == \"horor\":\n",
        "    print(\"Doporučuji film IT\")\n",
        "elif oblibeny_zanr == \"thriller\":\n",
        "    print(\"Doporucuji film Mlčení jehňátek\")\n",
        "elif oblibeny_zanr == \"akční\":\n",
        "    print(\"Doporučuji film Matrix\")\n",
        "elif oblibeny_zanr == \"anime\":\n",
        "    print(\"Doporučuji anime Chainsaw man\")\n",
        "else:\n",
        "    print(\"Neznám tvůj oblíbený žánr, tak ti mohu aspoň doporučit Vykoupení z věznice Shawshank\")"
      ]
    },
    {
      "attachments": {},
      "cell_type": "markdown",
      "metadata": {},
      "source": [
        "V programu je teď lépe vidět, jaká je úloha konstrukce else. Program nejprve vyhodnotí, zda je první podmínka v konstrukci if pravdivá. Pokud ne, tak zkoumá první elif podmínku. Pokud ani ta není pravdivá, tak zkoumá další pravdivost dalších podmínek elif. Pokud ani jeden z elifů nebyl vyhodnocen jako pravdivý, tak se vykonají instrukce v bloku u konstrukce else.\n",
        "\n",
        "Větev rozhodování by se dala přeložit jako:\n",
        "* if = pokud je pravda ...\n",
        "* elif = když není pravda předešlé, tak pokud je pravda ...\n",
        "* else = tak jinak "
      ]
    },
    {
      "attachments": {},
      "cell_type": "markdown",
      "metadata": {
        "id": "B91DlVktkksl"
      },
      "source": [
        "#### Cvičení 3.3.3: Kořeny kvadratické rovnice\n",
        "\n",
        "Napište program, který přijme koeficienty kvadratické rovnice: a, b, c. Na základě koeficientů spočítá diskriminant. Podle hodnoty diskriminantu D vypíše počet kořenů na obrazovku:\n",
        "* pokud je D > 0: pak má rovnice 2 kořeny x1 a x2\n",
        "* pokud je D == 0: pak má rovnice 1 kořen x\n",
        "* pokud je D < 0: pak rovnice nemá řešení, tato informace o neexistenci řešení bude vypsaná na obrazovce\n",
        "\n",
        "Návod: https://www.matweb.cz/diskriminant/"
      ]
    },
    {
      "cell_type": "code",
      "execution_count": null,
      "metadata": {},
      "outputs": [],
      "source": []
    },
    {
      "attachments": {},
      "cell_type": "markdown",
      "metadata": {},
      "source": [
        "#### Cvičení 3.3.4: Obsah vybraného tělesa\n",
        "\n",
        "Napište program, který se zeptá na to, pro jaké těleso chce spočítat obsah. Program dá k dispozici uživateli následující tělesa:\n",
        "* čtverec\n",
        "* obdélník\n",
        "* kružnice\n",
        "\n",
        "Podle výběru se zeptá na požadované hodnoty k výpočtu obsahu a vypíše na obrazovku obsah zvoleného tělesa. Pokud uživatel zadal jiné těleso než zmíněná tělesa, pak program vypíše hlášku o tom, že zadané těleso nebylo rozpoznáno."
      ]
    },
    {
      "cell_type": "code",
      "execution_count": null,
      "metadata": {},
      "outputs": [],
      "source": []
    },
    {
      "attachments": {},
      "cell_type": "markdown",
      "metadata": {},
      "source": [
        "#### Cvičení 3.3.5: Nejdelší strana\n",
        "\n",
        "Napište program, do kterého zadáte tři čísla a uložíte je do proměnných. Program vypíše na obrazovku čísla v pořadí od největšího po nejmenší. S použitím pokročilých funkcí lze vyřešit tento program na jednom řádku. Zkuste to rozepsat jen pomocí podmínek."
      ]
    },
    {
      "cell_type": "code",
      "execution_count": null,
      "metadata": {},
      "outputs": [],
      "source": []
    },
    {
      "attachments": {},
      "cell_type": "markdown",
      "metadata": {
        "id": "OAevD9Q4g5F5"
      },
      "source": [
        "### Téma 3.4: Strom rozhodování\n",
        "\n",
        "Větve rozhodování lze do sebe i zanořovat a vytvářet tak celý strom rozhodování."
      ]
    },
    {
      "cell_type": "code",
      "execution_count": null,
      "metadata": {
        "colab": {
          "base_uri": "https://localhost:8080/"
        },
        "id": "DBVvgGSFg9BM",
        "outputId": "1eabe45e-7462-49a9-989a-d73ddf4223b7"
      },
      "outputs": [],
      "source": [
        "if input(\"Chceš něco spočítat nebo jen pozdravit? \") == \"spočítat\":\n",
        "    operace = input(\"Co chceš provést za operaci [+, -, *, /]: \")\n",
        "    a = float(input(\"Zadej první číslo: \"))\n",
        "    b = float(input(\"Zadej druhé číslo: \"))\n",
        "    if operace == \"+\":\n",
        "        print(f\"Výsledek je {a+b}\")\n",
        "    elif operace == \"-\":\n",
        "        print(f\"Výsledek je {a-b}\")\n",
        "    elif operace == \"*\":\n",
        "        print(f\"Výsledek je {a*b}\")\n",
        "    elif operace == \"/\":\n",
        "        if b == 0.0:\n",
        "            print(\"Dělení nulou!\")\n",
        "        else:\n",
        "            print(f\"Výsledek je {a/b}\")\n",
        "    else:\n",
        "        print(\"Neznámá operace\")\n",
        "else:\n",
        "    print(\"Ahoj. Doufám, že máš hezký den :). Jsi krásný a chytrý uživatel této aplikace\")"
      ]
    },
    {
      "attachments": {},
      "cell_type": "markdown",
      "metadata": {},
      "source": [
        "Důležité je správně zarovnat do stejného sloupcu společné rozhodování. Například následující kód je špatně, jelikož program neví, k jaké větvi rozhodování náleží elif."
      ]
    },
    {
      "cell_type": "code",
      "execution_count": null,
      "metadata": {},
      "outputs": [],
      "source": [
        "a = 5\n",
        "b = 3\n",
        "\n",
        "if a == 5:\n",
        "    if b == 2:\n",
        "        ...\n",
        "  elif b == 3: #chyba, bud musime zarovnat o dve mezery doprava nebo doleva\n",
        "    ...\n",
        "else:\n",
        "    ..."
      ]
    },
    {
      "attachments": {},
      "cell_type": "markdown",
      "metadata": {},
      "source": [
        "#### Cvičení 3.4.1: Obvod a obsah vybraného tělesa\n",
        "\n",
        "Napište program, který se zeptá na to, pro jaké těleso chce spočítat obvod a obsah. Program dá k dispozici uživateli následující tělesa:\n",
        "* čtverec\n",
        "* obdélník\n",
        "* kružnice\n",
        "\n",
        "Následně se program zeptá, zda chcete spočítat obvod nebo obsah. Podle výběru se zeptá na požadované hodnoty k výpočtu obvodu nebo obsahu a vypíše na obrazovku příslušnou informaci pro zvolené těleso. Pokud uživatel zadal jiné těleso než zmíněná tělesa, pak program vypíše hlášku o tom, že zadané těleso nebylo rozpoznáno. Pokud zadá něco jiného než obvod a obsah, tak vypíše na obrazovku obě informace."
      ]
    },
    {
      "cell_type": "code",
      "execution_count": null,
      "metadata": {},
      "outputs": [],
      "source": []
    },
    {
      "attachments": {},
      "cell_type": "markdown",
      "metadata": {},
      "source": [
        "#### Cvičení 3.4.2: Family link\n",
        "\n",
        "Family link je velice populární aplikace, díky které mohou rodiče zablokovat nebo omezit čas používání nějaké aplikace na mobilním telefonu svých dětí. Napište algoritmus, který realizuje přidávání nebo ubírání hodin k používání aplikace Tik Tok podle známky ze školy. Známku zadejte pomocí klávesnice. Konkrétně se program bude chovat následovně:\n",
        "* počáteční počet hodin jsou 2 hodiny\n",
        "* pokud student obdržel známku 4 nebo 5, pak program odečte jednu hodinu k dispozici\n",
        "* pokud student obdržel známku 2 nebo 3, pak program nic nedělá\n",
        "* pokud student obdržel známku 1, pak program přičte jednu hodinu k dispozici\n",
        "* pokud není známka v pořádku (něco jiného než 1 až 5), pak program zahlásí chybu\n",
        "* na konci program vypíše, kolik zbývá hodin k dispozici"
      ]
    },
    {
      "cell_type": "code",
      "execution_count": null,
      "metadata": {},
      "outputs": [],
      "source": []
    },
    {
      "attachments": {},
      "cell_type": "markdown",
      "metadata": {
        "id": "9TskPvmVKORx"
      },
      "source": [
        "### Téma 3.5 Ternární přiřazování\n",
        "\n",
        "Podmínku if můžete použít i při rozhodování o tom, jakou hodnotu nahrát do proměnné. Tomuto mechanismus se říká ternární přiřazování, jelikož zde vystupuje trojice: 2 hodnoty a podmínka. Například v následujícím programu se do proměnné drink nahraje hodnota \"Jupi dzus\" pokud je splněna podmínka, že věk je menší jak 18, jinak bude do proměnné nahrána hodnota \"Mojito\"."
      ]
    },
    {
      "cell_type": "code",
      "execution_count": null,
      "metadata": {
        "id": "aT705nyRKTzH"
      },
      "outputs": [],
      "source": [
        "vek = 15\n",
        "drink = \"Jupi dzus\" if vek < 18 else \"Mojito\""
      ]
    },
    {
      "attachments": {},
      "cell_type": "markdown",
      "metadata": {
        "id": "NB9gCxTJwUy4"
      },
      "source": [
        "Ternárního přiřazování lze používat i v interpolačních řetězcích. Všimněte si, že musíte použít druhý typ uvozovek, pokud se nachází uvozovky uvnitř vyhodnocovaného výrazu v interpolačním řetězci."
      ]
    },
    {
      "cell_type": "code",
      "execution_count": null,
      "metadata": {
        "colab": {
          "base_uri": "https://localhost:8080/",
          "height": 133
        },
        "id": "zSV5-MJ_xQhq",
        "outputId": "e1e8b70f-681e-44fe-f613-166b859944c9"
      },
      "outputs": [],
      "source": [
        "a = 3\n",
        "b = 4\n",
        "c = 5\n",
        "print(f\"Zadany trojuhelnik {'je' a**2 + b**2 == c**2 else 'není'} pravoúhlý.\")"
      ]
    },
    {
      "attachments": {},
      "cell_type": "markdown",
      "metadata": {
        "id": "TJVCkoN3zaV5"
      },
      "source": [
        "#### Cvičení 3.5.1: Obdélník je čtvercem\n",
        "\n",
        "Napište program, který přijme délku strany A a B obdélníka. To budou první dva řádky programu. Poté následuje už jen třetí poslední řádek kódu, který vytiskne na obrazovku, zda je zadané těleso čtverec nebo trojúhelník. Použijte ternární přiřazování ve výrazu v interpolačním řetězci."
      ]
    },
    {
      "cell_type": "code",
      "execution_count": null,
      "metadata": {
        "id": "YJTyBXjQz5po"
      },
      "outputs": [],
      "source": []
    },
    {
      "attachments": {},
      "cell_type": "markdown",
      "metadata": {
        "id": "-djbkLOhKp4e"
      },
      "source": [
        "### Domácí Úkoly 3"
      ]
    },
    {
      "attachments": {},
      "cell_type": "markdown",
      "metadata": {
        "id": "eq-2o-KjLHiG"
      },
      "source": [
        "#### Úkol 3.1 Hod šestistěnnou kostkou\n",
        "\n",
        "Napište program, který při počká na stisk klávesy enter a hodí šestistěnnou kostkou, tedy vygeneruje náhodné celé číslo v rozmezí 1 až 6. Pokud padne číslo 6, pak uživatel hází ještě jednou. Na konci se vypíše celkový součet naházený na kostce (minimálně tedy 1, maximálně 12)."
      ]
    },
    {
      "cell_type": "code",
      "execution_count": null,
      "metadata": {
        "id": "HHzCxwlbLHFM"
      },
      "outputs": [],
      "source": []
    },
    {
      "attachments": {},
      "cell_type": "markdown",
      "metadata": {
        "id": "SAUxDaB9splD"
      },
      "source": [
        "#### Úkol 3.2 Uhádni náhodné číslo\n",
        "\n",
        "Napište program, který vylosuje náhodně celé číslo v rozsahu 1 až 5. Uživatel následně hádá na klávesnici, jaké číslo se vylosovalo. Pokud se trefil, tak mu program pogratuluje. Pokud se netrefil, tak mu program pouze prozradí, zda bylo vylosované číslo větší nebo menší. Pokud napsal úplnou blbost, tak mu program vypíše, aby se naučil číst zadání."
      ]
    },
    {
      "cell_type": "code",
      "execution_count": null,
      "metadata": {
        "id": "a_C7OtW-LEEP"
      },
      "outputs": [],
      "source": []
    },
    {
      "attachments": {},
      "cell_type": "markdown",
      "metadata": {
        "id": "9LNOfEg-LEpM"
      },
      "source": [
        "#### Úkol 3.3 Je bod uvnitř kružnice?\n",
        "\n",
        "Napište program, který přijme následující informace od uživatele: souřadnice středu kružnice ve 2D (Sx, Sy), poloměr kružnice r a souřadnice bodu (x, y). Program následně zjistí, zda se nachází bod uvnitř kružnice, na hranici kružnice nebo je mimo kružnici.\n",
        "\n",
        "Nápověda:\n",
        "* Bod je mimo kružnici, pokud jeho vzdálenost od středu je menší než poloměr kružnice.\n",
        "* Bod je na hranici kružnice, pokud jeho vzdálenost od středu je rovna poloměru kruznice.\n",
        "* Bod je mimo kružnici, pokud jeho vzdálenost od středu je větší než poloměr kružnice.\n",
        "* Vzdálenost bodu od středu kružnice lze spočítat Pythagorovou větou."
      ]
    },
    {
      "cell_type": "code",
      "execution_count": null,
      "metadata": {
        "id": "lqp-k6cssuyv"
      },
      "outputs": [],
      "source": []
    },
    {
      "attachments": {},
      "cell_type": "markdown",
      "metadata": {
        "id": "irOUsZnCssvV"
      },
      "source": [
        "#### Úkol 3.4 Jedno kolo hry kámen-nůžky-papír\n",
        "\n",
        "Napište jednokolovou verzi hry kámen-nůzky-papír. Hráč si zvolí na klávesnici symbol K, N, P představující popořadě kámen, nůžky, papír. Počítač si následně náhodně vylosuje z těchto tří symbolů. Budete muset googlit, jak lze losovat náhodně z nějaké kolekce hodnot. Poté zjistí, kdo vyhrál a vypíše na obrazovku výsledek:\n",
        "* vyhrál hráč\n",
        "* vyhrál počítač\n",
        "* remíza"
      ]
    },
    {
      "cell_type": "code",
      "execution_count": null,
      "metadata": {
        "id": "sx12qR5xLJyr"
      },
      "outputs": [],
      "source": []
    },
    {
      "attachments": {},
      "cell_type": "markdown",
      "metadata": {},
      "source": [
        "#### Úkol 3.5 Výběr volitelných seminářů\n",
        "\n",
        "Určitě se i na vaší škole nabízí možnost vybrat si volitelný seminář v jednom z vyšších ročníků studia. Napište program, který pomůže rozhodnout studentovi o tom, jaký seminář si na vaší škole má vybrat. Vytvořte nějaký kreativní strom rozhodování."
      ]
    }
  ],
  "metadata": {
    "colab": {
      "authorship_tag": "ABX9TyNbkxQfcyh/00+2I2aycp61",
      "provenance": []
    },
    "kernelspec": {
      "display_name": "Python 3",
      "name": "python3"
    },
    "language_info": {
      "name": "python"
    }
  },
  "nbformat": 4,
  "nbformat_minor": 0
}
